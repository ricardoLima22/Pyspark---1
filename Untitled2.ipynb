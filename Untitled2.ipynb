{
 "cells": [
  {
   "cell_type": "code",
   "execution_count": 2,
   "id": "2ed866fb-cc8a-4684-869d-25dac8553bc3",
   "metadata": {},
   "outputs": [],
   "source": [
    "from pyspark.sql import SparkSession\n",
    "import pyspark.sql.functions as F"
   ]
  },
  {
   "cell_type": "code",
   "execution_count": 5,
   "id": "51d617c0-791a-4872-8e16-f0bdc1728e6d",
   "metadata": {},
   "outputs": [],
   "source": [
    "spark = ( SparkSession.builder.appName('teste')\n",
    ".config('spark.sql.repl.eagerEval.enabled', True)\n",
    ".getOrCreate()\n",
    "        )"
   ]
  },
  {
   "cell_type": "code",
   "execution_count": 16,
   "id": "bb9fd286-51a6-46d4-b829-eed6625f0b88",
   "metadata": {},
   "outputs": [],
   "source": [
    "clientes = spark.read.parquet('./Downloads/DATASETS/DATASETS/CLIENTES.parquet' , sep =\";\",inferSchema=True, header= True)\n",
    "autores = spark.read.parquet('./Downloads/DATASETS/DATASETS/AUTORES.parquet' , sep =\";\",inferSchema=True, header= True)\n",
    "livros = spark.read.parquet('./Downloads/DATASETS/DATASETS/LIVROS.parquet' , sep =\";\",inferSchema=True, header= True)\n"
   ]
  },
  {
   "cell_type": "code",
   "execution_count": 18,
   "id": "67396d83-eac7-4373-976b-0a555f1f71c0",
   "metadata": {},
   "outputs": [
    {
     "data": {
      "text/html": [
       "<table border='1'>\n",
       "<tr><th>id</th><th>cnpj_editora</th><th>data_lancamento</th><th>ean</th><th>isbn10</th><th>numero_paginas</th><th>preco</th></tr>\n",
       "<tr><td>102961160</td><td>54.317.982/0001-79</td><td>2011-09-19</td><td>4367115749184</td><td>0-06-594558-1</td><td>516</td><td>113.84</td></tr>\n",
       "<tr><td>043636240</td><td>16.938.042/0001-08</td><td>2019-05-11</td><td>1239569754256</td><td>0-611-23680-X</td><td>371</td><td>207.67</td></tr>\n",
       "<tr><td>052928059</td><td>57.624.038/0001-52</td><td>2003-08-03</td><td>5462162528221</td><td>1-109-29542-1</td><td>198</td><td>107.89</td></tr>\n",
       "<tr><td>088482271</td><td>16.249.378/0001-63</td><td>2022-09-07</td><td>5713629047213</td><td>1-229-68842-0</td><td>632</td><td>143.95</td></tr>\n",
       "<tr><td>028125446</td><td>90.425.178/0001-77</td><td>2011-07-25</td><td>2226757040245</td><td>0-657-66391-3</td><td>384</td><td>156.49</td></tr>\n",
       "<tr><td>055610005</td><td>20.756.194/0001-67</td><td>2006-03-22</td><td>2114468195241</td><td>0-455-43278-3</td><td>419</td><td>37.08</td></tr>\n",
       "<tr><td>049806867</td><td>93.617.240/0001-10</td><td>2022-02-17</td><td>3166123637398</td><td>1-4822-8784-6</td><td>378</td><td>162.97</td></tr>\n",
       "<tr><td>102803370</td><td>48.760.531/0001-09</td><td>2011-12-13</td><td>2550608407612</td><td>0-399-05121-X</td><td>732</td><td>75.62</td></tr>\n",
       "<tr><td>084858867</td><td>10.752.843/0001-06</td><td>2015-04-30</td><td>6207011925788</td><td>1-03-549652-6</td><td>635</td><td>237.67</td></tr>\n",
       "<tr><td>059303729</td><td>05.129.783/0001-21</td><td>2001-08-25</td><td>1641133648784</td><td>0-620-46508-5</td><td>107</td><td>61.41</td></tr>\n",
       "<tr><td>064175052</td><td>65.301.927/0001-07</td><td>2008-05-29</td><td>6905480714673</td><td>1-876722-64-9</td><td>795</td><td>85.56</td></tr>\n",
       "<tr><td>080608956</td><td>90.563.247/0001-09</td><td>2011-10-05</td><td>0332981484891</td><td>1-925760-25-1</td><td>203</td><td>107.63</td></tr>\n",
       "<tr><td>018453254</td><td>95.367.280/0001-87</td><td>2012-11-02</td><td>0507454098268</td><td>0-609-21722-4</td><td>043</td><td>52.94</td></tr>\n",
       "<tr><td>021765997</td><td>59.374.801/0001-60</td><td>2014-05-17</td><td>4743679337089</td><td>1-85580-232-5</td><td>499</td><td>143.43</td></tr>\n",
       "<tr><td>023911383</td><td>98.526.047/0001-98</td><td>2005-11-12</td><td>4165252098109</td><td>1-369-22273-4</td><td>599</td><td>121.0</td></tr>\n",
       "<tr><td>029667220</td><td>20.136.498/0001-21</td><td>2008-09-22</td><td>9813450961422</td><td>0-466-92503-4</td><td>474</td><td>175.32</td></tr>\n",
       "<tr><td>030099528</td><td>28.103.975/0001-64</td><td>2000-02-06</td><td>9164658045347</td><td>0-904222-71-3</td><td>292</td><td>208.39</td></tr>\n",
       "<tr><td>034553086</td><td>29.507.683/0001-50</td><td>2016-12-29</td><td>7318970609554</td><td>1-4989-7802-9</td><td>540</td><td>113.52</td></tr>\n",
       "<tr><td>035350343</td><td>25.491.073/0001-54</td><td>2003-11-29</td><td>7630092024962</td><td>1-957157-95-X</td><td>109</td><td>58.61</td></tr>\n",
       "<tr><td>017477529</td><td>39.507.184/0001-16</td><td>2005-09-23</td><td>5930606400018</td><td>1-393-77728-7</td><td>747</td><td>232.65</td></tr>\n",
       "</table>\n",
       "only showing top 20 rows\n"
      ],
      "text/plain": [
       "+---------+------------------+---------------+-------------+-------------+--------------+------+\n",
       "|       id|      cnpj_editora|data_lancamento|          ean|       isbn10|numero_paginas| preco|\n",
       "+---------+------------------+---------------+-------------+-------------+--------------+------+\n",
       "|102961160|54.317.982/0001-79|     2011-09-19|4367115749184|0-06-594558-1|           516|113.84|\n",
       "|043636240|16.938.042/0001-08|     2019-05-11|1239569754256|0-611-23680-X|           371|207.67|\n",
       "|052928059|57.624.038/0001-52|     2003-08-03|5462162528221|1-109-29542-1|           198|107.89|\n",
       "|088482271|16.249.378/0001-63|     2022-09-07|5713629047213|1-229-68842-0|           632|143.95|\n",
       "|028125446|90.425.178/0001-77|     2011-07-25|2226757040245|0-657-66391-3|           384|156.49|\n",
       "|055610005|20.756.194/0001-67|     2006-03-22|2114468195241|0-455-43278-3|           419| 37.08|\n",
       "|049806867|93.617.240/0001-10|     2022-02-17|3166123637398|1-4822-8784-6|           378|162.97|\n",
       "|102803370|48.760.531/0001-09|     2011-12-13|2550608407612|0-399-05121-X|           732| 75.62|\n",
       "|084858867|10.752.843/0001-06|     2015-04-30|6207011925788|1-03-549652-6|           635|237.67|\n",
       "|059303729|05.129.783/0001-21|     2001-08-25|1641133648784|0-620-46508-5|           107| 61.41|\n",
       "|064175052|65.301.927/0001-07|     2008-05-29|6905480714673|1-876722-64-9|           795| 85.56|\n",
       "|080608956|90.563.247/0001-09|     2011-10-05|0332981484891|1-925760-25-1|           203|107.63|\n",
       "|018453254|95.367.280/0001-87|     2012-11-02|0507454098268|0-609-21722-4|           043| 52.94|\n",
       "|021765997|59.374.801/0001-60|     2014-05-17|4743679337089|1-85580-232-5|           499|143.43|\n",
       "|023911383|98.526.047/0001-98|     2005-11-12|4165252098109|1-369-22273-4|           599| 121.0|\n",
       "|029667220|20.136.498/0001-21|     2008-09-22|9813450961422|0-466-92503-4|           474|175.32|\n",
       "|030099528|28.103.975/0001-64|     2000-02-06|9164658045347|0-904222-71-3|           292|208.39|\n",
       "|034553086|29.507.683/0001-50|     2016-12-29|7318970609554|1-4989-7802-9|           540|113.52|\n",
       "|035350343|25.491.073/0001-54|     2003-11-29|7630092024962|1-957157-95-X|           109| 58.61|\n",
       "|017477529|39.507.184/0001-16|     2005-09-23|5930606400018|1-393-77728-7|           747|232.65|\n",
       "+---------+------------------+---------------+-------------+-------------+--------------+------+\n",
       "only showing top 20 rows"
      ]
     },
     "execution_count": 18,
     "metadata": {},
     "output_type": "execute_result"
    }
   ],
   "source": [
    "livros"
   ]
  },
  {
   "cell_type": "code",
   "execution_count": 20,
   "id": "696fc6e6-698a-43b5-839b-2474bba7dd8e",
   "metadata": {},
   "outputs": [
    {
     "data": {
      "text/html": [
       "<table border='1'>\n",
       "<tr><th>id</th><th>titulo</th><th>autor</th></tr>\n",
       "<tr><td>106042959</td><td>1984 </td><td>George Orwell</td></tr>\n",
       "<tr><td>017551704</td><td>200 Crônicas Esco...</td><td>Rubem Braga</td></tr>\n",
       "<tr><td>054099410</td><td>A Alma Encantador...</td><td>João do Rio</td></tr>\n",
       "<tr><td>128422117</td><td>A Biblioteca da M...</td><td>Matt Haig</td></tr>\n",
       "<tr><td>049141399</td><td>A Coleira do Cão </td><td>Rubem Fonseca</td></tr>\n",
       "<tr><td>065490862</td><td>A Cor Púrpura </td><td>Alice Walker</td></tr>\n",
       "<tr><td>029077001</td><td>A Educação Sentim...</td><td>Gustave Flaubert</td></tr>\n",
       "<tr><td>032275599</td><td>A Escrava Isaura </td><td>Bernardo Guimarães</td></tr>\n",
       "<tr><td>090690941</td><td>A Estrela Sobe </td><td>Marques Rebelo</td></tr>\n",
       "<tr><td>095695255</td><td>A Hora da Estrela </td><td>Clarice Lispector</td></tr>\n",
       "<tr><td>036365230</td><td>A Hora dos Rumina...</td><td>José J. Veiga</td></tr>\n",
       "<tr><td>069146824</td><td>A Letra Escarlate </td><td>Nathaniel Hawthorne</td></tr>\n",
       "<tr><td>025903823</td><td>A Metamorfose </td><td>Franz Kafka</td></tr>\n",
       "<tr><td>015903574</td><td>A Montanha Mágica </td><td>Thomas Mann</td></tr>\n",
       "<tr><td>076938216</td><td>A Moreninha </td><td>Joaquim Manuel de...</td></tr>\n",
       "<tr><td>010325500</td><td>A Obscena Senhora D </td><td>Hilda Hilst</td></tr>\n",
       "<tr><td>095678890</td><td>A Paixão Segundo ...</td><td>Clarice Lispector</td></tr>\n",
       "<tr><td>073269564</td><td>A Revolução dos B...</td><td>George Orwell</td></tr>\n",
       "<tr><td>076121829</td><td>A Rosa do Povo </td><td>Carlos Drummond d...</td></tr>\n",
       "<tr><td>087365849</td><td>A Senhorita Simpson </td><td>Sérgio Sant’anna</td></tr>\n",
       "</table>\n",
       "only showing top 20 rows\n"
      ],
      "text/plain": [
       "+---------+--------------------+--------------------+\n",
       "|       id|              titulo|               autor|\n",
       "+---------+--------------------+--------------------+\n",
       "|106042959|               1984 |       George Orwell|\n",
       "|017551704|200 Crônicas Esco...|         Rubem Braga|\n",
       "|054099410|A Alma Encantador...|         João do Rio|\n",
       "|128422117|A Biblioteca da M...|           Matt Haig|\n",
       "|049141399|   A Coleira do Cão |       Rubem Fonseca|\n",
       "|065490862|      A Cor Púrpura |        Alice Walker|\n",
       "|029077001|A Educação Sentim...|    Gustave Flaubert|\n",
       "|032275599|   A Escrava Isaura |  Bernardo Guimarães|\n",
       "|090690941|     A Estrela Sobe |      Marques Rebelo|\n",
       "|095695255|  A Hora da Estrela |   Clarice Lispector|\n",
       "|036365230|A Hora dos Rumina...|       José J. Veiga|\n",
       "|069146824|  A Letra Escarlate | Nathaniel Hawthorne|\n",
       "|025903823|      A Metamorfose |         Franz Kafka|\n",
       "|015903574|  A Montanha Mágica |         Thomas Mann|\n",
       "|076938216|        A Moreninha |Joaquim Manuel de...|\n",
       "|010325500|A Obscena Senhora D |         Hilda Hilst|\n",
       "|095678890|A Paixão Segundo ...|   Clarice Lispector|\n",
       "|073269564|A Revolução dos B...|       George Orwell|\n",
       "|076121829|     A Rosa do Povo |Carlos Drummond d...|\n",
       "|087365849|A Senhorita Simpson |    Sérgio Sant’anna|\n",
       "+---------+--------------------+--------------------+\n",
       "only showing top 20 rows"
      ]
     },
     "execution_count": 20,
     "metadata": {},
     "output_type": "execute_result"
    }
   ],
   "source": [
    "autores"
   ]
  },
  {
   "cell_type": "code",
   "execution_count": 104,
   "id": "5883f4e9-85c3-4066-9cc8-68f47db9f6a6",
   "metadata": {},
   "outputs": [],
   "source": [
    "df = livros.where(F.year(\"data_lancamento\").between(2020,2023))"
   ]
  },
  {
   "cell_type": "code",
   "execution_count": 106,
   "id": "352e6359-0a5e-445f-b2ea-13e804cec027",
   "metadata": {},
   "outputs": [
    {
     "data": {
      "text/html": [
       "<table border='1'>\n",
       "<tr><th>id</th><th>titulo</th><th>autor</th><th>cnpj_editora</th><th>data_lancamento</th><th>ean</th><th>isbn10</th><th>numero_paginas</th><th>preco</th></tr>\n",
       "<tr><td>010366161</td><td>Lucíola </td><td>José de Alencar</td><td>70.293.541/0001-30</td><td>2022-02-18</td><td>9429320742345</td><td>0-356-75493-6</td><td>968</td><td>200.6</td></tr>\n",
       "<tr><td>034173770</td><td>Viva Vaia </td><td>Augusto de Campos</td><td>42.036.185/0001-34</td><td>2022-11-21</td><td>6414689158305</td><td>0-06-622504-3</td><td>433</td><td>83.01</td></tr>\n",
       "<tr><td>022112497</td><td>Mrs Dalloway </td><td>Virginia Woolf</td><td>82.074.936/0001-21</td><td>2021-01-06</td><td>5078165920063</td><td>0-7763-1592-7</td><td>799</td><td>10.84</td></tr>\n",
       "<tr><td>019142836</td><td>Laços de Família </td><td>Clarice Lispector</td><td>38.124.956/0001-78</td><td>2020-10-17</td><td>9934905547333</td><td>1-899893-19-9</td><td>764</td><td>115.37</td></tr>\n",
       "<tr><td>036059407</td><td>As Histórias Comp...</td><td>Franz Kafka</td><td>97.230.418/0001-27</td><td>2021-01-20</td><td>5318278006040</td><td>1-4565-9536-9</td><td>527</td><td>222.98</td></tr>\n",
       "<tr><td>028362788</td><td>O Processo </td><td>Franz Kafka</td><td>65.147.039/0001-81</td><td>2022-03-02</td><td>4134991058347</td><td>1-344-21102-X</td><td>335</td><td>192.43</td></tr>\n",
       "<tr><td>064467401</td><td>Lira dos Vinte Anos </td><td>Álvares de Azevedo</td><td>67.240.351/0001-40</td><td>2020-06-06</td><td>2410531955188</td><td>0-00-639232-6</td><td>788</td><td>204.68</td></tr>\n",
       "</table>\n"
      ],
      "text/plain": [
       "+---------+--------------------+------------------+------------------+---------------+-------------+-------------+--------------+------+\n",
       "|       id|              titulo|             autor|      cnpj_editora|data_lancamento|          ean|       isbn10|numero_paginas| preco|\n",
       "+---------+--------------------+------------------+------------------+---------------+-------------+-------------+--------------+------+\n",
       "|010366161|            Lucíola |   José de Alencar|70.293.541/0001-30|     2022-02-18|9429320742345|0-356-75493-6|           968| 200.6|\n",
       "|034173770|          Viva Vaia | Augusto de Campos|42.036.185/0001-34|     2022-11-21|6414689158305|0-06-622504-3|           433| 83.01|\n",
       "|022112497|       Mrs Dalloway |    Virginia Woolf|82.074.936/0001-21|     2021-01-06|5078165920063|0-7763-1592-7|           799| 10.84|\n",
       "|019142836|   Laços de Família | Clarice Lispector|38.124.956/0001-78|     2020-10-17|9934905547333|1-899893-19-9|           764|115.37|\n",
       "|036059407|As Histórias Comp...|       Franz Kafka|97.230.418/0001-27|     2021-01-20|5318278006040|1-4565-9536-9|           527|222.98|\n",
       "|028362788|         O Processo |       Franz Kafka|65.147.039/0001-81|     2022-03-02|4134991058347|1-344-21102-X|           335|192.43|\n",
       "|064467401|Lira dos Vinte Anos |Álvares de Azevedo|67.240.351/0001-40|     2020-06-06|2410531955188|0-00-639232-6|           788|204.68|\n",
       "+---------+--------------------+------------------+------------------+---------------+-------------+-------------+--------------+------+"
      ]
     },
     "execution_count": 106,
     "metadata": {},
     "output_type": "execute_result"
    }
   ],
   "source": [
    "df1 = autores.join(df, \"id\", \"inner\")\n",
    "df1"
   ]
  },
  {
   "cell_type": "code",
   "execution_count": 149,
   "id": "d4fa3932-784b-446b-bd12-ab209d3458e6",
   "metadata": {},
   "outputs": [
    {
     "data": {
      "text/html": [
       "<table border='1'>\n",
       "<tr><th>titulo</th><th>2020</th><th>2021</th><th>2022</th></tr>\n",
       "<tr><td>Mrs Dalloway </td><td>null</td><td>1</td><td>null</td></tr>\n",
       "<tr><td>Laços de Família </td><td>1</td><td>null</td><td>null</td></tr>\n",
       "<tr><td>As Histórias Comp...</td><td>null</td><td>1</td><td>null</td></tr>\n",
       "<tr><td>Lira dos Vinte Anos </td><td>1</td><td>null</td><td>null</td></tr>\n",
       "<tr><td>O Processo </td><td>null</td><td>null</td><td>1</td></tr>\n",
       "<tr><td>Viva Vaia </td><td>null</td><td>null</td><td>1</td></tr>\n",
       "<tr><td>Lucíola </td><td>null</td><td>null</td><td>1</td></tr>\n",
       "</table>\n"
      ],
      "text/plain": [
       "+--------------------+----+----+----+\n",
       "|              titulo|2020|2021|2022|\n",
       "+--------------------+----+----+----+\n",
       "|       Mrs Dalloway |null|   1|null|\n",
       "|   Laços de Família |   1|null|null|\n",
       "|As Histórias Comp...|null|   1|null|\n",
       "|Lira dos Vinte Anos |   1|null|null|\n",
       "|         O Processo |null|null|   1|\n",
       "|          Viva Vaia |null|null|   1|\n",
       "|            Lucíola |null|null|   1|\n",
       "+--------------------+----+----+----+"
      ]
     },
     "execution_count": 149,
     "metadata": {},
     "output_type": "execute_result"
    }
   ],
   "source": [
    "(\n",
    "    df1\n",
    "    .withColumn(\"ano\", F.year(\"data_lancamento\"))\n",
    "    .groupby(\"titulo\")\n",
    "    .pivot(\"ano\")\n",
    "    .count()\n",
    "    # .groupBy(\"data_lancamento\")\n",
    "    # .orderBy(F.asc(\"data_lancamento\"))\n",
    "    \n",
    ")"
   ]
  },
  {
   "cell_type": "code",
   "execution_count": null,
   "id": "f8f53b00-7bac-41cb-afa0-054da0cabd37",
   "metadata": {},
   "outputs": [],
   "source": []
  },
  {
   "cell_type": "code",
   "execution_count": null,
   "id": "4f2126f8-302e-4c2a-84aa-cfe587cb37a1",
   "metadata": {},
   "outputs": [],
   "source": [
    " "
   ]
  }
 ],
 "metadata": {
  "kernelspec": {
   "display_name": "Python 3 (ipykernel)",
   "language": "python",
   "name": "python3"
  },
  "language_info": {
   "codemirror_mode": {
    "name": "ipython",
    "version": 3
   },
   "file_extension": ".py",
   "mimetype": "text/x-python",
   "name": "python",
   "nbconvert_exporter": "python",
   "pygments_lexer": "ipython3",
   "version": "3.12.4"
  }
 },
 "nbformat": 4,
 "nbformat_minor": 5
}
