{
 "cells": [
  {
   "cell_type": "code",
   "execution_count": 3,
   "id": "360b728e-c49a-4c3b-9260-837e4e27dde7",
   "metadata": {},
   "outputs": [],
   "source": [
    "from pyspark.sql import SparkSession\n",
    "import pyspark.sql.functions as F"
   ]
  },
  {
   "cell_type": "code",
   "execution_count": 5,
   "id": "5b4fc379-ceb6-4797-a110-c0e3d51db76e",
   "metadata": {},
   "outputs": [],
   "source": [
    "spark = ( SparkSession.builder.appName('op')\n",
    ".config('spark.sql.repl.eagerEval.enabled', True)\n",
    ".getOrCreate()\n",
    "        )"
   ]
  },
  {
   "cell_type": "code",
   "execution_count": 6,
   "id": "86ccf456-281e-4c90-8871-513abe757543",
   "metadata": {},
   "outputs": [],
   "source": [
    "df = spark.read.parquet('./Downloads/DATASETS/DATASETS/LOGINS.parquet' , sep =\";\",inferSchema=True, header= True)"
   ]
  },
  {
   "cell_type": "code",
   "execution_count": null,
   "id": "3989fd3c-603a-4a73-9e18-98714ce4a6ab",
   "metadata": {},
   "outputs": [],
   "source": [
    "df.orderBy(F.desc(\"data_cadastro\"))"
   ]
  },
  {
   "cell_type": "code",
   "execution_count": 13,
   "id": "490e3632-c8d7-461a-8249-bd996e1ee9dc",
   "metadata": {},
   "outputs": [
    {
     "data": {
      "text/html": [
       "<table border='1'>\n",
       "<tr><th>estado</th><th>cor_favorita</th><th>count</th></tr>\n",
       "<tr><td>RJ</td><td>Azul</td><td>4</td></tr>\n",
       "<tr><td>RJ</td><td>Preto</td><td>2</td></tr>\n",
       "<tr><td>RJ</td><td>Violeta</td><td>5</td></tr>\n",
       "<tr><td>RJ</td><td>Laranja</td><td>1</td></tr>\n",
       "<tr><td>RJ</td><td>Branco</td><td>6</td></tr>\n",
       "<tr><td>RJ</td><td>Ciano</td><td>4</td></tr>\n",
       "<tr><td>RJ</td><td>Cinza</td><td>1</td></tr>\n",
       "<tr><td>RJ</td><td>Amarelo</td><td>2</td></tr>\n",
       "<tr><td>RJ</td><td>Rosa</td><td>3</td></tr>\n",
       "<tr><td>RJ</td><td>Verde Escuro</td><td>1</td></tr>\n",
       "<tr><td>RJ</td><td>Verde Claro</td><td>3</td></tr>\n",
       "<tr><td>RJ</td><td>Marrom</td><td>1</td></tr>\n",
       "<tr><td>RJ</td><td>Magenta</td><td>1</td></tr>\n",
       "<tr><td>RJ</td><td>Verde</td><td>3</td></tr>\n",
       "<tr><td>RJ</td><td>Azul Escuro</td><td>2</td></tr>\n",
       "<tr><td>RJ</td><td>Roxo</td><td>1</td></tr>\n",
       "</table>\n"
      ],
      "text/plain": [
       "+------+------------+-----+\n",
       "|estado|cor_favorita|count|\n",
       "+------+------------+-----+\n",
       "|    RJ|        Azul|    4|\n",
       "|    RJ|       Preto|    2|\n",
       "|    RJ|     Violeta|    5|\n",
       "|    RJ|     Laranja|    1|\n",
       "|    RJ|      Branco|    6|\n",
       "|    RJ|       Ciano|    4|\n",
       "|    RJ|       Cinza|    1|\n",
       "|    RJ|     Amarelo|    2|\n",
       "|    RJ|        Rosa|    3|\n",
       "|    RJ|Verde Escuro|    1|\n",
       "|    RJ| Verde Claro|    3|\n",
       "|    RJ|      Marrom|    1|\n",
       "|    RJ|     Magenta|    1|\n",
       "|    RJ|       Verde|    3|\n",
       "|    RJ| Azul Escuro|    2|\n",
       "|    RJ|        Roxo|    1|\n",
       "+------+------------+-----+"
      ]
     },
     "execution_count": 13,
     "metadata": {},
     "output_type": "execute_result"
    }
   ],
   "source": [
    "df.groupBy('estado','cor_favorita').count().where(df.estado ==\"RJ\")"
   ]
  },
  {
   "cell_type": "code",
   "execution_count": 15,
   "id": "ccdea337-b8b3-4936-afaa-ab9f2484df38",
   "metadata": {},
   "outputs": [
    {
     "data": {
      "text/html": [
       "<table border='1'>\n",
       "<tr><th>estado</th><th>count</th></tr>\n",
       "<tr><td>RJ</td><td>40</td></tr>\n",
       "</table>\n"
      ],
      "text/plain": [
       "+------+-----+\n",
       "|estado|count|\n",
       "+------+-----+\n",
       "|    RJ|   40|\n",
       "+------+-----+"
      ]
     },
     "execution_count": 15,
     "metadata": {},
     "output_type": "execute_result"
    }
   ],
   "source": [
    "df.groupBy(df.estado).count().where(df.estado ==\"RJ\")"
   ]
  },
  {
   "cell_type": "code",
   "execution_count": null,
   "id": "de50b73c-7711-4604-8ddb-1d07017a3819",
   "metadata": {},
   "outputs": [],
   "source": []
  },
  {
   "cell_type": "code",
   "execution_count": null,
   "id": "9fbd652f-36fc-4b2e-a0d5-f845d2b39092",
   "metadata": {},
   "outputs": [],
   "source": [
    "df.groupBy('estado','cor_favorita').count().groupBy('estado').avg('count')"
   ]
  },
  {
   "cell_type": "code",
   "execution_count": null,
   "id": "dcc0d422-dc3b-4519-9976-b5c0c6b11da2",
   "metadata": {},
   "outputs": [],
   "source": [
    "df.groupBy('estado','cor_favorita').count().groupBy('estado').min()"
   ]
  },
  {
   "cell_type": "code",
   "execution_count": null,
   "id": "da6ea841-6030-49ae-a6a2-041ca3024d41",
   "metadata": {},
   "outputs": [],
   "source": [
    "df.groupBy('estado','cor_favorita').count().groupBy('estado').max().orderBy(F.desc(\"max(count)\"))"
   ]
  },
  {
   "cell_type": "code",
   "execution_count": null,
   "id": "58669a3d-89c6-4ccd-a4e8-6aff944b20a4",
   "metadata": {},
   "outputs": [],
   "source": [
    "df.groupBy(F.year(\"data_de_nascimento\")).count()"
   ]
  },
  {
   "cell_type": "code",
   "execution_count": null,
   "id": "050c1606-453f-4d91-84a5-c39495d4a12a",
   "metadata": {},
   "outputs": [],
   "source": [
    "# df = df.withColumn(\"num\", F.date_format(df.data_de_nascimento, 'd'))\n",
    "df.filter(df.cpf.isin(\"981.507.362-12\"))"
   ]
  },
  {
   "cell_type": "code",
   "execution_count": null,
   "id": "ed38f8f7-9cc6-4aaf-aeea-b00e61c06540",
   "metadata": {},
   "outputs": [],
   "source": [
    "df"
   ]
  },
  {
   "cell_type": "code",
   "execution_count": null,
   "id": "f5e773ec-a9ea-41af-a0d5-4e0ca6b2234a",
   "metadata": {},
   "outputs": [],
   "source": [
    "df.groupBy('cor_favorita').agg(F.count('*'), F.sum('num'), F.avg('num'))"
   ]
  },
  {
   "cell_type": "code",
   "execution_count": null,
   "id": "ba6e82e3-c1cc-4f9c-aabd-2a6531e16e90",
   "metadata": {},
   "outputs": [],
   "source": []
  }
 ],
 "metadata": {
  "kernelspec": {
   "display_name": "Python 3 (ipykernel)",
   "language": "python",
   "name": "python3"
  },
  "language_info": {
   "codemirror_mode": {
    "name": "ipython",
    "version": 3
   },
   "file_extension": ".py",
   "mimetype": "text/x-python",
   "name": "python",
   "nbconvert_exporter": "python",
   "pygments_lexer": "ipython3",
   "version": "3.12.4"
  }
 },
 "nbformat": 4,
 "nbformat_minor": 5
}
