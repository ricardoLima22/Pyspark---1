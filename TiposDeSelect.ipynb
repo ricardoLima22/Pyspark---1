{
 "cells": [
  {
   "cell_type": "code",
   "execution_count": 3,
   "id": "95d8b705-8c9f-4780-ad3a-bced29a5713a",
   "metadata": {
    "editable": true,
    "slideshow": {
     "slide_type": ""
    },
    "tags": []
   },
   "outputs": [],
   "source": [
    "from pyspark.sql import SparkSession"
   ]
  },
  {
   "cell_type": "code",
   "execution_count": 18,
   "id": "602c250a-5108-4ecb-9553-a3779f15cd6d",
   "metadata": {
    "editable": true,
    "slideshow": {
     "slide_type": ""
    },
    "tags": []
   },
   "outputs": [],
   "source": [
    "spark = ( SparkSession.builder.appName('op')\n",
    ".config('spark.sql.repl.eagerEval.enabled', True)\n",
    ".getOrCreate()\n",
    "        )"
   ]
  },
  {
   "cell_type": "code",
   "execution_count": 20,
   "id": "6fe1d24d-18b2-44c3-9451-a91810701777",
   "metadata": {},
   "outputs": [
    {
     "data": {
      "text/html": [
       "\n",
       "            <div>\n",
       "                <p><b>SparkSession - in-memory</b></p>\n",
       "                \n",
       "        <div>\n",
       "            <p><b>SparkContext</b></p>\n",
       "\n",
       "            <p><a href=\"http://DESKTOP-3A6CJDP:4042\">Spark UI</a></p>\n",
       "\n",
       "            <dl>\n",
       "              <dt>Version</dt>\n",
       "                <dd><code>v3.3.2</code></dd>\n",
       "              <dt>Master</dt>\n",
       "                <dd><code>local[*]</code></dd>\n",
       "              <dt>AppName</dt>\n",
       "                <dd><code>teste</code></dd>\n",
       "            </dl>\n",
       "        </div>\n",
       "        \n",
       "            </div>\n",
       "        "
      ],
      "text/plain": [
       "<pyspark.sql.session.SparkSession at 0x1af45081310>"
      ]
     },
     "execution_count": 20,
     "metadata": {},
     "output_type": "execute_result"
    }
   ],
   "source": [
    "spark"
   ]
  },
  {
   "cell_type": "code",
   "execution_count": 16,
   "id": "891614b5-e0a0-4dfb-ad21-8f8378e4fb45",
   "metadata": {
    "editable": true,
    "slideshow": {
     "slide_type": ""
    },
    "tags": []
   },
   "outputs": [],
   "source": [
    "df = spark.read.parquet('./Downloads/DATASETS/DATASETS/LOGINS.parquet' , sep =\";\",inferSchema=True, header= True)"
   ]
  },
  {
   "cell_type": "code",
   "execution_count": 24,
   "id": "0069524c-0735-476d-a0ec-15222e0592d0",
   "metadata": {},
   "outputs": [],
   "source": [
    "import pyspark.sql.functions as F"
   ]
  },
  {
   "cell_type": "code",
   "execution_count": 28,
   "id": "14ddecd4-9345-4596-81d9-83eec4c7b590",
   "metadata": {},
   "outputs": [
    {
     "data": {
      "text/html": [
       "<table border='1'>\n",
       "<tr><th>email</th></tr>\n",
       "<tr><td>pedro-lucas53@gma...</td></tr>\n",
       "<tr><td>rezendeisaac@hotm...</td></tr>\n",
       "<tr><td>felipepires@uol.c...</td></tr>\n",
       "<tr><td>stellamoraes@bol....</td></tr>\n",
       "<tr><td>wcarvalho@ig.com.br</td></tr>\n",
       "<tr><td>da-conceicaodavi-...</td></tr>\n",
       "<tr><td>efreitas@bol.com.br</td></tr>\n",
       "<tr><td>wnunes@bol.com.br</td></tr>\n",
       "<tr><td>jribeiro@bol.com.br</td></tr>\n",
       "<tr><td>murilo05@gmail.com</td></tr>\n",
       "<tr><td>joaquim57@ig.com.br</td></tr>\n",
       "<tr><td>alexiada-rocha@ig...</td></tr>\n",
       "<tr><td>pmendes@gmail.com</td></tr>\n",
       "<tr><td>renan46@bol.com.br</td></tr>\n",
       "<tr><td>manuelada-rosa@ho...</td></tr>\n",
       "<tr><td>usales@ig.com.br</td></tr>\n",
       "<tr><td>pereiranicolas@ho...</td></tr>\n",
       "<tr><td>cardosolivia@ig.c...</td></tr>\n",
       "<tr><td>brenda39@ig.com.br</td></tr>\n",
       "<tr><td>luizapeixoto@gmai...</td></tr>\n",
       "</table>\n",
       "only showing top 20 rows\n"
      ],
      "text/plain": [
       "+--------------------+\n",
       "|               email|\n",
       "+--------------------+\n",
       "|pedro-lucas53@gma...|\n",
       "|rezendeisaac@hotm...|\n",
       "|felipepires@uol.c...|\n",
       "|stellamoraes@bol....|\n",
       "| wcarvalho@ig.com.br|\n",
       "|da-conceicaodavi-...|\n",
       "| efreitas@bol.com.br|\n",
       "|   wnunes@bol.com.br|\n",
       "| jribeiro@bol.com.br|\n",
       "|  murilo05@gmail.com|\n",
       "| joaquim57@ig.com.br|\n",
       "|alexiada-rocha@ig...|\n",
       "|   pmendes@gmail.com|\n",
       "|  renan46@bol.com.br|\n",
       "|manuelada-rosa@ho...|\n",
       "|    usales@ig.com.br|\n",
       "|pereiranicolas@ho...|\n",
       "|cardosolivia@ig.c...|\n",
       "|  brenda39@ig.com.br|\n",
       "|luizapeixoto@gmai...|\n",
       "+--------------------+\n",
       "only showing top 20 rows"
      ]
     },
     "execution_count": 28,
     "metadata": {},
     "output_type": "execute_result"
    }
   ],
   "source": [
    "df.select(F.col('email'))"
   ]
  },
  {
   "cell_type": "code",
   "execution_count": 42,
   "id": "ddf3ef48-67f9-4087-a10c-cc32a9db1465",
   "metadata": {},
   "outputs": [],
   "source": [
    "df2 = df.drop('email','estado','senha')"
   ]
  },
  {
   "cell_type": "code",
   "execution_count": 44,
   "id": "0464432d-0e22-4649-975d-c0683be19430",
   "metadata": {},
   "outputs": [
    {
     "data": {
      "text/html": [
       "<table border='1'>\n",
       "<tr><th>cpf</th><th>data_de_nascimento</th><th>data_cadastro</th><th>ipv4</th><th>cor_favorita</th><th>profissao</th><th>telefone</th></tr>\n",
       "<tr><td>981.507.362-12</td><td>2006-12-18</td><td>2023-02-26</td><td>99.107.250.210</td><td>Roxo</td><td>Jogador De Golfe</td><td>31 7785-4046</td></tr>\n",
       "<tr><td>493.705.168-75</td><td>1992-06-17</td><td>2023-02-16</td><td>197.11.26.213</td><td>Ciano</td><td>Atleta De Arremes...</td><td>(031) 0803-6753</td></tr>\n",
       "<tr><td>398.471.625-73</td><td>1921-11-11</td><td>2023-01-02</td><td>181.90.63.58</td><td>Azul</td><td>Papiloscopista</td><td>11 9674-0553</td></tr>\n",
       "<tr><td>092.618.354-06</td><td>2021-06-01</td><td>2023-01-08</td><td>26.121.127.94</td><td>Marrom</td><td>Aeromoça</td><td>+55 (071) 3033 9177</td></tr>\n",
       "<tr><td>509.427.136-99</td><td>1969-10-28</td><td>2023-02-14</td><td>76.184.52.163</td><td>Laranja</td><td>Fonoaudiólogo</td><td>+55 (071) 6272 2468</td></tr>\n",
       "<tr><td>218.795.460-94</td><td>1986-05-19</td><td>2023-03-07</td><td>192.93.0.24</td><td>Rosa</td><td>Taxista</td><td>+55 84 0652 9691</td></tr>\n",
       "<tr><td>715.836.940-48</td><td>2018-04-20</td><td>2023-01-13</td><td>76.251.188.148</td><td>Branco</td><td>Produtor De Audio...</td><td>+55 (084) 1363 0052</td></tr>\n",
       "<tr><td>475.698.032-56</td><td>1996-05-12</td><td>2023-02-04</td><td>139.196.176.154</td><td>Azul</td><td>Cadeirinha</td><td>(071) 1640-3388</td></tr>\n",
       "<tr><td>217.639.540-99</td><td>2021-10-05</td><td>2023-03-02</td><td>71.22.224.5</td><td>Marrom</td><td>Geólogo</td><td>21 1432 4092</td></tr>\n",
       "<tr><td>261.938.750-77</td><td>1917-01-05</td><td>2023-02-21</td><td>136.54.123.165</td><td>Marrom</td><td>Técnico De Som</td><td>+55 (084) 5878-3346</td></tr>\n",
       "<tr><td>520.831.796-68</td><td>1912-05-25</td><td>2023-01-25</td><td>78.196.255.126</td><td>Rosa</td><td>Esteticista</td><td>41 7914-3753</td></tr>\n",
       "<tr><td>413.087.526-44</td><td>1920-05-26</td><td>2023-02-18</td><td>182.61.65.201</td><td>Laranja</td><td>Microfonista</td><td>(021) 3739-2944</td></tr>\n",
       "<tr><td>509.287.143-14</td><td>1938-03-11</td><td>2023-01-19</td><td>61.234.208.17</td><td>Verde Claro</td><td>Fiscal</td><td>+55 (084) 5940-1932</td></tr>\n",
       "<tr><td>563.170.492-70</td><td>1922-09-01</td><td>2023-02-01</td><td>122.203.83.177</td><td>Verde Escuro</td><td>Contabilista</td><td>+55 41 6248 5773</td></tr>\n",
       "<tr><td>098.712.346-78</td><td>2013-01-10</td><td>2023-01-07</td><td>175.18.73.211</td><td>Violeta</td><td>Seguidor De Compras</td><td>51 0278 0564</td></tr>\n",
       "<tr><td>345.709.261-34</td><td>1992-10-16</td><td>2023-01-05</td><td>97.93.29.75</td><td>Rosa</td><td>Almirante</td><td>(084) 8993-4521</td></tr>\n",
       "<tr><td>318.254.906-51</td><td>1945-11-18</td><td>2023-01-24</td><td>182.195.33.137</td><td>Amarelo</td><td>Consultor De Moda</td><td>(084) 4591 3795</td></tr>\n",
       "<tr><td>610.287.453-62</td><td>1915-11-15</td><td>2023-01-22</td><td>195.194.63.184</td><td>Laranja</td><td>Barbeiro</td><td>+55 61 8967-9563</td></tr>\n",
       "<tr><td>615.790.842-49</td><td>1964-02-01</td><td>2023-02-16</td><td>21.252.226.29</td><td>Branco</td><td>Promotor De Vendas</td><td>+55 (021) 4751 2004</td></tr>\n",
       "<tr><td>624.095.138-24</td><td>1959-02-01</td><td>2023-02-25</td><td>105.107.23.13</td><td>Ciano</td><td>Implantodontista</td><td>84 1293 1906</td></tr>\n",
       "</table>\n",
       "only showing top 20 rows\n"
      ],
      "text/plain": [
       "+--------------+------------------+-------------+---------------+------------+--------------------+-------------------+\n",
       "|           cpf|data_de_nascimento|data_cadastro|           ipv4|cor_favorita|           profissao|           telefone|\n",
       "+--------------+------------------+-------------+---------------+------------+--------------------+-------------------+\n",
       "|981.507.362-12|        2006-12-18|   2023-02-26| 99.107.250.210|        Roxo|    Jogador De Golfe|       31 7785-4046|\n",
       "|493.705.168-75|        1992-06-17|   2023-02-16|  197.11.26.213|       Ciano|Atleta De Arremes...|    (031) 0803-6753|\n",
       "|398.471.625-73|        1921-11-11|   2023-01-02|   181.90.63.58|        Azul|      Papiloscopista|       11 9674-0553|\n",
       "|092.618.354-06|        2021-06-01|   2023-01-08|  26.121.127.94|      Marrom|            Aeromoça|+55 (071) 3033 9177|\n",
       "|509.427.136-99|        1969-10-28|   2023-02-14|  76.184.52.163|     Laranja|       Fonoaudiólogo|+55 (071) 6272 2468|\n",
       "|218.795.460-94|        1986-05-19|   2023-03-07|    192.93.0.24|        Rosa|             Taxista|   +55 84 0652 9691|\n",
       "|715.836.940-48|        2018-04-20|   2023-01-13| 76.251.188.148|      Branco|Produtor De Audio...|+55 (084) 1363 0052|\n",
       "|475.698.032-56|        1996-05-12|   2023-02-04|139.196.176.154|        Azul|          Cadeirinha|    (071) 1640-3388|\n",
       "|217.639.540-99|        2021-10-05|   2023-03-02|    71.22.224.5|      Marrom|             Geólogo|       21 1432 4092|\n",
       "|261.938.750-77|        1917-01-05|   2023-02-21| 136.54.123.165|      Marrom|      Técnico De Som|+55 (084) 5878-3346|\n",
       "|520.831.796-68|        1912-05-25|   2023-01-25| 78.196.255.126|        Rosa|         Esteticista|       41 7914-3753|\n",
       "|413.087.526-44|        1920-05-26|   2023-02-18|  182.61.65.201|     Laranja|        Microfonista|    (021) 3739-2944|\n",
       "|509.287.143-14|        1938-03-11|   2023-01-19|  61.234.208.17| Verde Claro|              Fiscal|+55 (084) 5940-1932|\n",
       "|563.170.492-70|        1922-09-01|   2023-02-01| 122.203.83.177|Verde Escuro|        Contabilista|   +55 41 6248 5773|\n",
       "|098.712.346-78|        2013-01-10|   2023-01-07|  175.18.73.211|     Violeta| Seguidor De Compras|       51 0278 0564|\n",
       "|345.709.261-34|        1992-10-16|   2023-01-05|    97.93.29.75|        Rosa|           Almirante|    (084) 8993-4521|\n",
       "|318.254.906-51|        1945-11-18|   2023-01-24| 182.195.33.137|     Amarelo|   Consultor De Moda|    (084) 4591 3795|\n",
       "|610.287.453-62|        1915-11-15|   2023-01-22| 195.194.63.184|     Laranja|            Barbeiro|   +55 61 8967-9563|\n",
       "|615.790.842-49|        1964-02-01|   2023-02-16|  21.252.226.29|      Branco|  Promotor De Vendas|+55 (021) 4751 2004|\n",
       "|624.095.138-24|        1959-02-01|   2023-02-25|  105.107.23.13|       Ciano|    Implantodontista|       84 1293 1906|\n",
       "+--------------+------------------+-------------+---------------+------------+--------------------+-------------------+\n",
       "only showing top 20 rows"
      ]
     },
     "execution_count": 44,
     "metadata": {},
     "output_type": "execute_result"
    }
   ],
   "source": [
    "df2"
   ]
  },
  {
   "cell_type": "code",
   "execution_count": 32,
   "id": "81ec6ff6-784b-448c-bdf5-1468dd19cdae",
   "metadata": {
    "editable": true,
    "slideshow": {
     "slide_type": ""
    },
    "tags": []
   },
   "outputs": [
    {
     "data": {
      "text/html": [
       "<table border='1'>\n",
       "<tr><th>email</th></tr>\n",
       "<tr><td>pedro-lucas53@gma...</td></tr>\n",
       "<tr><td>rezendeisaac@hotm...</td></tr>\n",
       "<tr><td>felipepires@uol.c...</td></tr>\n",
       "<tr><td>stellamoraes@bol....</td></tr>\n",
       "<tr><td>wcarvalho@ig.com.br</td></tr>\n",
       "<tr><td>da-conceicaodavi-...</td></tr>\n",
       "<tr><td>efreitas@bol.com.br</td></tr>\n",
       "<tr><td>wnunes@bol.com.br</td></tr>\n",
       "<tr><td>jribeiro@bol.com.br</td></tr>\n",
       "<tr><td>murilo05@gmail.com</td></tr>\n",
       "<tr><td>joaquim57@ig.com.br</td></tr>\n",
       "<tr><td>alexiada-rocha@ig...</td></tr>\n",
       "<tr><td>pmendes@gmail.com</td></tr>\n",
       "<tr><td>renan46@bol.com.br</td></tr>\n",
       "<tr><td>manuelada-rosa@ho...</td></tr>\n",
       "<tr><td>usales@ig.com.br</td></tr>\n",
       "<tr><td>pereiranicolas@ho...</td></tr>\n",
       "<tr><td>cardosolivia@ig.c...</td></tr>\n",
       "<tr><td>brenda39@ig.com.br</td></tr>\n",
       "<tr><td>luizapeixoto@gmai...</td></tr>\n",
       "</table>\n",
       "only showing top 20 rows\n"
      ],
      "text/plain": [
       "+--------------------+\n",
       "|               email|\n",
       "+--------------------+\n",
       "|pedro-lucas53@gma...|\n",
       "|rezendeisaac@hotm...|\n",
       "|felipepires@uol.c...|\n",
       "|stellamoraes@bol....|\n",
       "| wcarvalho@ig.com.br|\n",
       "|da-conceicaodavi-...|\n",
       "| efreitas@bol.com.br|\n",
       "|   wnunes@bol.com.br|\n",
       "| jribeiro@bol.com.br|\n",
       "|  murilo05@gmail.com|\n",
       "| joaquim57@ig.com.br|\n",
       "|alexiada-rocha@ig...|\n",
       "|   pmendes@gmail.com|\n",
       "|  renan46@bol.com.br|\n",
       "|manuelada-rosa@ho...|\n",
       "|    usales@ig.com.br|\n",
       "|pereiranicolas@ho...|\n",
       "|cardosolivia@ig.c...|\n",
       "|  brenda39@ig.com.br|\n",
       "|luizapeixoto@gmai...|\n",
       "+--------------------+\n",
       "only showing top 20 rows"
      ]
     },
     "execution_count": 32,
     "metadata": {},
     "output_type": "execute_result"
    }
   ],
   "source": [
    "df.select(df.email)"
   ]
  },
  {
   "cell_type": "code",
   "execution_count": null,
   "id": "1cf6b110-bf0d-4fa9-893d-9cd6d5669c5d",
   "metadata": {},
   "outputs": [],
   "source": []
  }
 ],
 "metadata": {
  "kernelspec": {
   "display_name": "Python 3 (ipykernel)",
   "language": "python",
   "name": "python3"
  },
  "language_info": {
   "codemirror_mode": {
    "name": "ipython",
    "version": 3
   },
   "file_extension": ".py",
   "mimetype": "text/x-python",
   "name": "python",
   "nbconvert_exporter": "python",
   "pygments_lexer": "ipython3",
   "version": "3.12.4"
  }
 },
 "nbformat": 4,
 "nbformat_minor": 5
}
