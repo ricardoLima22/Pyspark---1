{
 "cells": [
  {
   "cell_type": "code",
   "execution_count": 3,
   "id": "48e5a19e-73d1-4714-ab9b-83d63957d350",
   "metadata": {
    "editable": true,
    "slideshow": {
     "slide_type": ""
    },
    "tags": []
   },
   "outputs": [],
   "source": [
    "from pyspark.sql import SparkSession\n",
    "import pyspark.sql.functions as F"
   ]
  },
  {
   "cell_type": "code",
   "execution_count": 5,
   "id": "cae3c4fc-708c-4e02-a7f7-115419ec5b08",
   "metadata": {
    "editable": true,
    "slideshow": {
     "slide_type": ""
    },
    "tags": []
   },
   "outputs": [],
   "source": [
    "spark = ( SparkSession.builder.appName('teste')\n",
    ".config('spark.sql.repl.eagerEval.enabled', True)\n",
    ".getOrCreate()\n",
    "        )"
   ]
  },
  {
   "cell_type": "code",
   "execution_count": 10,
   "id": "0be42be2-cb53-4f24-9da7-2cc6216ec0ca",
   "metadata": {
    "editable": true,
    "slideshow": {
     "slide_type": ""
    },
    "tags": []
   },
   "outputs": [],
   "source": [
    "df = spark.read.parquet('./Downloads/DATASETS/DATASETS/IMC.parquet' , sep =\";\",inferSchema=True, header= True)"
   ]
  },
  {
   "cell_type": "code",
   "execution_count": 14,
   "id": "7f2ebac9-a467-46a2-8a60-3aab98e46e66",
   "metadata": {},
   "outputs": [
    {
     "data": {
      "text/html": [
       "<table border='1'>\n",
       "<tr><th>nome</th><th>altura</th><th>peso</th></tr>\n",
       "<tr><td>Pietra Fernandes</td><td>176</td><td>97.88</td></tr>\n",
       "<tr><td>Ana Júlia da Rosa</td><td>163</td><td>80.56</td></tr>\n",
       "<tr><td>Fernando Martins</td><td>150</td><td>85.55</td></tr>\n",
       "<tr><td>Isis Silveira</td><td>173</td><td>70.1</td></tr>\n",
       "<tr><td>Cecília Porto</td><td>190</td><td>93.42</td></tr>\n",
       "<tr><td>Sra. Bruna Almeida</td><td>198</td><td>73.07</td></tr>\n",
       "<tr><td>Maria Julia Silva</td><td>170</td><td>71.36</td></tr>\n",
       "<tr><td>Pedro Henrique da...</td><td>188</td><td>105.57</td></tr>\n",
       "<tr><td>Davi Lucas Campos</td><td>180</td><td>98.49</td></tr>\n",
       "<tr><td>Juan Gonçalves</td><td>175</td><td>71.87</td></tr>\n",
       "</table>\n"
      ],
      "text/plain": [
       "+--------------------+------+------+\n",
       "|                nome|altura|  peso|\n",
       "+--------------------+------+------+\n",
       "|    Pietra Fernandes|   176| 97.88|\n",
       "|   Ana Júlia da Rosa|   163| 80.56|\n",
       "|    Fernando Martins|   150| 85.55|\n",
       "|       Isis Silveira|   173|  70.1|\n",
       "|       Cecília Porto|   190| 93.42|\n",
       "|  Sra. Bruna Almeida|   198| 73.07|\n",
       "|   Maria Julia Silva|   170| 71.36|\n",
       "|Pedro Henrique da...|   188|105.57|\n",
       "|   Davi Lucas Campos|   180| 98.49|\n",
       "|      Juan Gonçalves|   175| 71.87|\n",
       "+--------------------+------+------+"
      ]
     },
     "execution_count": 14,
     "metadata": {},
     "output_type": "execute_result"
    }
   ],
   "source": [
    "df"
   ]
  },
  {
   "cell_type": "code",
   "execution_count": 73,
   "id": "6e57a165-bf8a-4a3e-ba15-5d49f980f3cb",
   "metadata": {},
   "outputs": [
    {
     "data": {
      "text/html": [
       "<table border='1'>\n",
       "<tr><th>nome</th><th>altura</th><th>peso</th><th>round</th><th>ceil</th><th>floor</th><th>altura_negativa</th><th>abs</th><th>pow</th><th>sqrt</th></tr>\n",
       "<tr><td>Pietra Fernandes</td><td>176</td><td>97.88</td><td>97.9</td><td>98</td><td>97</td><td>-176</td><td>176</td><td>9580.49</td><td>97.87997752349558</td></tr>\n",
       "<tr><td>Ana Júlia da Rosa</td><td>163</td><td>80.56</td><td>80.6</td><td>81</td><td>80</td><td>-163</td><td>163</td><td>6489.91</td><td>80.55997765640207</td></tr>\n",
       "<tr><td>Fernando Martins</td><td>150</td><td>85.55</td><td>85.6</td><td>86</td><td>85</td><td>-150</td><td>150</td><td>7318.8</td><td>85.54998538866036</td></tr>\n",
       "<tr><td>Isis Silveira</td><td>173</td><td>70.1</td><td>70.1</td><td>71</td><td>70</td><td>-173</td><td>173</td><td>4914.01</td><td>70.10000000000001</td></tr>\n",
       "<tr><td>Cecília Porto</td><td>190</td><td>93.42</td><td>93.4</td><td>94</td><td>93</td><td>-190</td><td>190</td><td>8727.3</td><td>93.42001926782075</td></tr>\n",
       "<tr><td>Sra. Bruna Almeida</td><td>198</td><td>73.07</td><td>73.1</td><td>74</td><td>73</td><td>-198</td><td>198</td><td>5339.22</td><td>73.06996647050003</td></tr>\n",
       "<tr><td>Maria Julia Silva</td><td>170</td><td>71.36</td><td>71.4</td><td>72</td><td>71</td><td>-170</td><td>170</td><td>5092.25</td><td>71.36000280269053</td></tr>\n",
       "<tr><td>Pedro Henrique da...</td><td>188</td><td>105.57</td><td>105.6</td><td>106</td><td>105</td><td>-188</td><td>188</td><td>11145.02</td><td>105.56997679264688</td></tr>\n",
       "<tr><td>Davi Lucas Campos</td><td>180</td><td>98.49</td><td>98.5</td><td>99</td><td>98</td><td>-180</td><td>180</td><td>9700.28</td><td>98.48999949233425</td></tr>\n",
       "<tr><td>Juan Gonçalves</td><td>175</td><td>71.87</td><td>71.9</td><td>72</td><td>71</td><td>-175</td><td>175</td><td>5165.3</td><td>71.87002156671446</td></tr>\n",
       "</table>\n"
      ],
      "text/plain": [
       "+--------------------+------+------+-----+----+-----+---------------+---+--------+------------------+\n",
       "|                nome|altura|  peso|round|ceil|floor|altura_negativa|abs|     pow|              sqrt|\n",
       "+--------------------+------+------+-----+----+-----+---------------+---+--------+------------------+\n",
       "|    Pietra Fernandes|   176| 97.88| 97.9|  98|   97|           -176|176| 9580.49| 97.87997752349558|\n",
       "|   Ana Júlia da Rosa|   163| 80.56| 80.6|  81|   80|           -163|163| 6489.91| 80.55997765640207|\n",
       "|    Fernando Martins|   150| 85.55| 85.6|  86|   85|           -150|150|  7318.8| 85.54998538866036|\n",
       "|       Isis Silveira|   173|  70.1| 70.1|  71|   70|           -173|173| 4914.01| 70.10000000000001|\n",
       "|       Cecília Porto|   190| 93.42| 93.4|  94|   93|           -190|190|  8727.3| 93.42001926782075|\n",
       "|  Sra. Bruna Almeida|   198| 73.07| 73.1|  74|   73|           -198|198| 5339.22| 73.06996647050003|\n",
       "|   Maria Julia Silva|   170| 71.36| 71.4|  72|   71|           -170|170| 5092.25| 71.36000280269053|\n",
       "|Pedro Henrique da...|   188|105.57|105.6| 106|  105|           -188|188|11145.02|105.56997679264688|\n",
       "|   Davi Lucas Campos|   180| 98.49| 98.5|  99|   98|           -180|180| 9700.28| 98.48999949233425|\n",
       "|      Juan Gonçalves|   175| 71.87| 71.9|  72|   71|           -175|175|  5165.3| 71.87002156671446|\n",
       "+--------------------+------+------+-----+----+-----+---------------+---+--------+------------------+"
      ]
     },
     "execution_count": 73,
     "metadata": {},
     "output_type": "execute_result"
    }
   ],
   "source": [
    "(\n",
    "    df\n",
    "    .withColumn(\"round\", F.round(df.peso, 1))\n",
    "    .withColumn(\"ceil\", F.ceil(df.peso))\n",
    "    .withColumn(\"floor\", F.floor(df.peso))\n",
    "    .withColumn(\"altura_negativa\", -F.lit(df.altura))\n",
    "    .withColumn(\"abs\", F.abs(F.col(\"altura_negativa\")))\n",
    "    .withColumn(\"pow\",F.round( F.pow(df.peso, 2),2))\n",
    "    .withColumn(\"sqrt\", F.sqrt(F.col(\"pow\")))\n",
    ")"
   ]
  },
  {
   "cell_type": "code",
   "execution_count": 81,
   "id": "6fc50d0c-db13-44d3-8f90-2b6fb755ee73",
   "metadata": {},
   "outputs": [
    {
     "data": {
      "text/html": [
       "<table border='1'>\n",
       "<tr><th>nome</th><th>altura</th><th>peso</th><th>imc</th></tr>\n",
       "<tr><td>Pietra Fernandes</td><td>176</td><td>97.88</td><td>54.4</td></tr>\n",
       "<tr><td>Ana Júlia da Rosa</td><td>163</td><td>80.56</td><td>39.8</td></tr>\n",
       "<tr><td>Fernando Martins</td><td>150</td><td>85.55</td><td>48.8</td></tr>\n",
       "<tr><td>Isis Silveira</td><td>173</td><td>70.1</td><td>28.4</td></tr>\n",
       "<tr><td>Cecília Porto</td><td>190</td><td>93.42</td><td>45.9</td></tr>\n",
       "<tr><td>Sra. Bruna Almeida</td><td>198</td><td>73.07</td><td>27.0</td></tr>\n",
       "<tr><td>Maria Julia Silva</td><td>170</td><td>71.36</td><td>30.0</td></tr>\n",
       "<tr><td>Pedro Henrique da...</td><td>188</td><td>105.57</td><td>59.3</td></tr>\n",
       "<tr><td>Davi Lucas Campos</td><td>180</td><td>98.49</td><td>53.9</td></tr>\n",
       "<tr><td>Juan Gonçalves</td><td>175</td><td>71.87</td><td>29.5</td></tr>\n",
       "</table>\n"
      ],
      "text/plain": [
       "+--------------------+------+------+----+\n",
       "|                nome|altura|  peso| imc|\n",
       "+--------------------+------+------+----+\n",
       "|    Pietra Fernandes|   176| 97.88|54.4|\n",
       "|   Ana Júlia da Rosa|   163| 80.56|39.8|\n",
       "|    Fernando Martins|   150| 85.55|48.8|\n",
       "|       Isis Silveira|   173|  70.1|28.4|\n",
       "|       Cecília Porto|   190| 93.42|45.9|\n",
       "|  Sra. Bruna Almeida|   198| 73.07|27.0|\n",
       "|   Maria Julia Silva|   170| 71.36|30.0|\n",
       "|Pedro Henrique da...|   188|105.57|59.3|\n",
       "|   Davi Lucas Campos|   180| 98.49|53.9|\n",
       "|      Juan Gonçalves|   175| 71.87|29.5|\n",
       "+--------------------+------+------+----+"
      ]
     },
     "execution_count": 81,
     "metadata": {},
     "output_type": "execute_result"
    }
   ],
   "source": [
    "(\n",
    "    df\n",
    "    .withColumn(\"imc\", F.round(F.pow(df.peso, 2) / df.altura,1))\n",
    "    \n",
    ")"
   ]
  },
  {
   "cell_type": "code",
   "execution_count": null,
   "id": "17063980-a221-4f5d-90ab-b9dd62de0deb",
   "metadata": {
    "editable": true,
    "slideshow": {
     "slide_type": ""
    },
    "tags": []
   },
   "outputs": [],
   "source": []
  }
 ],
 "metadata": {
  "kernelspec": {
   "display_name": "Python 3 (ipykernel)",
   "language": "python",
   "name": "python3"
  },
  "language_info": {
   "codemirror_mode": {
    "name": "ipython",
    "version": 3
   },
   "file_extension": ".py",
   "mimetype": "text/x-python",
   "name": "python",
   "nbconvert_exporter": "python",
   "pygments_lexer": "ipython3",
   "version": "3.12.4"
  }
 },
 "nbformat": 4,
 "nbformat_minor": 5
}
