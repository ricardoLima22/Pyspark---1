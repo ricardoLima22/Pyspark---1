{
 "cells": [
  {
   "cell_type": "code",
   "execution_count": 1,
   "id": "acfcd588-7f54-4b51-bde0-781c2a701f11",
   "metadata": {
    "editable": true,
    "slideshow": {
     "slide_type": ""
    },
    "tags": []
   },
   "outputs": [],
   "source": [
    "from pyspark.sql import SparkSession\n",
    "import pyspark.sql.functions as F"
   ]
  },
  {
   "cell_type": "code",
   "execution_count": 2,
   "id": "d95e8aeb-1e0f-4327-8bdd-2c94681f14dc",
   "metadata": {
    "editable": true,
    "slideshow": {
     "slide_type": ""
    },
    "tags": []
   },
   "outputs": [],
   "source": [
    "spark = ( SparkSession.builder.appName('teste')\n",
    ".config('spark.sql.repl.eagerEval.enabled', True)\n",
    ".getOrCreate()\n",
    "        )"
   ]
  },
  {
   "cell_type": "code",
   "execution_count": 4,
   "id": "26f479c5-abcf-4903-8305-40c83ab8516f",
   "metadata": {
    "editable": true,
    "slideshow": {
     "slide_type": ""
    },
    "tags": []
   },
   "outputs": [],
   "source": [
    "df = spark.read.parquet('./Downloads/DATASETS/DATASETS/LOGINS.parquet' , sep =\";\",inferSchema=True, header= True)"
   ]
  },
  {
   "cell_type": "code",
   "execution_count": 7,
   "id": "f2707290-e55d-48f2-bf33-496272179624",
   "metadata": {},
   "outputs": [],
   "source": [
    "df2 = df.withColumn('teste', F.when(df.estado == \"MG\",\"Minas Gerais\",).when(df.estado == \"GO\",\"Goiás\").when(df.estado == \"AP\",\"Amapá\").when(df.estado == \"ES\", \"Espirito Santo\").otherwise(F.lit(\"Outro\")))"
   ]
  },
  {
   "cell_type": "code",
   "execution_count": 57,
   "id": "5f3a8a97-19ca-48b9-a0c3-e2f0ed3e7698",
   "metadata": {},
   "outputs": [
    {
     "data": {
      "text/html": [
       "<table border='1'>\n",
       "<tr><th>cpf</th><th>email</th><th>senha</th><th>data_de_nascimento</th><th>estado</th><th>data_cadastro</th><th>ipv4</th><th>cor_favorita</th><th>profissao</th><th>telefone</th><th>teste</th></tr>\n",
       "<tr><td>762.308.415-17</td><td>castroleonardo@ya...</td><td>@TcIqeg_u8</td><td>2018-01-14</td><td>ES</td><td>2023-01-04</td><td>211.69.35.243</td><td>Azul</td><td>Ministro</td><td>81 9945-0151</td><td>Espirito Santo</td></tr>\n",
       "<tr><td>841.950.263-42</td><td>francisco14@bol.c...</td><td>6^02PPwbKM</td><td>1928-07-01</td><td>ES</td><td>2023-01-02</td><td>71.49.101.55</td><td>Azul</td><td>Tecnólogo Em Espo...</td><td>+55 (061) 0639 3574</td><td>Espirito Santo</td></tr>\n",
       "</table>\n"
      ],
      "text/plain": [
       "+--------------+--------------------+----------+------------------+------+-------------+-------------+------------+--------------------+-------------------+--------------+\n",
       "|           cpf|               email|     senha|data_de_nascimento|estado|data_cadastro|         ipv4|cor_favorita|           profissao|           telefone|         teste|\n",
       "+--------------+--------------------+----------+------------------+------+-------------+-------------+------------+--------------------+-------------------+--------------+\n",
       "|762.308.415-17|castroleonardo@ya...|@TcIqeg_u8|        2018-01-14|    ES|   2023-01-04|211.69.35.243|        Azul|            Ministro|       81 9945-0151|Espirito Santo|\n",
       "|841.950.263-42|francisco14@bol.c...|6^02PPwbKM|        1928-07-01|    ES|   2023-01-02| 71.49.101.55|        Azul|Tecnólogo Em Espo...|+55 (061) 0639 3574|Espirito Santo|\n",
       "+--------------+--------------------+----------+------------------+------+-------------+-------------+------------+--------------------+-------------------+--------------+"
      ]
     },
     "execution_count": 57,
     "metadata": {},
     "output_type": "execute_result"
    }
   ],
   "source": [
    "df2.filter(df2.teste == \"Espirito Santo\").filter(df2.cor_favorita == \"Azul\")"
   ]
  },
  {
   "cell_type": "code",
   "execution_count": null,
   "id": "f6968bfd-b49d-4c0b-9b5c-dbae3250778a",
   "metadata": {
    "editable": true,
    "slideshow": {
     "slide_type": ""
    },
    "tags": []
   },
   "outputs": [],
   "source": [
    "df.withColumn(\"sigla_estado\", F.col((\"estado\")))"
   ]
  },
  {
   "cell_type": "code",
   "execution_count": null,
   "id": "233ef6e9-9775-4bda-bbd0-68c2683b3816",
   "metadata": {
    "editable": true,
    "slideshow": {
     "slide_type": ""
    },
    "tags": []
   },
   "outputs": [],
   "source": [
    "\n",
    "( df.withColumn('nome_estados', F.when(df.estado == \"GO\",'Goiás')\n",
    "                                 .when(df.estado == \"BA\", 'Bahia')\n",
    "                                 .otherwise('Demais')\n",
    "                )\n",
    "    .withColumn(\"Teste\", F.when(df.profissao == \"Aeromoça\", \"Top\")\n",
    "                          .otherwise(\"Bom\")\n",
    "               ).filter(df.profissao == \"Aeromoça\")\n",
    "\n",
    ")"
   ]
  },
  {
   "cell_type": "code",
   "execution_count": null,
   "id": "dc1673e9-cf7c-4b7f-9ed2-f23d85aca8aa",
   "metadata": {},
   "outputs": [],
   "source": [
    "(\n",
    "    df.withColumn(\"TESTE\", F.when(df.estado == \"SP\",\"SAO PAULO\"))\n",
    "    .filter(df.estado == \"SP\")\n",
    ")"
   ]
  },
  {
   "cell_type": "code",
   "execution_count": null,
   "id": "5197492a-7213-4270-932f-cfadc1e1c9c0",
   "metadata": {},
   "outputs": [],
   "source": [
    "df.withColumn(\"estado2\", F.col(\"estado\"))"
   ]
  },
  {
   "cell_type": "code",
   "execution_count": null,
   "id": "c4586d28-d050-4686-a00a-36678ca474de",
   "metadata": {},
   "outputs": [],
   "source": [
    "(    df.drop(\"cpf\",\"email\").withColumn(\"nome_estado\", F.when(df.estado == \"GO\", \"Goiás\")\n",
    "                          .when(df.estado == \"MG\", \"Minas Gerais\")\n",
    "                        .filter(df.nome_estado == \"Minas Gerais\")\n",
    "                    )\n",
    ")        "
   ]
  },
  {
   "cell_type": "code",
   "execution_count": null,
   "id": "f3213ee2-6aa6-41bd-a1a0-e281592b3a7d",
   "metadata": {},
   "outputs": [],
   "source": [
    "df"
   ]
  },
  {
   "cell_type": "code",
   "execution_count": null,
   "id": "9f481f37-a755-4c95-822a-08b090e6adec",
   "metadata": {},
   "outputs": [],
   "source": [
    "df2.printSchema()"
   ]
  },
  {
   "cell_type": "code",
   "execution_count": null,
   "id": "8cb1f3cc-eda6-4e63-888c-43182ec733bc",
   "metadata": {},
   "outputs": [],
   "source": [
    "df2.select(df.nome_estado)"
   ]
  },
  {
   "cell_type": "code",
   "execution_count": null,
   "id": "0877975a-527d-4a0d-9d0e-8f3fe49f6f74",
   "metadata": {},
   "outputs": [],
   "source": []
  }
 ],
 "metadata": {
  "kernelspec": {
   "display_name": "Python 3 (ipykernel)",
   "language": "python",
   "name": "python3"
  },
  "language_info": {
   "codemirror_mode": {
    "name": "ipython",
    "version": 3
   },
   "file_extension": ".py",
   "mimetype": "text/x-python",
   "name": "python",
   "nbconvert_exporter": "python",
   "pygments_lexer": "ipython3",
   "version": "3.12.4"
  }
 },
 "nbformat": 4,
 "nbformat_minor": 5
}
