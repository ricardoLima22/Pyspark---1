{
 "cells": [
  {
   "cell_type": "code",
   "execution_count": 2,
   "id": "13b61b31-d21b-4bac-9e36-df53f6ab908d",
   "metadata": {},
   "outputs": [],
   "source": [
    "from pyspark.sql import SparkSession\n",
    "import pyspark.sql.functions as F"
   ]
  },
  {
   "cell_type": "code",
   "execution_count": 5,
   "id": "82dd2b24-e8fa-49d6-a954-6b463f8c9dab",
   "metadata": {},
   "outputs": [],
   "source": [
    "spark = ( SparkSession.builder.appName('teste')\n",
    ".config('spark.sql.repl.eagerEval.enabled', True)\n",
    ".getOrCreate()\n",
    "        )"
   ]
  },
  {
   "cell_type": "code",
   "execution_count": 8,
   "id": "cebe7c3a-1c0f-4ca5-9b79-ec98982e55e8",
   "metadata": {},
   "outputs": [],
   "source": [
    "autores = spark.read.parquet('./Downloads/DATASETS/DATASETS/AUTORES.parquet' , sep =\";\",inferSchema=True, header= True)\n",
    "livros = spark.read.parquet('./Downloads/DATASETS/DATASETS/LIVROS.parquet' , sep =\";\",inferSchema=True, header= True)\n",
    "clientes = spark.read.parquet('./Downloads/DATASETS/DATASETS/CLIENTES.parquet' , sep =\";\",inferSchema=True, header= True)\n",
    "compras = spark.read.parquet('./Downloads/DATASETS/DATASETS/COMPRAS.parquet' , sep =\";\",inferSchema=True, header= True)"
   ]
  },
  {
   "cell_type": "code",
   "execution_count": 11,
   "id": "b3413f8f-57f2-48d2-8d92-8d8e3e2a5485",
   "metadata": {},
   "outputs": [],
   "source": [
    "compras.createOrReplaceTempView(\"compras_view\")"
   ]
  },
  {
   "cell_type": "code",
   "execution_count": 13,
   "id": "115200fd-816b-4370-bfdb-c81af56ba4fb",
   "metadata": {},
   "outputs": [],
   "source": [
    "clientes.createOrReplaceTempView(\"clientes_view\")"
   ]
  },
  {
   "cell_type": "code",
   "execution_count": 15,
   "id": "b85fdcdf-5d51-4d05-8ef8-e205f35a59ba",
   "metadata": {},
   "outputs": [],
   "source": [
    "livros.createOrReplaceTempView(\"livros_view\")"
   ]
  },
  {
   "cell_type": "code",
   "execution_count": 17,
   "id": "b7958b76-0dc6-4723-97ce-693227f6c403",
   "metadata": {},
   "outputs": [],
   "source": [
    "autores.createOrReplaceTempView(\"autores_view\")"
   ]
  },
  {
   "cell_type": "code",
   "execution_count": 44,
   "id": "30964e87-8e1c-40dc-a7a7-179fda43a079",
   "metadata": {},
   "outputs": [
    {
     "data": {
      "text/html": [
       "<table border='1'>\n",
       "<tr><th>cartao_cvc</th><th>data_lancamento</th></tr>\n",
       "<tr><td>959</td><td>2013-05-08</td></tr>\n",
       "<tr><td>6979</td><td>2004-01-27</td></tr>\n",
       "<tr><td>689</td><td>2007-12-13</td></tr>\n",
       "<tr><td>353</td><td>2007-04-05</td></tr>\n",
       "<tr><td>967</td><td>2014-03-25</td></tr>\n",
       "<tr><td>362</td><td>2000-09-09</td></tr>\n",
       "<tr><td>9847</td><td>2018-12-21</td></tr>\n",
       "<tr><td>823</td><td>2010-05-29</td></tr>\n",
       "<tr><td>384</td><td>2014-08-11</td></tr>\n",
       "<tr><td>247</td><td>2013-01-30</td></tr>\n",
       "<tr><td>081</td><td>2000-05-15</td></tr>\n",
       "<tr><td>619</td><td>2000-05-15</td></tr>\n",
       "<tr><td>555</td><td>2015-07-10</td></tr>\n",
       "<tr><td>834</td><td>2010-12-15</td></tr>\n",
       "<tr><td>440</td><td>2007-12-13</td></tr>\n",
       "<tr><td>9804</td><td>2008-01-05</td></tr>\n",
       "<tr><td>702</td><td>2016-12-24</td></tr>\n",
       "<tr><td>257</td><td>2013-12-08</td></tr>\n",
       "<tr><td>280</td><td>2019-02-24</td></tr>\n",
       "<tr><td>126</td><td>2013-05-19</td></tr>\n",
       "</table>\n",
       "only showing top 20 rows\n"
      ],
      "text/plain": [
       "+----------+---------------+\n",
       "|cartao_cvc|data_lancamento|\n",
       "+----------+---------------+\n",
       "|       959|     2013-05-08|\n",
       "|      6979|     2004-01-27|\n",
       "|       689|     2007-12-13|\n",
       "|       353|     2007-04-05|\n",
       "|       967|     2014-03-25|\n",
       "|       362|     2000-09-09|\n",
       "|      9847|     2018-12-21|\n",
       "|       823|     2010-05-29|\n",
       "|       384|     2014-08-11|\n",
       "|       247|     2013-01-30|\n",
       "|       081|     2000-05-15|\n",
       "|       619|     2000-05-15|\n",
       "|       555|     2015-07-10|\n",
       "|       834|     2010-12-15|\n",
       "|       440|     2007-12-13|\n",
       "|      9804|     2008-01-05|\n",
       "|       702|     2016-12-24|\n",
       "|       257|     2013-12-08|\n",
       "|       280|     2019-02-24|\n",
       "|       126|     2013-05-19|\n",
       "+----------+---------------+\n",
       "only showing top 20 rows"
      ]
     },
     "execution_count": 44,
     "metadata": {},
     "output_type": "execute_result"
    }
   ],
   "source": [
    "spark.sql(\"\"\"SELECT c.cartao_cvc,\n",
    "                  /*c.cartao_data_expiracao,\n",
    "                  l.cnpj_editora,*/\n",
    "                  l.data_lancamento\n",
    "          FROM compras_view c\n",
    "          INNER JOIN livros_view l ON(c.cd_livro = l.id) \"\"\") "
   ]
  },
  {
   "cell_type": "code",
   "execution_count": 28,
   "id": "a42ca325-be53-4786-bd4f-b1b1e0960423",
   "metadata": {},
   "outputs": [
    {
     "data": {
      "text/html": [
       "<table border='1'>\n",
       "<tr><th>id</th><th>cnpj_editora</th><th>data_lancamento</th><th>ean</th><th>isbn10</th><th>numero_paginas</th><th>preco</th></tr>\n",
       "<tr><td>102961160</td><td>54.317.982/0001-79</td><td>2011-09-19</td><td>4367115749184</td><td>0-06-594558-1</td><td>516</td><td>113.84</td></tr>\n",
       "<tr><td>043636240</td><td>16.938.042/0001-08</td><td>2019-05-11</td><td>1239569754256</td><td>0-611-23680-X</td><td>371</td><td>207.67</td></tr>\n",
       "<tr><td>052928059</td><td>57.624.038/0001-52</td><td>2003-08-03</td><td>5462162528221</td><td>1-109-29542-1</td><td>198</td><td>107.89</td></tr>\n",
       "<tr><td>088482271</td><td>16.249.378/0001-63</td><td>2022-09-07</td><td>5713629047213</td><td>1-229-68842-0</td><td>632</td><td>143.95</td></tr>\n",
       "<tr><td>028125446</td><td>90.425.178/0001-77</td><td>2011-07-25</td><td>2226757040245</td><td>0-657-66391-3</td><td>384</td><td>156.49</td></tr>\n",
       "<tr><td>055610005</td><td>20.756.194/0001-67</td><td>2006-03-22</td><td>2114468195241</td><td>0-455-43278-3</td><td>419</td><td>37.08</td></tr>\n",
       "<tr><td>049806867</td><td>93.617.240/0001-10</td><td>2022-02-17</td><td>3166123637398</td><td>1-4822-8784-6</td><td>378</td><td>162.97</td></tr>\n",
       "<tr><td>102803370</td><td>48.760.531/0001-09</td><td>2011-12-13</td><td>2550608407612</td><td>0-399-05121-X</td><td>732</td><td>75.62</td></tr>\n",
       "<tr><td>084858867</td><td>10.752.843/0001-06</td><td>2015-04-30</td><td>6207011925788</td><td>1-03-549652-6</td><td>635</td><td>237.67</td></tr>\n",
       "<tr><td>059303729</td><td>05.129.783/0001-21</td><td>2001-08-25</td><td>1641133648784</td><td>0-620-46508-5</td><td>107</td><td>61.41</td></tr>\n",
       "<tr><td>064175052</td><td>65.301.927/0001-07</td><td>2008-05-29</td><td>6905480714673</td><td>1-876722-64-9</td><td>795</td><td>85.56</td></tr>\n",
       "<tr><td>080608956</td><td>90.563.247/0001-09</td><td>2011-10-05</td><td>0332981484891</td><td>1-925760-25-1</td><td>203</td><td>107.63</td></tr>\n",
       "<tr><td>018453254</td><td>95.367.280/0001-87</td><td>2012-11-02</td><td>0507454098268</td><td>0-609-21722-4</td><td>043</td><td>52.94</td></tr>\n",
       "<tr><td>021765997</td><td>59.374.801/0001-60</td><td>2014-05-17</td><td>4743679337089</td><td>1-85580-232-5</td><td>499</td><td>143.43</td></tr>\n",
       "<tr><td>023911383</td><td>98.526.047/0001-98</td><td>2005-11-12</td><td>4165252098109</td><td>1-369-22273-4</td><td>599</td><td>121.0</td></tr>\n",
       "<tr><td>029667220</td><td>20.136.498/0001-21</td><td>2008-09-22</td><td>9813450961422</td><td>0-466-92503-4</td><td>474</td><td>175.32</td></tr>\n",
       "<tr><td>030099528</td><td>28.103.975/0001-64</td><td>2000-02-06</td><td>9164658045347</td><td>0-904222-71-3</td><td>292</td><td>208.39</td></tr>\n",
       "<tr><td>034553086</td><td>29.507.683/0001-50</td><td>2016-12-29</td><td>7318970609554</td><td>1-4989-7802-9</td><td>540</td><td>113.52</td></tr>\n",
       "<tr><td>035350343</td><td>25.491.073/0001-54</td><td>2003-11-29</td><td>7630092024962</td><td>1-957157-95-X</td><td>109</td><td>58.61</td></tr>\n",
       "<tr><td>017477529</td><td>39.507.184/0001-16</td><td>2005-09-23</td><td>5930606400018</td><td>1-393-77728-7</td><td>747</td><td>232.65</td></tr>\n",
       "</table>\n",
       "only showing top 20 rows\n"
      ],
      "text/plain": [
       "+---------+------------------+---------------+-------------+-------------+--------------+------+\n",
       "|       id|      cnpj_editora|data_lancamento|          ean|       isbn10|numero_paginas| preco|\n",
       "+---------+------------------+---------------+-------------+-------------+--------------+------+\n",
       "|102961160|54.317.982/0001-79|     2011-09-19|4367115749184|0-06-594558-1|           516|113.84|\n",
       "|043636240|16.938.042/0001-08|     2019-05-11|1239569754256|0-611-23680-X|           371|207.67|\n",
       "|052928059|57.624.038/0001-52|     2003-08-03|5462162528221|1-109-29542-1|           198|107.89|\n",
       "|088482271|16.249.378/0001-63|     2022-09-07|5713629047213|1-229-68842-0|           632|143.95|\n",
       "|028125446|90.425.178/0001-77|     2011-07-25|2226757040245|0-657-66391-3|           384|156.49|\n",
       "|055610005|20.756.194/0001-67|     2006-03-22|2114468195241|0-455-43278-3|           419| 37.08|\n",
       "|049806867|93.617.240/0001-10|     2022-02-17|3166123637398|1-4822-8784-6|           378|162.97|\n",
       "|102803370|48.760.531/0001-09|     2011-12-13|2550608407612|0-399-05121-X|           732| 75.62|\n",
       "|084858867|10.752.843/0001-06|     2015-04-30|6207011925788|1-03-549652-6|           635|237.67|\n",
       "|059303729|05.129.783/0001-21|     2001-08-25|1641133648784|0-620-46508-5|           107| 61.41|\n",
       "|064175052|65.301.927/0001-07|     2008-05-29|6905480714673|1-876722-64-9|           795| 85.56|\n",
       "|080608956|90.563.247/0001-09|     2011-10-05|0332981484891|1-925760-25-1|           203|107.63|\n",
       "|018453254|95.367.280/0001-87|     2012-11-02|0507454098268|0-609-21722-4|           043| 52.94|\n",
       "|021765997|59.374.801/0001-60|     2014-05-17|4743679337089|1-85580-232-5|           499|143.43|\n",
       "|023911383|98.526.047/0001-98|     2005-11-12|4165252098109|1-369-22273-4|           599| 121.0|\n",
       "|029667220|20.136.498/0001-21|     2008-09-22|9813450961422|0-466-92503-4|           474|175.32|\n",
       "|030099528|28.103.975/0001-64|     2000-02-06|9164658045347|0-904222-71-3|           292|208.39|\n",
       "|034553086|29.507.683/0001-50|     2016-12-29|7318970609554|1-4989-7802-9|           540|113.52|\n",
       "|035350343|25.491.073/0001-54|     2003-11-29|7630092024962|1-957157-95-X|           109| 58.61|\n",
       "|017477529|39.507.184/0001-16|     2005-09-23|5930606400018|1-393-77728-7|           747|232.65|\n",
       "+---------+------------------+---------------+-------------+-------------+--------------+------+\n",
       "only showing top 20 rows"
      ]
     },
     "execution_count": 28,
     "metadata": {},
     "output_type": "execute_result"
    }
   ],
   "source": [
    "spark.sql(\"SELECT * FROM livros_view\")"
   ]
  },
  {
   "cell_type": "code",
   "execution_count": null,
   "id": "5b9b5fe2-a125-4038-9cd5-2b369b9ad662",
   "metadata": {},
   "outputs": [],
   "source": []
  }
 ],
 "metadata": {
  "kernelspec": {
   "display_name": "Python 3 (ipykernel)",
   "language": "python",
   "name": "python3"
  },
  "language_info": {
   "codemirror_mode": {
    "name": "ipython",
    "version": 3
   },
   "file_extension": ".py",
   "mimetype": "text/x-python",
   "name": "python",
   "nbconvert_exporter": "python",
   "pygments_lexer": "ipython3",
   "version": "3.12.4"
  }
 },
 "nbformat": 4,
 "nbformat_minor": 5
}
