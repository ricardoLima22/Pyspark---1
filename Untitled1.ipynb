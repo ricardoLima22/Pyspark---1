{
 "cells": [
  {
   "cell_type": "code",
   "execution_count": 2,
   "id": "f46b83a7-2fd6-4b92-916e-2015ac93131f",
   "metadata": {},
   "outputs": [],
   "source": [
    "from pyspark.sql import SparkSession\n",
    "import pyspark.sql.functions as F"
   ]
  },
  {
   "cell_type": "code",
   "execution_count": 5,
   "id": "03947d05-349c-4903-bfa0-b52cbdadfc63",
   "metadata": {},
   "outputs": [],
   "source": [
    "spark = ( SparkSession.builder.appName('teste')\n",
    ".config('spark.sql.repl.eagerEval.enabled', True)\n",
    ".getOrCreate()\n",
    "        )"
   ]
  },
  {
   "cell_type": "code",
   "execution_count": 76,
   "id": "a239ab1d-9d6c-4db2-8884-a61397b5558c",
   "metadata": {},
   "outputs": [],
   "source": [
    "clientes = spark.read.parquet('./Downloads/DATASETS/DATASETS/CLIENTES.parquet' , sep =\";\",inferSchema=True, header= True)\n",
    "autores = spark.read.parquet('./Downloads/DATASETS/DATASETS/AUTORES.parquet' , sep =\";\",inferSchema=True, header= True)\n"
   ]
  },
  {
   "cell_type": "code",
   "execution_count": 88,
   "id": "ac82da45-1814-4057-a685-a8d0189f6daf",
   "metadata": {},
   "outputs": [
    {
     "data": {
      "text/html": [
       "<table border='1'>\n",
       "<tr><th>id</th><th>titulo</th><th>autor</th></tr>\n",
       "<tr><td>054099410</td><td>A Alma Encantador...</td><td>João do Rio</td></tr>\n",
       "<tr><td>128422117</td><td>A Biblioteca da M...</td><td>Matt Haig</td></tr>\n",
       "<tr><td>049141399</td><td>A Coleira do Cão </td><td>Rubem Fonseca</td></tr>\n",
       "<tr><td>065490862</td><td>A Cor Púrpura </td><td>Alice Walker</td></tr>\n",
       "<tr><td>029077001</td><td>A Educação Sentim...</td><td>Gustave Flaubert</td></tr>\n",
       "<tr><td>032275599</td><td>A Escrava Isaura </td><td>Bernardo Guimarães</td></tr>\n",
       "<tr><td>090690941</td><td>A Estrela Sobe </td><td>Marques Rebelo</td></tr>\n",
       "<tr><td>095695255</td><td>A Hora da Estrela </td><td>Clarice Lispector</td></tr>\n",
       "<tr><td>036365230</td><td>A Hora dos Rumina...</td><td>José J. Veiga</td></tr>\n",
       "<tr><td>069146824</td><td>A Letra Escarlate </td><td>Nathaniel Hawthorne</td></tr>\n",
       "<tr><td>025903823</td><td>A Metamorfose </td><td>Franz Kafka</td></tr>\n",
       "<tr><td>015903574</td><td>A Montanha Mágica </td><td>Thomas Mann</td></tr>\n",
       "<tr><td>076938216</td><td>A Moreninha </td><td>Joaquim Manuel de...</td></tr>\n",
       "<tr><td>010325500</td><td>A Obscena Senhora D </td><td>Hilda Hilst</td></tr>\n",
       "<tr><td>095678890</td><td>A Paixão Segundo ...</td><td>Clarice Lispector</td></tr>\n",
       "<tr><td>073269564</td><td>A Revolução dos B...</td><td>George Orwell</td></tr>\n",
       "<tr><td>076121829</td><td>A Rosa do Povo </td><td>Carlos Drummond d...</td></tr>\n",
       "<tr><td>087365849</td><td>A Senhorita Simpson </td><td>Sérgio Sant’anna</td></tr>\n",
       "<tr><td>045836954</td><td>A Terra Inútil </td><td>T. S. Eliot</td></tr>\n",
       "<tr><td>116347123</td><td>A Vida Como Ela É </td><td>Nelson Rodrigues</td></tr>\n",
       "</table>\n",
       "only showing top 20 rows\n"
      ],
      "text/plain": [
       "+---------+--------------------+--------------------+\n",
       "|       id|              titulo|               autor|\n",
       "+---------+--------------------+--------------------+\n",
       "|054099410|A Alma Encantador...|         João do Rio|\n",
       "|128422117|A Biblioteca da M...|           Matt Haig|\n",
       "|049141399|   A Coleira do Cão |       Rubem Fonseca|\n",
       "|065490862|      A Cor Púrpura |        Alice Walker|\n",
       "|029077001|A Educação Sentim...|    Gustave Flaubert|\n",
       "|032275599|   A Escrava Isaura |  Bernardo Guimarães|\n",
       "|090690941|     A Estrela Sobe |      Marques Rebelo|\n",
       "|095695255|  A Hora da Estrela |   Clarice Lispector|\n",
       "|036365230|A Hora dos Rumina...|       José J. Veiga|\n",
       "|069146824|  A Letra Escarlate | Nathaniel Hawthorne|\n",
       "|025903823|      A Metamorfose |         Franz Kafka|\n",
       "|015903574|  A Montanha Mágica |         Thomas Mann|\n",
       "|076938216|        A Moreninha |Joaquim Manuel de...|\n",
       "|010325500|A Obscena Senhora D |         Hilda Hilst|\n",
       "|095678890|A Paixão Segundo ...|   Clarice Lispector|\n",
       "|073269564|A Revolução dos B...|       George Orwell|\n",
       "|076121829|     A Rosa do Povo |Carlos Drummond d...|\n",
       "|087365849|A Senhorita Simpson |    Sérgio Sant’anna|\n",
       "|045836954|     A Terra Inútil |         T. S. Eliot|\n",
       "|116347123|  A Vida Como Ela É |    Nelson Rodrigues|\n",
       "+---------+--------------------+--------------------+\n",
       "only showing top 20 rows"
      ]
     },
     "execution_count": 88,
     "metadata": {},
     "output_type": "execute_result"
    }
   ],
   "source": [
    "autores.where(F.col(\"titulo\").startswith(\"A\"))"
   ]
  },
  {
   "cell_type": "code",
   "execution_count": 90,
   "id": "838e6c37-68f6-4c14-ab23-cfa9a879ed88",
   "metadata": {},
   "outputs": [
    {
     "data": {
      "text/html": [
       "<table border='1'>\n",
       "<tr><th>profissao</th><th>name</th><th>Tenente</th></tr>\n",
       "<tr><td>Tenente</td><td>Arthur Pereira</td><td>1</td></tr>\n",
       "<tr><td>Senador</td><td>Esther Rodrigues</td><td>null</td></tr>\n",
       "<tr><td>Tenente</td><td>Alana Rezende</td><td>1</td></tr>\n",
       "<tr><td>Tenente</td><td>Alexia Ribeiro</td><td>1</td></tr>\n",
       "</table>\n"
      ],
      "text/plain": [
       "+---------+----------------+-------+\n",
       "|profissao|            name|Tenente|\n",
       "+---------+----------------+-------+\n",
       "|  Tenente|  Arthur Pereira|      1|\n",
       "|  Senador|Esther Rodrigues|   null|\n",
       "|  Tenente|   Alana Rezende|      1|\n",
       "|  Tenente|  Alexia Ribeiro|      1|\n",
       "+---------+----------------+-------+"
      ]
     },
     "execution_count": 90,
     "metadata": {},
     "output_type": "execute_result"
    }
   ],
   "source": [
    "(\n",
    "    clientes\n",
    "    .where(F.col(\"profissao\").isin(\"Senador\",\"Tenente\"))\n",
    "    .groupBy(\"profissao\",\"name\")\n",
    "    .pivot(\"profissao\", [\"Tenente\"])\n",
    "    .agg(F.count(\"*\"))\n",
    ")"
   ]
  },
  {
   "cell_type": "code",
   "execution_count": null,
   "id": "b47004e8-3d61-464c-966f-015d50d5da0b",
   "metadata": {},
   "outputs": [],
   "source": []
  }
 ],
 "metadata": {
  "kernelspec": {
   "display_name": "Python 3 (ipykernel)",
   "language": "python",
   "name": "python3"
  },
  "language_info": {
   "codemirror_mode": {
    "name": "ipython",
    "version": 3
   },
   "file_extension": ".py",
   "mimetype": "text/x-python",
   "name": "python",
   "nbconvert_exporter": "python",
   "pygments_lexer": "ipython3",
   "version": "3.12.4"
  }
 },
 "nbformat": 4,
 "nbformat_minor": 5
}
