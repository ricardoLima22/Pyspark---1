{
 "cells": [
  {
   "cell_type": "code",
   "execution_count": 1,
   "id": "f1451d70-d523-477d-950e-02fae1fdeead",
   "metadata": {
    "editable": true,
    "slideshow": {
     "slide_type": ""
    },
    "tags": []
   },
   "outputs": [],
   "source": [
    "from pyspark.sql import SparkSession\n",
    "import pyspark.sql.functions as F"
   ]
  },
  {
   "cell_type": "code",
   "execution_count": 2,
   "id": "48050da4-77b6-495e-95e0-dcbd210e4445",
   "metadata": {
    "editable": true,
    "slideshow": {
     "slide_type": ""
    },
    "tags": []
   },
   "outputs": [],
   "source": [
    "spark = ( SparkSession.builder.appName('teste')\n",
    ".config('spark.sql.repl.eagerEval.enabled', True)\n",
    ".getOrCreate()\n",
    "        )"
   ]
  },
  {
   "cell_type": "code",
   "execution_count": 4,
   "id": "5385f4f6-f8df-494c-b624-9060bd54942a",
   "metadata": {
    "editable": true,
    "slideshow": {
     "slide_type": ""
    },
    "tags": []
   },
   "outputs": [],
   "source": [
    "df = spark.read.parquet('./Downloads/DATASETS/DATASETS/LOGINS.parquet' , sep =\";\",inferSchema=True, header= True).select('email','senha','estado','cor_favorita','profissao')"
   ]
  },
  {
   "cell_type": "code",
   "execution_count": 27,
   "id": "1fbaf200-f50c-434f-a327-4d9f5ad7db96",
   "metadata": {},
   "outputs": [
    {
     "name": "stdout",
     "output_type": "stream",
     "text": [
      "+----------------------------------+----------+------+------------+---------------------------+-------------------------------------+\n",
      "|email                             |senha     |estado|cor_favorita|profissao                  |usuario                              |\n",
      "+----------------------------------+----------+------+------------+---------------------------+-------------------------------------+\n",
      "|pedro-lucas53@gmail.com           |+7^7E%xFBc|RR    |Roxo        |Jogador De Golfe           |[pedro-lucas53, gmail.com]           |\n",
      "|rezendeisaac@hotmail.com          |_O_2GRnGOe|GO    |Ciano       |Atleta De Arremesso De Peso|[rezendeisaac, hotmail.com]          |\n",
      "|felipepires@uol.com.br            |*Aw5EOAvy9|MG    |Azul        |Papiloscopista             |[felipepires, uol.com.br]            |\n",
      "|stellamoraes@bol.com.br           |mw0AWYAs#s|AC    |Marrom      |Aeromoça                   |[stellamoraes, bol.com.br]           |\n",
      "|wcarvalho@ig.com.br               |pGD%!2Pq5X|AP    |Laranja     |Fonoaudiólogo              |[wcarvalho, ig.com.br]               |\n",
      "|da-conceicaodavi-lucas@hotmail.com|uhBbFxPA&9|MG    |Rosa        |Taxista                    |[da-conceicaodavi-lucas, hotmail.com]|\n",
      "|efreitas@bol.com.br               |s#q9VZt&xl|MG    |Branco      |Produtor De Audio Visual   |[efreitas, bol.com.br]               |\n",
      "|wnunes@bol.com.br                 |_8az1W%n7g|SE    |Azul        |Cadeirinha                 |[wnunes, bol.com.br]                 |\n",
      "|jribeiro@bol.com.br               |MEf1X7fj_0|PA    |Marrom      |Geólogo                    |[jribeiro, bol.com.br]               |\n",
      "|murilo05@gmail.com                |Te&gO7GkKs|MT    |Marrom      |Técnico De Som             |[murilo05, gmail.com]                |\n",
      "|joaquim57@ig.com.br               |&2E1NY+ARc|BA    |Rosa        |Esteticista                |[joaquim57, ig.com.br]               |\n",
      "|alexiada-rocha@ig.com.br          |@f@!Z!2c*2|MS    |Laranja     |Microfonista               |[alexiada-rocha, ig.com.br]          |\n",
      "|pmendes@gmail.com                 |M+^XDBfe(2|RR    |Verde Claro |Fiscal                     |[pmendes, gmail.com]                 |\n",
      "|renan46@bol.com.br                |Rp%2pVqfe$|PA    |Verde Escuro|Contabilista               |[renan46, bol.com.br]                |\n",
      "|manuelada-rosa@hotmail.com        |#hEIEOztQ3|SE    |Violeta     |Seguidor De Compras        |[manuelada-rosa, hotmail.com]        |\n",
      "|usales@ig.com.br                  |b_8xaY$ozJ|AM    |Rosa        |Almirante                  |[usales, ig.com.br]                  |\n",
      "|pereiranicolas@hotmail.com        |YA9I85Wb+2|MA    |Amarelo     |Consultor De Moda          |[pereiranicolas, hotmail.com]        |\n",
      "|cardosolivia@ig.com.br            |yXkDW7Ebh*|GO    |Laranja     |Barbeiro                   |[cardosolivia, ig.com.br]            |\n",
      "|brenda39@ig.com.br                |XS$84Hpsnw|RJ    |Branco      |Promotor De Vendas         |[brenda39, ig.com.br]                |\n",
      "|luizapeixoto@gmail.com            |TbKy82Kda$|DF    |Ciano       |Implantodontista           |[luizapeixoto, gmail.com]            |\n",
      "+----------------------------------+----------+------+------------+---------------------------+-------------------------------------+\n",
      "only showing top 20 rows\n",
      "\n"
     ]
    }
   ],
   "source": [
    "(\n",
    "    df\n",
    "    .withColumn(\"usuario\",F.split(df.email,\"@\"))\n",
    "    .show(20,False)\n",
    ")"
   ]
  },
  {
   "cell_type": "code",
   "execution_count": 25,
   "id": "4dc38acd-fcfc-47f4-af56-6e370f9eeeaa",
   "metadata": {
    "editable": true,
    "slideshow": {
     "slide_type": ""
    },
    "tags": []
   },
   "outputs": [
    {
     "name": "stdout",
     "output_type": "stream",
     "text": [
      "+----------------------------------+----------+------+------------+---------------------------+----------------------+-----------+-------------+\n",
      "|email                             |senha     |estado|cor_favorita|profissao                  |usuario               |provedor   |nome_provedor|\n",
      "+----------------------------------+----------+------+------------+---------------------------+----------------------+-----------+-------------+\n",
      "|pedro-lucas53@gmail.com           |+7^7E%xFBc|RR    |Roxo        |Jogador De Golfe           |pedro-lucas53         |gmail.com  |gmail        |\n",
      "|rezendeisaac@hotmail.com          |_O_2GRnGOe|GO    |Ciano       |Atleta De Arremesso De Peso|rezendeisaac          |hotmail.com|hotmail      |\n",
      "|felipepires@uol.com.br            |*Aw5EOAvy9|MG    |Azul        |Papiloscopista             |felipepires           |uol.com.br |uol          |\n",
      "|stellamoraes@bol.com.br           |mw0AWYAs#s|AC    |Marrom      |Aeromoça                   |stellamoraes          |bol.com.br |bol          |\n",
      "|wcarvalho@ig.com.br               |pGD%!2Pq5X|AP    |Laranja     |Fonoaudiólogo              |wcarvalho             |ig.com.br  |ig           |\n",
      "|da-conceicaodavi-lucas@hotmail.com|uhBbFxPA&9|MG    |Rosa        |Taxista                    |da-conceicaodavi-lucas|hotmail.com|hotmail      |\n",
      "|efreitas@bol.com.br               |s#q9VZt&xl|MG    |Branco      |Produtor De Audio Visual   |efreitas              |bol.com.br |bol          |\n",
      "|wnunes@bol.com.br                 |_8az1W%n7g|SE    |Azul        |Cadeirinha                 |wnunes                |bol.com.br |bol          |\n",
      "|jribeiro@bol.com.br               |MEf1X7fj_0|PA    |Marrom      |Geólogo                    |jribeiro              |bol.com.br |bol          |\n",
      "|murilo05@gmail.com                |Te&gO7GkKs|MT    |Marrom      |Técnico De Som             |murilo05              |gmail.com  |gmail        |\n",
      "|joaquim57@ig.com.br               |&2E1NY+ARc|BA    |Rosa        |Esteticista                |joaquim57             |ig.com.br  |ig           |\n",
      "|alexiada-rocha@ig.com.br          |@f@!Z!2c*2|MS    |Laranja     |Microfonista               |alexiada-rocha        |ig.com.br  |ig           |\n",
      "|pmendes@gmail.com                 |M+^XDBfe(2|RR    |Verde Claro |Fiscal                     |pmendes               |gmail.com  |gmail        |\n",
      "|renan46@bol.com.br                |Rp%2pVqfe$|PA    |Verde Escuro|Contabilista               |renan46               |bol.com.br |bol          |\n",
      "|manuelada-rosa@hotmail.com        |#hEIEOztQ3|SE    |Violeta     |Seguidor De Compras        |manuelada-rosa        |hotmail.com|hotmail      |\n",
      "|usales@ig.com.br                  |b_8xaY$ozJ|AM    |Rosa        |Almirante                  |usales                |ig.com.br  |ig           |\n",
      "|pereiranicolas@hotmail.com        |YA9I85Wb+2|MA    |Amarelo     |Consultor De Moda          |pereiranicolas        |hotmail.com|hotmail      |\n",
      "|cardosolivia@ig.com.br            |yXkDW7Ebh*|GO    |Laranja     |Barbeiro                   |cardosolivia          |ig.com.br  |ig           |\n",
      "|brenda39@ig.com.br                |XS$84Hpsnw|RJ    |Branco      |Promotor De Vendas         |brenda39              |ig.com.br  |ig           |\n",
      "|luizapeixoto@gmail.com            |TbKy82Kda$|DF    |Ciano       |Implantodontista           |luizapeixoto          |gmail.com  |gmail        |\n",
      "+----------------------------------+----------+------+------------+---------------------------+----------------------+-----------+-------------+\n",
      "only showing top 20 rows\n",
      "\n"
     ]
    },
    {
     "name": "stderr",
     "output_type": "stream",
     "text": [
      "<>:5: SyntaxWarning: invalid escape sequence '\\.'\n",
      "<>:5: SyntaxWarning: invalid escape sequence '\\.'\n",
      "C:\\Users\\ricar\\AppData\\Local\\Temp\\ipykernel_1036\\2909143902.py:5: SyntaxWarning: invalid escape sequence '\\.'\n",
      "  .withColumn(\"nome_provedor\",F.split(F.col('provedor'),'\\.').getItem(0))\n"
     ]
    }
   ],
   "source": [
    "(\n",
    "    df\n",
    "    .withColumn(\"usuario\",F.split(df.email,\"@\").getItem(0))\n",
    "    .withColumn(\"provedor\",F.split(df.email,\"@\").getItem(1))\n",
    "    .withColumn(\"nome_provedor\",F.split(F.col('provedor'),'\\.').getItem(0))\n",
    "    .show(20,False)\n",
    ")"
   ]
  },
  {
   "cell_type": "code",
   "execution_count": 23,
   "id": "78f6412a-aca7-41ae-9b4e-3f8328aaa187",
   "metadata": {
    "editable": true,
    "slideshow": {
     "slide_type": ""
    },
    "tags": []
   },
   "outputs": [
    {
     "name": "stdout",
     "output_type": "stream",
     "text": [
      "+----------------------------------+----------+------+--------------------------------------------+----------+-------------+\n",
      "|email                             |senha     |estado|concat                                      |concat2   |teste        |\n",
      "+----------------------------------+----------+------+--------------------------------------------+----------+-------------+\n",
      "|pedro-lucas53@gmail.com           |+7^7E%xFBc|RR    |pedro-lucas53@gmail.com+7^7E%xFBc           |RR- Brasil|[RR,  Brasil]|\n",
      "|rezendeisaac@hotmail.com          |_O_2GRnGOe|GO    |rezendeisaac@hotmail.com_O_2GRnGOe          |GO- Brasil|[GO,  Brasil]|\n",
      "|felipepires@uol.com.br            |*Aw5EOAvy9|MG    |felipepires@uol.com.br*Aw5EOAvy9            |MG- Brasil|[MG,  Brasil]|\n",
      "|stellamoraes@bol.com.br           |mw0AWYAs#s|AC    |stellamoraes@bol.com.brmw0AWYAs#s           |AC- Brasil|[AC,  Brasil]|\n",
      "|wcarvalho@ig.com.br               |pGD%!2Pq5X|AP    |wcarvalho@ig.com.brpGD%!2Pq5X               |AP- Brasil|[AP,  Brasil]|\n",
      "|da-conceicaodavi-lucas@hotmail.com|uhBbFxPA&9|MG    |da-conceicaodavi-lucas@hotmail.comuhBbFxPA&9|MG- Brasil|[MG,  Brasil]|\n",
      "|efreitas@bol.com.br               |s#q9VZt&xl|MG    |efreitas@bol.com.brs#q9VZt&xl               |MG- Brasil|[MG,  Brasil]|\n",
      "|wnunes@bol.com.br                 |_8az1W%n7g|SE    |wnunes@bol.com.br_8az1W%n7g                 |SE- Brasil|[SE,  Brasil]|\n",
      "|jribeiro@bol.com.br               |MEf1X7fj_0|PA    |jribeiro@bol.com.brMEf1X7fj_0               |PA- Brasil|[PA,  Brasil]|\n",
      "|murilo05@gmail.com                |Te&gO7GkKs|MT    |murilo05@gmail.comTe&gO7GkKs                |MT- Brasil|[MT,  Brasil]|\n",
      "|joaquim57@ig.com.br               |&2E1NY+ARc|BA    |joaquim57@ig.com.br&2E1NY+ARc               |BA- Brasil|[BA,  Brasil]|\n",
      "|alexiada-rocha@ig.com.br          |@f@!Z!2c*2|MS    |alexiada-rocha@ig.com.br@f@!Z!2c*2          |MS- Brasil|[MS,  Brasil]|\n",
      "|pmendes@gmail.com                 |M+^XDBfe(2|RR    |pmendes@gmail.comM+^XDBfe(2                 |RR- Brasil|[RR,  Brasil]|\n",
      "|renan46@bol.com.br                |Rp%2pVqfe$|PA    |renan46@bol.com.brRp%2pVqfe$                |PA- Brasil|[PA,  Brasil]|\n",
      "|manuelada-rosa@hotmail.com        |#hEIEOztQ3|SE    |manuelada-rosa@hotmail.com#hEIEOztQ3        |SE- Brasil|[SE,  Brasil]|\n",
      "|usales@ig.com.br                  |b_8xaY$ozJ|AM    |usales@ig.com.brb_8xaY$ozJ                  |AM- Brasil|[AM,  Brasil]|\n",
      "|pereiranicolas@hotmail.com        |YA9I85Wb+2|MA    |pereiranicolas@hotmail.comYA9I85Wb+2        |MA- Brasil|[MA,  Brasil]|\n",
      "|cardosolivia@ig.com.br            |yXkDW7Ebh*|GO    |cardosolivia@ig.com.bryXkDW7Ebh*            |GO- Brasil|[GO,  Brasil]|\n",
      "|brenda39@ig.com.br                |XS$84Hpsnw|RJ    |brenda39@ig.com.brXS$84Hpsnw                |RJ- Brasil|[RJ,  Brasil]|\n",
      "|luizapeixoto@gmail.com            |TbKy82Kda$|DF    |luizapeixoto@gmail.comTbKy82Kda$            |DF- Brasil|[DF,  Brasil]|\n",
      "+----------------------------------+----------+------+--------------------------------------------+----------+-------------+\n",
      "only showing top 20 rows\n",
      "\n"
     ]
    }
   ],
   "source": [
    "(\n",
    "    df\n",
    "    .drop(\"cor_favorita\",\"profissao\")\n",
    "    .withColumn(\"concat\",F.concat(df.email,df.senha))\n",
    "    .withColumn(\"concat2\",F.concat(df.estado, F.lit(\"- Brasil\")))\n",
    "    .withColumn(\"teste\", F.split(F.col(\"concat2\"),\"-\"))\n",
    "    .show(20,False)\n",
    ")"
   ]
  },
  {
   "cell_type": "code",
   "execution_count": 21,
   "id": "1a90dd49-707e-4cf4-a74b-b64b215ae274",
   "metadata": {},
   "outputs": [
    {
     "data": {
      "text/html": [
       "<table border='1'>\n",
       "<tr><th>email</th><th>senha</th><th>estado</th><th>cor_favorita</th><th>profissao</th><th>lower</th><th>upper</th><th>initcap</th></tr>\n",
       "<tr><td>pedro-lucas53@gma...</td><td>+7^7E%xFBc</td><td>RR</td><td>Roxo</td><td>Jogador De Golfe</td><td>jogador de golfe</td><td>JOGADOR DE GOLFE</td><td>Jogador De Golfe</td></tr>\n",
       "<tr><td>rezendeisaac@hotm...</td><td>_O_2GRnGOe</td><td>GO</td><td>Ciano</td><td>Atleta De Arremes...</td><td>atleta de arremes...</td><td>ATLETA DE ARREMES...</td><td>Atleta De Arremes...</td></tr>\n",
       "<tr><td>felipepires@uol.c...</td><td>*Aw5EOAvy9</td><td>MG</td><td>Azul</td><td>Papiloscopista</td><td>papiloscopista</td><td>PAPILOSCOPISTA</td><td>Papiloscopista</td></tr>\n",
       "<tr><td>stellamoraes@bol....</td><td>mw0AWYAs#s</td><td>AC</td><td>Marrom</td><td>Aeromoça</td><td>aeromoça</td><td>AEROMOÇA</td><td>Aeromoça</td></tr>\n",
       "<tr><td>wcarvalho@ig.com.br</td><td>pGD%!2Pq5X</td><td>AP</td><td>Laranja</td><td>Fonoaudiólogo</td><td>fonoaudiólogo</td><td>FONOAUDIÓLOGO</td><td>Fonoaudiólogo</td></tr>\n",
       "<tr><td>da-conceicaodavi-...</td><td>uhBbFxPA&amp;9</td><td>MG</td><td>Rosa</td><td>Taxista</td><td>taxista</td><td>TAXISTA</td><td>Taxista</td></tr>\n",
       "<tr><td>efreitas@bol.com.br</td><td>s#q9VZt&amp;xl</td><td>MG</td><td>Branco</td><td>Produtor De Audio...</td><td>produtor de audio...</td><td>PRODUTOR DE AUDIO...</td><td>Produtor De Audio...</td></tr>\n",
       "<tr><td>wnunes@bol.com.br</td><td>_8az1W%n7g</td><td>SE</td><td>Azul</td><td>Cadeirinha</td><td>cadeirinha</td><td>CADEIRINHA</td><td>Cadeirinha</td></tr>\n",
       "<tr><td>jribeiro@bol.com.br</td><td>MEf1X7fj_0</td><td>PA</td><td>Marrom</td><td>Geólogo</td><td>geólogo</td><td>GEÓLOGO</td><td>Geólogo</td></tr>\n",
       "<tr><td>murilo05@gmail.com</td><td>Te&amp;gO7GkKs</td><td>MT</td><td>Marrom</td><td>Técnico De Som</td><td>técnico de som</td><td>TÉCNICO DE SOM</td><td>Técnico De Som</td></tr>\n",
       "<tr><td>joaquim57@ig.com.br</td><td>&amp;2E1NY+ARc</td><td>BA</td><td>Rosa</td><td>Esteticista</td><td>esteticista</td><td>ESTETICISTA</td><td>Esteticista</td></tr>\n",
       "<tr><td>alexiada-rocha@ig...</td><td>@f@!Z!2c*2</td><td>MS</td><td>Laranja</td><td>Microfonista</td><td>microfonista</td><td>MICROFONISTA</td><td>Microfonista</td></tr>\n",
       "<tr><td>pmendes@gmail.com</td><td>M+^XDBfe(2</td><td>RR</td><td>Verde Claro</td><td>Fiscal</td><td>fiscal</td><td>FISCAL</td><td>Fiscal</td></tr>\n",
       "<tr><td>renan46@bol.com.br</td><td>Rp%2pVqfe$</td><td>PA</td><td>Verde Escuro</td><td>Contabilista</td><td>contabilista</td><td>CONTABILISTA</td><td>Contabilista</td></tr>\n",
       "<tr><td>manuelada-rosa@ho...</td><td>#hEIEOztQ3</td><td>SE</td><td>Violeta</td><td>Seguidor De Compras</td><td>seguidor de compras</td><td>SEGUIDOR DE COMPRAS</td><td>Seguidor De Compras</td></tr>\n",
       "<tr><td>usales@ig.com.br</td><td>b_8xaY$ozJ</td><td>AM</td><td>Rosa</td><td>Almirante</td><td>almirante</td><td>ALMIRANTE</td><td>Almirante</td></tr>\n",
       "<tr><td>pereiranicolas@ho...</td><td>YA9I85Wb+2</td><td>MA</td><td>Amarelo</td><td>Consultor De Moda</td><td>consultor de moda</td><td>CONSULTOR DE MODA</td><td>Consultor De Moda</td></tr>\n",
       "<tr><td>cardosolivia@ig.c...</td><td>yXkDW7Ebh*</td><td>GO</td><td>Laranja</td><td>Barbeiro</td><td>barbeiro</td><td>BARBEIRO</td><td>Barbeiro</td></tr>\n",
       "<tr><td>brenda39@ig.com.br</td><td>XS$84Hpsnw</td><td>RJ</td><td>Branco</td><td>Promotor De Vendas</td><td>promotor de vendas</td><td>PROMOTOR DE VENDAS</td><td>Promotor De Vendas</td></tr>\n",
       "<tr><td>luizapeixoto@gmai...</td><td>TbKy82Kda$</td><td>DF</td><td>Ciano</td><td>Implantodontista</td><td>implantodontista</td><td>IMPLANTODONTISTA</td><td>Implantodontista</td></tr>\n",
       "</table>\n",
       "only showing top 20 rows\n"
      ],
      "text/plain": [
       "+--------------------+----------+------+------------+--------------------+--------------------+--------------------+--------------------+\n",
       "|               email|     senha|estado|cor_favorita|           profissao|               lower|               upper|             initcap|\n",
       "+--------------------+----------+------+------------+--------------------+--------------------+--------------------+--------------------+\n",
       "|pedro-lucas53@gma...|+7^7E%xFBc|    RR|        Roxo|    Jogador De Golfe|    jogador de golfe|    JOGADOR DE GOLFE|    Jogador De Golfe|\n",
       "|rezendeisaac@hotm...|_O_2GRnGOe|    GO|       Ciano|Atleta De Arremes...|atleta de arremes...|ATLETA DE ARREMES...|Atleta De Arremes...|\n",
       "|felipepires@uol.c...|*Aw5EOAvy9|    MG|        Azul|      Papiloscopista|      papiloscopista|      PAPILOSCOPISTA|      Papiloscopista|\n",
       "|stellamoraes@bol....|mw0AWYAs#s|    AC|      Marrom|            Aeromoça|            aeromoça|            AEROMOÇA|            Aeromoça|\n",
       "| wcarvalho@ig.com.br|pGD%!2Pq5X|    AP|     Laranja|       Fonoaudiólogo|       fonoaudiólogo|       FONOAUDIÓLOGO|       Fonoaudiólogo|\n",
       "|da-conceicaodavi-...|uhBbFxPA&9|    MG|        Rosa|             Taxista|             taxista|             TAXISTA|             Taxista|\n",
       "| efreitas@bol.com.br|s#q9VZt&xl|    MG|      Branco|Produtor De Audio...|produtor de audio...|PRODUTOR DE AUDIO...|Produtor De Audio...|\n",
       "|   wnunes@bol.com.br|_8az1W%n7g|    SE|        Azul|          Cadeirinha|          cadeirinha|          CADEIRINHA|          Cadeirinha|\n",
       "| jribeiro@bol.com.br|MEf1X7fj_0|    PA|      Marrom|             Geólogo|             geólogo|             GEÓLOGO|             Geólogo|\n",
       "|  murilo05@gmail.com|Te&gO7GkKs|    MT|      Marrom|      Técnico De Som|      técnico de som|      TÉCNICO DE SOM|      Técnico De Som|\n",
       "| joaquim57@ig.com.br|&2E1NY+ARc|    BA|        Rosa|         Esteticista|         esteticista|         ESTETICISTA|         Esteticista|\n",
       "|alexiada-rocha@ig...|@f@!Z!2c*2|    MS|     Laranja|        Microfonista|        microfonista|        MICROFONISTA|        Microfonista|\n",
       "|   pmendes@gmail.com|M+^XDBfe(2|    RR| Verde Claro|              Fiscal|              fiscal|              FISCAL|              Fiscal|\n",
       "|  renan46@bol.com.br|Rp%2pVqfe$|    PA|Verde Escuro|        Contabilista|        contabilista|        CONTABILISTA|        Contabilista|\n",
       "|manuelada-rosa@ho...|#hEIEOztQ3|    SE|     Violeta| Seguidor De Compras| seguidor de compras| SEGUIDOR DE COMPRAS| Seguidor De Compras|\n",
       "|    usales@ig.com.br|b_8xaY$ozJ|    AM|        Rosa|           Almirante|           almirante|           ALMIRANTE|           Almirante|\n",
       "|pereiranicolas@ho...|YA9I85Wb+2|    MA|     Amarelo|   Consultor De Moda|   consultor de moda|   CONSULTOR DE MODA|   Consultor De Moda|\n",
       "|cardosolivia@ig.c...|yXkDW7Ebh*|    GO|     Laranja|            Barbeiro|            barbeiro|            BARBEIRO|            Barbeiro|\n",
       "|  brenda39@ig.com.br|XS$84Hpsnw|    RJ|      Branco|  Promotor De Vendas|  promotor de vendas|  PROMOTOR DE VENDAS|  Promotor De Vendas|\n",
       "|luizapeixoto@gmai...|TbKy82Kda$|    DF|       Ciano|    Implantodontista|    implantodontista|    IMPLANTODONTISTA|    Implantodontista|\n",
       "+--------------------+----------+------+------------+--------------------+--------------------+--------------------+--------------------+\n",
       "only showing top 20 rows"
      ]
     },
     "execution_count": 21,
     "metadata": {},
     "output_type": "execute_result"
    }
   ],
   "source": [
    "(\n",
    "    df\n",
    "    .withColumn(\"lower\",F.lower(df.profissao))\n",
    "    .withColumn(\"upper\", F.upper(df.profissao))\n",
    "    .withColumn(\"initcap\", F.initcap(F.col(\"lower\")))\n",
    "\n",
    ")"
   ]
  },
  {
   "cell_type": "code",
   "execution_count": 13,
   "id": "8ba03a8a-b14c-4e36-8ee8-cd21e3c87ca4",
   "metadata": {},
   "outputs": [
    {
     "name": "stdout",
     "output_type": "stream",
     "text": [
      "+----------------------------------+------------+--------------------------------------------------------------------+\n",
      "|email                             |cor_favorita|format_string                                                       |\n",
      "+----------------------------------+------------+--------------------------------------------------------------------+\n",
      "|pedro-lucas53@gmail.com           |Roxo        |Olá pedro-lucas53@gmail.com, esta e sua cor favorita Roxo           |\n",
      "|rezendeisaac@hotmail.com          |Ciano       |Olá rezendeisaac@hotmail.com, esta e sua cor favorita Ciano         |\n",
      "|felipepires@uol.com.br            |Azul        |Olá felipepires@uol.com.br, esta e sua cor favorita Azul            |\n",
      "|stellamoraes@bol.com.br           |Marrom      |Olá stellamoraes@bol.com.br, esta e sua cor favorita Marrom         |\n",
      "|wcarvalho@ig.com.br               |Laranja     |Olá wcarvalho@ig.com.br, esta e sua cor favorita Laranja            |\n",
      "|da-conceicaodavi-lucas@hotmail.com|Rosa        |Olá da-conceicaodavi-lucas@hotmail.com, esta e sua cor favorita Rosa|\n",
      "|efreitas@bol.com.br               |Branco      |Olá efreitas@bol.com.br, esta e sua cor favorita Branco             |\n",
      "|wnunes@bol.com.br                 |Azul        |Olá wnunes@bol.com.br, esta e sua cor favorita Azul                 |\n",
      "|jribeiro@bol.com.br               |Marrom      |Olá jribeiro@bol.com.br, esta e sua cor favorita Marrom             |\n",
      "|murilo05@gmail.com                |Marrom      |Olá murilo05@gmail.com, esta e sua cor favorita Marrom              |\n",
      "|joaquim57@ig.com.br               |Rosa        |Olá joaquim57@ig.com.br, esta e sua cor favorita Rosa               |\n",
      "|alexiada-rocha@ig.com.br          |Laranja     |Olá alexiada-rocha@ig.com.br, esta e sua cor favorita Laranja       |\n",
      "|pmendes@gmail.com                 |Verde Claro |Olá pmendes@gmail.com, esta e sua cor favorita Verde Claro          |\n",
      "|renan46@bol.com.br                |Verde Escuro|Olá renan46@bol.com.br, esta e sua cor favorita Verde Escuro        |\n",
      "|manuelada-rosa@hotmail.com        |Violeta     |Olá manuelada-rosa@hotmail.com, esta e sua cor favorita Violeta     |\n",
      "|usales@ig.com.br                  |Rosa        |Olá usales@ig.com.br, esta e sua cor favorita Rosa                  |\n",
      "|pereiranicolas@hotmail.com        |Amarelo     |Olá pereiranicolas@hotmail.com, esta e sua cor favorita Amarelo     |\n",
      "|cardosolivia@ig.com.br            |Laranja     |Olá cardosolivia@ig.com.br, esta e sua cor favorita Laranja         |\n",
      "|brenda39@ig.com.br                |Branco      |Olá brenda39@ig.com.br, esta e sua cor favorita Branco              |\n",
      "|luizapeixoto@gmail.com            |Ciano       |Olá luizapeixoto@gmail.com, esta e sua cor favorita Ciano           |\n",
      "+----------------------------------+------------+--------------------------------------------------------------------+\n",
      "only showing top 20 rows\n",
      "\n"
     ]
    }
   ],
   "source": [
    "(\n",
    "    df\n",
    "    .drop(\"senha\",'estado','profissao')\n",
    "    .withColumn(\"format_string\", F.format_string('Olá %s, esta e sua cor favorita %s', df.email, df.cor_favorita))\n",
    "    .show(20,False)\n",
    "\n",
    ")"
   ]
  },
  {
   "cell_type": "code",
   "execution_count": 11,
   "id": "ddbdc310-b76a-48a0-a75d-6b7a8d080cae",
   "metadata": {
    "editable": true,
    "slideshow": {
     "slide_type": ""
    },
    "tags": []
   },
   "outputs": [
    {
     "name": "stdout",
     "output_type": "stream",
     "text": [
      "+----------------------------------+----------+------+------------+---------------------------+----------------+-----+----+\n",
      "|email                             |senha     |estado|cor_favorita|profissao                  |concat          |split|trim|\n",
      "+----------------------------------+----------+------+------------+---------------------------+----------------+-----+----+\n",
      "|pedro-lucas53@gmail.com           |+7^7E%xFBc|RR    |Roxo        |Jogador De Golfe           |       RR       |RR   |RR  |\n",
      "|rezendeisaac@hotmail.com          |_O_2GRnGOe|GO    |Ciano       |Atleta De Arremesso De Peso|       GO       |GO   |GO  |\n",
      "|felipepires@uol.com.br            |*Aw5EOAvy9|MG    |Azul        |Papiloscopista             |       MG       |MG   |MG  |\n",
      "|stellamoraes@bol.com.br           |mw0AWYAs#s|AC    |Marrom      |Aeromoça                   |       AC       |AC   |AC  |\n",
      "|wcarvalho@ig.com.br               |pGD%!2Pq5X|AP    |Laranja     |Fonoaudiólogo              |       AP       |AP   |AP  |\n",
      "|da-conceicaodavi-lucas@hotmail.com|uhBbFxPA&9|MG    |Rosa        |Taxista                    |       MG       |MG   |MG  |\n",
      "|efreitas@bol.com.br               |s#q9VZt&xl|MG    |Branco      |Produtor De Audio Visual   |       MG       |MG   |MG  |\n",
      "|wnunes@bol.com.br                 |_8az1W%n7g|SE    |Azul        |Cadeirinha                 |       SE       |SE   |SE  |\n",
      "|jribeiro@bol.com.br               |MEf1X7fj_0|PA    |Marrom      |Geólogo                    |       PA       |PA   |PA  |\n",
      "|murilo05@gmail.com                |Te&gO7GkKs|MT    |Marrom      |Técnico De Som             |       MT       |MT   |MT  |\n",
      "|joaquim57@ig.com.br               |&2E1NY+ARc|BA    |Rosa        |Esteticista                |       BA       |BA   |BA  |\n",
      "|alexiada-rocha@ig.com.br          |@f@!Z!2c*2|MS    |Laranja     |Microfonista               |       MS       |MS   |MS  |\n",
      "|pmendes@gmail.com                 |M+^XDBfe(2|RR    |Verde Claro |Fiscal                     |       RR       |RR   |RR  |\n",
      "|renan46@bol.com.br                |Rp%2pVqfe$|PA    |Verde Escuro|Contabilista               |       PA       |PA   |PA  |\n",
      "|manuelada-rosa@hotmail.com        |#hEIEOztQ3|SE    |Violeta     |Seguidor De Compras        |       SE       |SE   |SE  |\n",
      "|usales@ig.com.br                  |b_8xaY$ozJ|AM    |Rosa        |Almirante                  |       AM       |AM   |AM  |\n",
      "|pereiranicolas@hotmail.com        |YA9I85Wb+2|MA    |Amarelo     |Consultor De Moda          |       MA       |MA   |MA  |\n",
      "|cardosolivia@ig.com.br            |yXkDW7Ebh*|GO    |Laranja     |Barbeiro                   |       GO       |GO   |GO  |\n",
      "|brenda39@ig.com.br                |XS$84Hpsnw|RJ    |Branco      |Promotor De Vendas         |       RJ       |RJ   |RJ  |\n",
      "|luizapeixoto@gmail.com            |TbKy82Kda$|DF    |Ciano       |Implantodontista           |       DF       |DF   |DF  |\n",
      "+----------------------------------+----------+------+------------+---------------------------+----------------+-----+----+\n",
      "only showing top 20 rows\n",
      "\n"
     ]
    }
   ],
   "source": [
    "(\n",
    "    df\n",
    "    .withColumn('concat', F.concat(F.lit('       '), df.estado,F.lit('       ')))\n",
    "    .withColumn('split', F.split(F.col('concat'),\"       \").getItem(1))\n",
    "    .withColumn('trim', F.trim(F.col('concat')))\n",
    "    .show(20, False)\n",
    ")"
   ]
  },
  {
   "cell_type": "code",
   "execution_count": null,
   "id": "f5e0050d-9b2a-48fb-bd6b-f3b7f6def690",
   "metadata": {},
   "outputs": [],
   "source": []
  }
 ],
 "metadata": {
  "kernelspec": {
   "display_name": "Python 3 (ipykernel)",
   "language": "python",
   "name": "python3"
  },
  "language_info": {
   "codemirror_mode": {
    "name": "ipython",
    "version": 3
   },
   "file_extension": ".py",
   "mimetype": "text/x-python",
   "name": "python",
   "nbconvert_exporter": "python",
   "pygments_lexer": "ipython3",
   "version": "3.12.4"
  }
 },
 "nbformat": 4,
 "nbformat_minor": 5
}
