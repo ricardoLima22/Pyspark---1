{
 "cells": [
  {
   "cell_type": "code",
   "execution_count": 7,
   "id": "3814d5bb-287b-42cd-84d4-4daa664b4d6e",
   "metadata": {
    "editable": true,
    "slideshow": {
     "slide_type": ""
    },
    "tags": []
   },
   "outputs": [],
   "source": [
    "from pyspark.sql import SparkSession"
   ]
  },
  {
   "cell_type": "code",
   "execution_count": 9,
   "id": "23c39f27-5612-47fe-9c26-1b0887204dad",
   "metadata": {
    "editable": true,
    "slideshow": {
     "slide_type": ""
    },
    "tags": []
   },
   "outputs": [],
   "source": [
    "spark = ( SparkSession.builder.appName('op')\n",
    ".config('spark.sql.repl.eagerEval.enabled', True)\n",
    ".getOrCreate()\n",
    "        )"
   ]
  },
  {
   "cell_type": "code",
   "execution_count": 7,
   "id": "228fea50-c75e-4b24-bdff-90f000b88710",
   "metadata": {},
   "outputs": [
    {
     "data": {
      "text/html": [
       "\n",
       "            <div>\n",
       "                <p><b>SparkSession - in-memory</b></p>\n",
       "                \n",
       "        <div>\n",
       "            <p><b>SparkContext</b></p>\n",
       "\n",
       "            <p><a href=\"http://DESKTOP-3A6CJDP:4043\">Spark UI</a></p>\n",
       "\n",
       "            <dl>\n",
       "              <dt>Version</dt>\n",
       "                <dd><code>v3.3.2</code></dd>\n",
       "              <dt>Master</dt>\n",
       "                <dd><code>local[*]</code></dd>\n",
       "              <dt>AppName</dt>\n",
       "                <dd><code>op</code></dd>\n",
       "            </dl>\n",
       "        </div>\n",
       "        \n",
       "            </div>\n",
       "        "
      ],
      "text/plain": [
       "<pyspark.sql.session.SparkSession at 0x26186517920>"
      ]
     },
     "execution_count": 7,
     "metadata": {},
     "output_type": "execute_result"
    }
   ],
   "source": [
    "spark"
   ]
  },
  {
   "cell_type": "code",
   "execution_count": 10,
   "id": "002d6bf3-bfe5-4283-a763-16ed5c7320a7",
   "metadata": {
    "editable": true,
    "slideshow": {
     "slide_type": ""
    },
    "tags": []
   },
   "outputs": [],
   "source": [
    "df = spark.read.parquet('./Downloads/DATASETS/DATASETS/LOGINS.parquet' , sep =\";\",inferSchema=True, header= True)"
   ]
  },
  {
   "cell_type": "code",
   "execution_count": 32,
   "id": "e69fee3b-814c-4114-a92b-733feb17ffe2",
   "metadata": {},
   "outputs": [
    {
     "data": {
      "text/html": [
       "<table border='1'>\n",
       "<tr><th>cpf</th><th>email</th><th>senha</th><th>data_de_nascimento</th><th>estado</th><th>data_cadastro</th><th>ipv4</th><th>cor_favorita</th><th>profissao</th><th>telefone</th></tr>\n",
       "<tr><td>398.471.625-73</td><td>felipepires@uol.c...</td><td>*Aw5EOAvy9</td><td>1921-11-11</td><td>MG</td><td>2023-01-02</td><td>181.90.63.58</td><td>Azul</td><td>Papiloscopista</td><td>11 9674-0553</td></tr>\n",
       "<tr><td>085.427.631-90</td><td>pedro-lucas79@yah...</td><td>B)9P4q+tLR</td><td>1944-03-01</td><td>MG</td><td>2023-01-06</td><td>171.175.90.138</td><td>Azul</td><td>Tecnólogo Em Espo...</td><td>+55 (081) 4438 9837</td></tr>\n",
       "<tr><td>940.578.623-74</td><td>fernandolopes@yah...</td><td>DE5Il)Thu*</td><td>1945-04-04</td><td>MG</td><td>2023-03-09</td><td>211.163.192.56</td><td>Azul</td><td>Tenente</td><td>0300-025-4031</td></tr>\n",
       "</table>\n"
      ],
      "text/plain": [
       "+--------------+--------------------+----------+------------------+------+-------------+--------------+------------+--------------------+-------------------+\n",
       "|           cpf|               email|     senha|data_de_nascimento|estado|data_cadastro|          ipv4|cor_favorita|           profissao|           telefone|\n",
       "+--------------+--------------------+----------+------------------+------+-------------+--------------+------------+--------------------+-------------------+\n",
       "|398.471.625-73|felipepires@uol.c...|*Aw5EOAvy9|        1921-11-11|    MG|   2023-01-02|  181.90.63.58|        Azul|      Papiloscopista|       11 9674-0553|\n",
       "|085.427.631-90|pedro-lucas79@yah...|B)9P4q+tLR|        1944-03-01|    MG|   2023-01-06|171.175.90.138|        Azul|Tecnólogo Em Espo...|+55 (081) 4438 9837|\n",
       "|940.578.623-74|fernandolopes@yah...|DE5Il)Thu*|        1945-04-04|    MG|   2023-03-09|211.163.192.56|        Azul|             Tenente|      0300-025-4031|\n",
       "+--------------+--------------------+----------+------------------+------+-------------+--------------+------------+--------------------+-------------------+"
      ]
     },
     "execution_count": 32,
     "metadata": {},
     "output_type": "execute_result"
    }
   ],
   "source": [
    "df.where((df.estado == 'MG') & (df.cor_favorita == 'Azul'))\n",
    "\n",
    "#OU\n",
    "\n",
    "df.filter(df.estado == 'MG').filter(df.cor_favorita == 'Azul')"
   ]
  },
  {
   "cell_type": "code",
   "execution_count": 38,
   "id": "4e8f3324-53e7-4723-afa4-045713642e7a",
   "metadata": {
    "editable": true,
    "slideshow": {
     "slide_type": ""
    },
    "tags": []
   },
   "outputs": [
    {
     "data": {
      "text/html": [
       "<table border='1'>\n",
       "<tr><th>cpf</th><th>email</th><th>senha</th><th>data_de_nascimento</th><th>estado</th><th>data_cadastro</th><th>ipv4</th><th>cor_favorita</th><th>profissao</th><th>telefone</th></tr>\n",
       "<tr><td>940.578.623-74</td><td>fernandolopes@yah...</td><td>DE5Il)Thu*</td><td>1945-04-04</td><td>MG</td><td>2023-03-09</td><td>211.163.192.56</td><td>Azul</td><td>Tenente</td><td>0300-025-4031</td></tr>\n",
       "</table>\n"
      ],
      "text/plain": [
       "+--------------+--------------------+----------+------------------+------+-------------+--------------+------------+---------+-------------+\n",
       "|           cpf|               email|     senha|data_de_nascimento|estado|data_cadastro|          ipv4|cor_favorita|profissao|     telefone|\n",
       "+--------------+--------------------+----------+------------------+------+-------------+--------------+------------+---------+-------------+\n",
       "|940.578.623-74|fernandolopes@yah...|DE5Il)Thu*|        1945-04-04|    MG|   2023-03-09|211.163.192.56|        Azul|  Tenente|0300-025-4031|\n",
       "+--------------+--------------------+----------+------------------+------+-------------+--------------+------------+---------+-------------+"
      ]
     },
     "execution_count": 38,
     "metadata": {},
     "output_type": "execute_result"
    }
   ],
   "source": [
    "(\n",
    "    df.filter(df.estado == 'MG')\n",
    "    .filter(df.cor_favorita == 'Azul')\n",
    "    .filter(df.profissao == 'Tenente')\n",
    ")"
   ]
  },
  {
   "cell_type": "code",
   "execution_count": 29,
   "id": "17f3ec3f-4fad-420d-bd56-7a65d39083fb",
   "metadata": {},
   "outputs": [
    {
     "data": {
      "text/html": [
       "<table border='1'>\n",
       "<tr><th>cpf</th><th>email</th><th>senha</th><th>data_de_nascimento</th><th>estado</th><th>data_cadastro</th><th>ipv4</th><th>cor_favorita</th><th>profissao</th><th>telefone</th></tr>\n",
       "<tr><td>398.471.625-73</td><td>felipepires@uol.c...</td><td>*Aw5EOAvy9</td><td>1921-11-11</td><td>MG</td><td>2023-01-02</td><td>181.90.63.58</td><td>Azul</td><td>Papiloscopista</td><td>11 9674-0553</td></tr>\n",
       "<tr><td>218.795.460-94</td><td>da-conceicaodavi-...</td><td>uhBbFxPA&amp;9</td><td>1986-05-19</td><td>MG</td><td>2023-03-07</td><td>192.93.0.24</td><td>Rosa</td><td>Taxista</td><td>+55 84 0652 9691</td></tr>\n",
       "<tr><td>715.836.940-48</td><td>efreitas@bol.com.br</td><td>s#q9VZt&amp;xl</td><td>2018-04-20</td><td>MG</td><td>2023-01-13</td><td>76.251.188.148</td><td>Branco</td><td>Produtor De Audio...</td><td>+55 (084) 1363 0052</td></tr>\n",
       "<tr><td>520.831.796-68</td><td>joaquim57@ig.com.br</td><td>&amp;2E1NY+ARc</td><td>1912-05-25</td><td>BA</td><td>2023-01-25</td><td>78.196.255.126</td><td>Rosa</td><td>Esteticista</td><td>41 7914-3753</td></tr>\n",
       "<tr><td>348.215.690-51</td><td>omoreira@bol.com.br</td><td>!8maDkdVnY</td><td>2008-10-24</td><td>MG</td><td>2023-02-20</td><td>177.2.242.176</td><td>Verde Escuro</td><td>Adestrador De Ani...</td><td>+55 61 3217-9930</td></tr>\n",
       "<tr><td>740.925.183-23</td><td>leandrodas-neves@...</td><td>_0EL5chQXe</td><td>2012-04-15</td><td>BA</td><td>2023-01-14</td><td>52.7.88.35</td><td>Azul Escuro</td><td>Jogador De Hóquei</td><td>61 3040-6271</td></tr>\n",
       "<tr><td>534.921.708-97</td><td>luigirodrigues@ig...</td><td>o^7iKswgB)</td><td>1919-12-08</td><td>BA</td><td>2023-01-17</td><td>153.175.239.154</td><td>Marrom</td><td>Consultor De Radi...</td><td>+55 31 0462 8967</td></tr>\n",
       "<tr><td>876.534.029-92</td><td>pietrarocha@hotma...</td><td>YqG8G82#M(</td><td>2018-09-20</td><td>BA</td><td>2023-02-07</td><td>7.65.90.115</td><td>Azul</td><td>General</td><td>81 2134-1812</td></tr>\n",
       "<tr><td>387.940.612-03</td><td>renanda-rocha@ig....</td><td>J@7g(ZC2Za</td><td>2016-04-07</td><td>BA</td><td>2023-03-03</td><td>161.182.89.54</td><td>Azul</td><td>Windsurfer</td><td>11 7835-0713</td></tr>\n",
       "<tr><td>207.185.936-77</td><td>isabellypires@yah...</td><td>^4#BIX@f96</td><td>1971-11-27</td><td>BA</td><td>2023-02-11</td><td>93.238.65.111</td><td>Verde</td><td>Alfaiate</td><td>+55 61 1689-4767</td></tr>\n",
       "<tr><td>137.964.520-43</td><td>natalia72@ig.com.br</td><td>i71MdCj2*^</td><td>1939-06-26</td><td>MG</td><td>2023-02-03</td><td>141.28.225.40</td><td>Branco</td><td>Espeleologista</td><td>(041) 8471 8007</td></tr>\n",
       "<tr><td>375.620.418-90</td><td>erickramos@yahoo....</td><td>98CHFvpz+n</td><td>2001-09-05</td><td>BA</td><td>2023-03-04</td><td>28.110.187.96</td><td>Ciano</td><td>Cinegrafista</td><td>+55 81 7285-5406</td></tr>\n",
       "<tr><td>918.067.435-66</td><td>nicolascorreia@bo...</td><td>teO4@CdO@_</td><td>1930-10-01</td><td>BA</td><td>2023-01-29</td><td>112.50.139.82</td><td>Preto</td><td>Preparador De Máq...</td><td>(011) 9663-2474</td></tr>\n",
       "<tr><td>790.482.315-23</td><td>noaharagao@hotmai...</td><td>#i_LhbOX52</td><td>1922-03-19</td><td>MG</td><td>2023-01-25</td><td>170.188.237.119</td><td>Preto</td><td>Empacotador</td><td>+55 (031) 9156-3903</td></tr>\n",
       "<tr><td>872.041.936-87</td><td>fsilva@yahoo.com.br</td><td>B+E9r_CkU^</td><td>1926-05-20</td><td>MG</td><td>2023-01-04</td><td>220.1.100.77</td><td>Marrom</td><td>Mecânico De Vôo</td><td>(031) 9834-4568</td></tr>\n",
       "<tr><td>832.714.650-53</td><td>ijesus@gmail.com</td><td>JLr@1Mlr!Z</td><td>1983-05-21</td><td>MG</td><td>2023-01-25</td><td>84.142.120.51</td><td>Roxo</td><td>Ministro</td><td>81 9463-7374</td></tr>\n",
       "<tr><td>529.610.873-68</td><td>barbosajuliana@bo...</td><td>$!3Td!uO%^</td><td>2016-09-03</td><td>MG</td><td>2023-02-15</td><td>85.36.21.190</td><td>Amarelo</td><td>Lenhador</td><td>(061) 3713 1708</td></tr>\n",
       "<tr><td>520.968.147-58</td><td>rebecalopes@gmail...</td><td>)&amp;0iVLt7vu</td><td>1993-03-09</td><td>BA</td><td>2023-02-15</td><td>103.50.103.136</td><td>Rosa</td><td>Telefonista</td><td>41 3883-0068</td></tr>\n",
       "<tr><td>624.073.895-65</td><td>ana-luiza85@gmail...</td><td>)m56I&amp;Clrz</td><td>1946-05-30</td><td>BA</td><td>2023-03-12</td><td>156.250.204.92</td><td>Verde Claro</td><td>Ginecologista</td><td>(021) 3625 2366</td></tr>\n",
       "<tr><td>046.395.271-52</td><td>mda-mota@yahoo.co...</td><td>#c+6+HWnl*</td><td>1990-10-12</td><td>BA</td><td>2023-03-02</td><td>25.199.66.136</td><td>Rosa</td><td>Personal Trainer</td><td>+55 71 6037 7797</td></tr>\n",
       "</table>\n",
       "only showing top 20 rows\n"
      ],
      "text/plain": [
       "+--------------+--------------------+----------+------------------+------+-------------+---------------+------------+--------------------+-------------------+\n",
       "|           cpf|               email|     senha|data_de_nascimento|estado|data_cadastro|           ipv4|cor_favorita|           profissao|           telefone|\n",
       "+--------------+--------------------+----------+------------------+------+-------------+---------------+------------+--------------------+-------------------+\n",
       "|398.471.625-73|felipepires@uol.c...|*Aw5EOAvy9|        1921-11-11|    MG|   2023-01-02|   181.90.63.58|        Azul|      Papiloscopista|       11 9674-0553|\n",
       "|218.795.460-94|da-conceicaodavi-...|uhBbFxPA&9|        1986-05-19|    MG|   2023-03-07|    192.93.0.24|        Rosa|             Taxista|   +55 84 0652 9691|\n",
       "|715.836.940-48| efreitas@bol.com.br|s#q9VZt&xl|        2018-04-20|    MG|   2023-01-13| 76.251.188.148|      Branco|Produtor De Audio...|+55 (084) 1363 0052|\n",
       "|520.831.796-68| joaquim57@ig.com.br|&2E1NY+ARc|        1912-05-25|    BA|   2023-01-25| 78.196.255.126|        Rosa|         Esteticista|       41 7914-3753|\n",
       "|348.215.690-51| omoreira@bol.com.br|!8maDkdVnY|        2008-10-24|    MG|   2023-02-20|  177.2.242.176|Verde Escuro|Adestrador De Ani...|   +55 61 3217-9930|\n",
       "|740.925.183-23|leandrodas-neves@...|_0EL5chQXe|        2012-04-15|    BA|   2023-01-14|     52.7.88.35| Azul Escuro|   Jogador De Hóquei|       61 3040-6271|\n",
       "|534.921.708-97|luigirodrigues@ig...|o^7iKswgB)|        1919-12-08|    BA|   2023-01-17|153.175.239.154|      Marrom|Consultor De Radi...|   +55 31 0462 8967|\n",
       "|876.534.029-92|pietrarocha@hotma...|YqG8G82#M(|        2018-09-20|    BA|   2023-02-07|    7.65.90.115|        Azul|             General|       81 2134-1812|\n",
       "|387.940.612-03|renanda-rocha@ig....|J@7g(ZC2Za|        2016-04-07|    BA|   2023-03-03|  161.182.89.54|        Azul|          Windsurfer|       11 7835-0713|\n",
       "|207.185.936-77|isabellypires@yah...|^4#BIX@f96|        1971-11-27|    BA|   2023-02-11|  93.238.65.111|       Verde|            Alfaiate|   +55 61 1689-4767|\n",
       "|137.964.520-43| natalia72@ig.com.br|i71MdCj2*^|        1939-06-26|    MG|   2023-02-03|  141.28.225.40|      Branco|      Espeleologista|    (041) 8471 8007|\n",
       "|375.620.418-90|erickramos@yahoo....|98CHFvpz+n|        2001-09-05|    BA|   2023-03-04|  28.110.187.96|       Ciano|        Cinegrafista|   +55 81 7285-5406|\n",
       "|918.067.435-66|nicolascorreia@bo...|teO4@CdO@_|        1930-10-01|    BA|   2023-01-29|  112.50.139.82|       Preto|Preparador De Máq...|    (011) 9663-2474|\n",
       "|790.482.315-23|noaharagao@hotmai...|#i_LhbOX52|        1922-03-19|    MG|   2023-01-25|170.188.237.119|       Preto|         Empacotador|+55 (031) 9156-3903|\n",
       "|872.041.936-87| fsilva@yahoo.com.br|B+E9r_CkU^|        1926-05-20|    MG|   2023-01-04|   220.1.100.77|      Marrom|     Mecânico De Vôo|    (031) 9834-4568|\n",
       "|832.714.650-53|    ijesus@gmail.com|JLr@1Mlr!Z|        1983-05-21|    MG|   2023-01-25|  84.142.120.51|        Roxo|            Ministro|       81 9463-7374|\n",
       "|529.610.873-68|barbosajuliana@bo...|$!3Td!uO%^|        2016-09-03|    MG|   2023-02-15|   85.36.21.190|     Amarelo|            Lenhador|    (061) 3713 1708|\n",
       "|520.968.147-58|rebecalopes@gmail...|)&0iVLt7vu|        1993-03-09|    BA|   2023-02-15| 103.50.103.136|        Rosa|         Telefonista|       41 3883-0068|\n",
       "|624.073.895-65|ana-luiza85@gmail...|)m56I&Clrz|        1946-05-30|    BA|   2023-03-12| 156.250.204.92| Verde Claro|       Ginecologista|    (021) 3625 2366|\n",
       "|046.395.271-52|mda-mota@yahoo.co...|#c+6+HWnl*|        1990-10-12|    BA|   2023-03-02|  25.199.66.136|        Rosa|    Personal Trainer|   +55 71 6037 7797|\n",
       "+--------------+--------------------+----------+------------------+------+-------------+---------------+------------+--------------------+-------------------+\n",
       "only showing top 20 rows"
      ]
     },
     "execution_count": 29,
     "metadata": {},
     "output_type": "execute_result"
    }
   ],
   "source": [
    "df.filter((df.estado == \"MG\") | (df.estado == \"BA\"))"
   ]
  },
  {
   "cell_type": "code",
   "execution_count": 41,
   "id": "a7638743-d5d8-4aa9-9de7-d983c264bb42",
   "metadata": {},
   "outputs": [
    {
     "data": {
      "text/html": [
       "<table border='1'>\n",
       "<tr><th>cpf</th><th>email</th><th>senha</th><th>data_de_nascimento</th><th>estado</th><th>data_cadastro</th><th>ipv4</th><th>cor_favorita</th><th>profissao</th><th>telefone</th></tr>\n",
       "<tr><td>981.507.362-12</td><td>pedro-lucas53@gma...</td><td>+7^7E%xFBc</td><td>2006-12-18</td><td>RR</td><td>2023-02-26</td><td>99.107.250.210</td><td>Roxo</td><td>Jogador De Golfe</td><td>31 7785-4046</td></tr>\n",
       "<tr><td>092.618.354-06</td><td>stellamoraes@bol....</td><td>mw0AWYAs#s</td><td>2021-06-01</td><td>AC</td><td>2023-01-08</td><td>26.121.127.94</td><td>Marrom</td><td>Aeromoça</td><td>+55 (071) 3033 9177</td></tr>\n",
       "<tr><td>509.427.136-99</td><td>wcarvalho@ig.com.br</td><td>pGD%!2Pq5X</td><td>1969-10-28</td><td>AP</td><td>2023-02-14</td><td>76.184.52.163</td><td>Laranja</td><td>Fonoaudiólogo</td><td>+55 (071) 6272 2468</td></tr>\n",
       "<tr><td>475.698.032-56</td><td>wnunes@bol.com.br</td><td>_8az1W%n7g</td><td>1996-05-12</td><td>SE</td><td>2023-02-04</td><td>139.196.176.154</td><td>Azul</td><td>Cadeirinha</td><td>(071) 1640-3388</td></tr>\n",
       "<tr><td>217.639.540-99</td><td>jribeiro@bol.com.br</td><td>MEf1X7fj_0</td><td>2021-10-05</td><td>PA</td><td>2023-03-02</td><td>71.22.224.5</td><td>Marrom</td><td>Geólogo</td><td>21 1432 4092</td></tr>\n",
       "<tr><td>261.938.750-77</td><td>murilo05@gmail.com</td><td>Te&amp;gO7GkKs</td><td>1917-01-05</td><td>MT</td><td>2023-02-21</td><td>136.54.123.165</td><td>Marrom</td><td>Técnico De Som</td><td>+55 (084) 5878-3346</td></tr>\n",
       "<tr><td>520.831.796-68</td><td>joaquim57@ig.com.br</td><td>&amp;2E1NY+ARc</td><td>1912-05-25</td><td>BA</td><td>2023-01-25</td><td>78.196.255.126</td><td>Rosa</td><td>Esteticista</td><td>41 7914-3753</td></tr>\n",
       "<tr><td>413.087.526-44</td><td>alexiada-rocha@ig...</td><td>@f@!Z!2c*2</td><td>1920-05-26</td><td>MS</td><td>2023-02-18</td><td>182.61.65.201</td><td>Laranja</td><td>Microfonista</td><td>(021) 3739-2944</td></tr>\n",
       "<tr><td>509.287.143-14</td><td>pmendes@gmail.com</td><td>M+^XDBfe(2</td><td>1938-03-11</td><td>RR</td><td>2023-01-19</td><td>61.234.208.17</td><td>Verde Claro</td><td>Fiscal</td><td>+55 (084) 5940-1932</td></tr>\n",
       "<tr><td>563.170.492-70</td><td>renan46@bol.com.br</td><td>Rp%2pVqfe$</td><td>1922-09-01</td><td>PA</td><td>2023-02-01</td><td>122.203.83.177</td><td>Verde Escuro</td><td>Contabilista</td><td>+55 41 6248 5773</td></tr>\n",
       "<tr><td>098.712.346-78</td><td>manuelada-rosa@ho...</td><td>#hEIEOztQ3</td><td>2013-01-10</td><td>SE</td><td>2023-01-07</td><td>175.18.73.211</td><td>Violeta</td><td>Seguidor De Compras</td><td>51 0278 0564</td></tr>\n",
       "<tr><td>345.709.261-34</td><td>usales@ig.com.br</td><td>b_8xaY$ozJ</td><td>1992-10-16</td><td>AM</td><td>2023-01-05</td><td>97.93.29.75</td><td>Rosa</td><td>Almirante</td><td>(084) 8993-4521</td></tr>\n",
       "<tr><td>318.254.906-51</td><td>pereiranicolas@ho...</td><td>YA9I85Wb+2</td><td>1945-11-18</td><td>MA</td><td>2023-01-24</td><td>182.195.33.137</td><td>Amarelo</td><td>Consultor De Moda</td><td>(084) 4591 3795</td></tr>\n",
       "<tr><td>615.790.842-49</td><td>brenda39@ig.com.br</td><td>XS$84Hpsnw</td><td>1964-02-01</td><td>RJ</td><td>2023-02-16</td><td>21.252.226.29</td><td>Branco</td><td>Promotor De Vendas</td><td>+55 (021) 4751 2004</td></tr>\n",
       "<tr><td>624.095.138-24</td><td>luizapeixoto@gmai...</td><td>TbKy82Kda$</td><td>1959-02-01</td><td>DF</td><td>2023-02-25</td><td>105.107.23.13</td><td>Ciano</td><td>Implantodontista</td><td>84 1293 1906</td></tr>\n",
       "<tr><td>027.548.639-74</td><td>msilveira@hotmail...</td><td>*JGkXTxw20</td><td>2006-10-21</td><td>RS</td><td>2023-03-15</td><td>28.79.103.46</td><td>Marrom</td><td>Transcritor</td><td>+55 41 4492 4068</td></tr>\n",
       "<tr><td>786.132.594-64</td><td>vinicius86@yahoo....</td><td>)0UFwLnQeY</td><td>1935-07-29</td><td>MA</td><td>2023-02-25</td><td>142.49.53.78</td><td>Amarelo</td><td>Geólogo</td><td>+55 41 8499 1550</td></tr>\n",
       "<tr><td>957.184.360-10</td><td>thomas46@hotmail.com</td><td>(nHUASneS4</td><td>1993-03-13</td><td>CE</td><td>2023-02-25</td><td>192.177.35.142</td><td>Roxo</td><td>Judoca</td><td>(084) 3806-6915</td></tr>\n",
       "<tr><td>573.619.804-57</td><td>hnogueira@ig.com.br</td><td>&amp;9Ejtll$PF</td><td>1949-03-06</td><td>SP</td><td>2023-01-27</td><td>168.162.247.252</td><td>Cinza</td><td>Instalador De Lin...</td><td>(031) 9148 3933</td></tr>\n",
       "<tr><td>075.291.346-80</td><td>rgoncalves@hotmai...</td><td>!ZL!yIcdt2</td><td>1994-02-18</td><td>SC</td><td>2023-03-04</td><td>118.244.5.155</td><td>Cinza</td><td>Instalador De Lin...</td><td>(021) 0787 3744</td></tr>\n",
       "</table>\n",
       "only showing top 20 rows\n"
      ],
      "text/plain": [
       "+--------------+--------------------+----------+------------------+------+-------------+---------------+------------+--------------------+-------------------+\n",
       "|           cpf|               email|     senha|data_de_nascimento|estado|data_cadastro|           ipv4|cor_favorita|           profissao|           telefone|\n",
       "+--------------+--------------------+----------+------------------+------+-------------+---------------+------------+--------------------+-------------------+\n",
       "|981.507.362-12|pedro-lucas53@gma...|+7^7E%xFBc|        2006-12-18|    RR|   2023-02-26| 99.107.250.210|        Roxo|    Jogador De Golfe|       31 7785-4046|\n",
       "|092.618.354-06|stellamoraes@bol....|mw0AWYAs#s|        2021-06-01|    AC|   2023-01-08|  26.121.127.94|      Marrom|            Aeromoça|+55 (071) 3033 9177|\n",
       "|509.427.136-99| wcarvalho@ig.com.br|pGD%!2Pq5X|        1969-10-28|    AP|   2023-02-14|  76.184.52.163|     Laranja|       Fonoaudiólogo|+55 (071) 6272 2468|\n",
       "|475.698.032-56|   wnunes@bol.com.br|_8az1W%n7g|        1996-05-12|    SE|   2023-02-04|139.196.176.154|        Azul|          Cadeirinha|    (071) 1640-3388|\n",
       "|217.639.540-99| jribeiro@bol.com.br|MEf1X7fj_0|        2021-10-05|    PA|   2023-03-02|    71.22.224.5|      Marrom|             Geólogo|       21 1432 4092|\n",
       "|261.938.750-77|  murilo05@gmail.com|Te&gO7GkKs|        1917-01-05|    MT|   2023-02-21| 136.54.123.165|      Marrom|      Técnico De Som|+55 (084) 5878-3346|\n",
       "|520.831.796-68| joaquim57@ig.com.br|&2E1NY+ARc|        1912-05-25|    BA|   2023-01-25| 78.196.255.126|        Rosa|         Esteticista|       41 7914-3753|\n",
       "|413.087.526-44|alexiada-rocha@ig...|@f@!Z!2c*2|        1920-05-26|    MS|   2023-02-18|  182.61.65.201|     Laranja|        Microfonista|    (021) 3739-2944|\n",
       "|509.287.143-14|   pmendes@gmail.com|M+^XDBfe(2|        1938-03-11|    RR|   2023-01-19|  61.234.208.17| Verde Claro|              Fiscal|+55 (084) 5940-1932|\n",
       "|563.170.492-70|  renan46@bol.com.br|Rp%2pVqfe$|        1922-09-01|    PA|   2023-02-01| 122.203.83.177|Verde Escuro|        Contabilista|   +55 41 6248 5773|\n",
       "|098.712.346-78|manuelada-rosa@ho...|#hEIEOztQ3|        2013-01-10|    SE|   2023-01-07|  175.18.73.211|     Violeta| Seguidor De Compras|       51 0278 0564|\n",
       "|345.709.261-34|    usales@ig.com.br|b_8xaY$ozJ|        1992-10-16|    AM|   2023-01-05|    97.93.29.75|        Rosa|           Almirante|    (084) 8993-4521|\n",
       "|318.254.906-51|pereiranicolas@ho...|YA9I85Wb+2|        1945-11-18|    MA|   2023-01-24| 182.195.33.137|     Amarelo|   Consultor De Moda|    (084) 4591 3795|\n",
       "|615.790.842-49|  brenda39@ig.com.br|XS$84Hpsnw|        1964-02-01|    RJ|   2023-02-16|  21.252.226.29|      Branco|  Promotor De Vendas|+55 (021) 4751 2004|\n",
       "|624.095.138-24|luizapeixoto@gmai...|TbKy82Kda$|        1959-02-01|    DF|   2023-02-25|  105.107.23.13|       Ciano|    Implantodontista|       84 1293 1906|\n",
       "|027.548.639-74|msilveira@hotmail...|*JGkXTxw20|        2006-10-21|    RS|   2023-03-15|   28.79.103.46|      Marrom|         Transcritor|   +55 41 4492 4068|\n",
       "|786.132.594-64|vinicius86@yahoo....|)0UFwLnQeY|        1935-07-29|    MA|   2023-02-25|   142.49.53.78|     Amarelo|             Geólogo|   +55 41 8499 1550|\n",
       "|957.184.360-10|thomas46@hotmail.com|(nHUASneS4|        1993-03-13|    CE|   2023-02-25| 192.177.35.142|        Roxo|              Judoca|    (084) 3806-6915|\n",
       "|573.619.804-57| hnogueira@ig.com.br|&9Ejtll$PF|        1949-03-06|    SP|   2023-01-27|168.162.247.252|       Cinza|Instalador De Lin...|    (031) 9148 3933|\n",
       "|075.291.346-80|rgoncalves@hotmai...|!ZL!yIcdt2|        1994-02-18|    SC|   2023-03-04|  118.244.5.155|       Cinza|Instalador De Lin...|    (021) 0787 3744|\n",
       "+--------------+--------------------+----------+------------------+------+-------------+---------------+------------+--------------------+-------------------+\n",
       "only showing top 20 rows"
      ]
     },
     "execution_count": 41,
     "metadata": {},
     "output_type": "execute_result"
    }
   ],
   "source": [
    "df.filter((df.estado != \"MG\") & (df.estado != \"GO\"))"
   ]
  },
  {
   "cell_type": "code",
   "execution_count": null,
   "id": "f3f6ee57-b591-413f-8eb6-8491ce7ed012",
   "metadata": {},
   "outputs": [],
   "source": []
  }
 ],
 "metadata": {
  "kernelspec": {
   "display_name": "Python 3 (ipykernel)",
   "language": "python",
   "name": "python3"
  },
  "language_info": {
   "codemirror_mode": {
    "name": "ipython",
    "version": 3
   },
   "file_extension": ".py",
   "mimetype": "text/x-python",
   "name": "python",
   "nbconvert_exporter": "python",
   "pygments_lexer": "ipython3",
   "version": "3.12.4"
  }
 },
 "nbformat": 4,
 "nbformat_minor": 5
}
