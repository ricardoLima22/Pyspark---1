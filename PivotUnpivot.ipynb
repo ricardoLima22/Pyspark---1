{
 "cells": [
  {
   "cell_type": "code",
   "execution_count": 2,
   "id": "5e456555-baae-4693-a1dd-5575ca11d8b0",
   "metadata": {},
   "outputs": [],
   "source": [
    "from pyspark.sql import SparkSession\n",
    "import pyspark.sql.functions as F"
   ]
  },
  {
   "cell_type": "code",
   "execution_count": 5,
   "id": "be605086-8c1a-4447-94f7-5d2dc7fefae4",
   "metadata": {},
   "outputs": [],
   "source": [
    "spark = ( SparkSession.builder.appName('teste')\n",
    ".config('spark.sql.repl.eagerEval.enabled', True)\n",
    ".getOrCreate()\n",
    "        )"
   ]
  },
  {
   "cell_type": "code",
   "execution_count": 12,
   "id": "00e6e0cc-f441-4a94-ba9e-f37c5e03ae9a",
   "metadata": {},
   "outputs": [],
   "source": [
    "df = spark.read.parquet('./Downloads/DATASETS/DATASETS/COMPRAS.parquet' , sep =\";\",inferSchema=True, header= True)"
   ]
  },
  {
   "cell_type": "code",
   "execution_count": 14,
   "id": "ee697787-1a28-400d-a9b8-189edc30bf3c",
   "metadata": {},
   "outputs": [
    {
     "data": {
      "text/html": [
       "<table border='1'>\n",
       "<tr><th>id</th><th>cartao_data_expiracao</th><th>cartao_numero</th><th>cartao_bandeira</th><th>cartao_cvc</th><th>codigo_transacao_bancaria</th><th>data</th><th>hora</th><th>ipv4</th><th>ipv6</th><th>cep_entrega</th><th>cd_livro</th><th>cd_cliente</th></tr>\n",
       "<tr><td>012389</td><td>11/25</td><td>5500804500517692</td><td>Discover</td><td>959</td><td>GB98MPIH622108593...</td><td>2021-07-24</td><td>03:21:28</td><td>62.145.31.164</td><td>b23d:58a2:9eff:36...</td><td>36629-219</td><td>030334762</td><td>3339828</td></tr>\n",
       "<tr><td>012476</td><td>01/31</td><td>4609489235873</td><td>VISA 16 digit</td><td>6979</td><td>GB79GAVL233010819...</td><td>2021-08-23</td><td>11:15:52</td><td>185.150.224.52</td><td>1e2c:f641:49d1:5a...</td><td>17012-747</td><td>013721981</td><td>7624624</td></tr>\n",
       "<tr><td>012478</td><td>07/23</td><td>30072722359174</td><td>American Express</td><td>689</td><td>GB51SZOU538484531...</td><td>2020-01-27</td><td>17:08:10</td><td>40.179.153.24</td><td>9bcd:ee0c:af68:33...</td><td>25921298</td><td>019458805</td><td>8703114</td></tr>\n",
       "<tr><td>012534</td><td>09/29</td><td>4561935154572</td><td>VISA 16 digit</td><td>353</td><td>GB05UNEX021466511...</td><td>2021-07-15</td><td>07:39:25</td><td>86.20.51.194</td><td>be57:8f94:132:1cb...</td><td>73799370</td><td>014347542</td><td>7799936</td></tr>\n",
       "<tr><td>012549</td><td>01/31</td><td>3541220668415122</td><td>JCB 15 digit</td><td>967</td><td>GB97RCCC581942620...</td><td>2020-07-22</td><td>23:56:14</td><td>55.189.220.65</td><td>a1fd:9dd:115f:9d5...</td><td>50727-454</td><td>020215846</td><td>6703678</td></tr>\n",
       "<tr><td>012574</td><td>06/24</td><td>4155061214506542</td><td>JCB 16 digit</td><td>362</td><td>GB93YATI197164292...</td><td>2020-05-19</td><td>10:47:09</td><td>212.26.253.42</td><td>1815:dc0e:c557:96...</td><td>67662-182</td><td>010325500</td><td>6273720</td></tr>\n",
       "<tr><td>012579</td><td>01/27</td><td>30554213514227</td><td>Maestro</td><td>9847</td><td>GB54PQLN799705859...</td><td>2021-04-15</td><td>10:36:56</td><td>168.197.230.167</td><td>7f3b:4ada:4c62:3f...</td><td>61193-110</td><td>053479015</td><td>6977964</td></tr>\n",
       "<tr><td>012648</td><td>05/24</td><td>347386847428278</td><td>VISA 16 digit</td><td>823</td><td>GB90MYZL510193283...</td><td>2021-06-19</td><td>13:07:48</td><td>146.108.131.11</td><td>c52d:53d8:371a:34...</td><td>10059-723</td><td>012331534</td><td>6616715</td></tr>\n",
       "<tr><td>012675</td><td>04/29</td><td>4534805013764</td><td>Mastercard</td><td>384</td><td>GB11XMUH824876351...</td><td>2021-07-11</td><td>07:55:08</td><td>148.155.72.234</td><td>b290:d2b7:6a58:86...</td><td>79292884</td><td>035940339</td><td>649001</td></tr>\n",
       "<tr><td>012698</td><td>12/31</td><td>4450657280386776</td><td>American Express</td><td>247</td><td>GB79ECRO017868447...</td><td>2021-08-11</td><td>12:06:48</td><td>190.135.5.172</td><td>7cbc:4554:7f5d:65...</td><td>93609312</td><td>058320651</td><td>4523531</td></tr>\n",
       "<tr><td>012845</td><td>01/32</td><td>6589457551152257</td><td>Diners Club / Car...</td><td>081</td><td>GB54ZAJA800810561...</td><td>2023-02-27</td><td>09:34:58</td><td>117.107.7.243</td><td>d3f6:6a7f:32a8:eb...</td><td>65177115</td><td>032169692</td><td>8443760</td></tr>\n",
       "<tr><td>012948</td><td>12/28</td><td>373871288580551</td><td>Diners Club / Car...</td><td>619</td><td>GB43SXJF889505944...</td><td>2020-02-20</td><td>03:10:01</td><td>210.130.27.213</td><td>9ae4:b03a:1a1f:c6...</td><td>39334-766</td><td>032169692</td><td>1235431</td></tr>\n",
       "<tr><td>012964</td><td>12/30</td><td>4852311914204</td><td>Mastercard</td><td>555</td><td>GB64DLQF090053954...</td><td>2022-10-04</td><td>06:40:47</td><td>129.93.60.161</td><td>5bfe:ad1b:a4f1:f2...</td><td>41199-650</td><td>033338998</td><td>7811168</td></tr>\n",
       "<tr><td>012984</td><td>06/31</td><td>4513536757134128830</td><td>VISA 19 digit</td><td>834</td><td>GB32QSLY821583204...</td><td>2020-08-05</td><td>09:45:12</td><td>141.203.245.233</td><td>7528:d2f8:fa09:82...</td><td>84410-583</td><td>042900595</td><td>2093927</td></tr>\n",
       "<tr><td>012986</td><td>10/26</td><td>3585620838660639</td><td>Mastercard</td><td>440</td><td>GB79ZFSL741355562...</td><td>2020-05-06</td><td>23:22:03</td><td>221.251.216.243</td><td>5da7:4583:5800:96...</td><td>16961-730</td><td>019458805</td><td>3945329</td></tr>\n",
       "<tr><td>013257</td><td>05/23</td><td>6579633995016199</td><td>VISA 13 digit</td><td>9804</td><td>GB93NZLK218118563...</td><td>2022-11-28</td><td>02:09:43</td><td>189.189.141.229</td><td>7b91:3b21:d3f1:36...</td><td>83312054</td><td>027740385</td><td>6689138</td></tr>\n",
       "<tr><td>013265</td><td>12/31</td><td>3535506018736607</td><td>JCB 15 digit</td><td>702</td><td>GB97UUHZ239804882...</td><td>2020-10-27</td><td>18:17:07</td><td>24.152.218.181</td><td>77da:6ce5:522a:ac...</td><td>06479-166</td><td>049141690</td><td>1942388</td></tr>\n",
       "<tr><td>013274</td><td>01/24</td><td>3568580151701777</td><td>JCB 16 digit</td><td>257</td><td>GB80ISML116442671...</td><td>2021-12-20</td><td>14:44:09</td><td>42.253.7.153</td><td>cf6a:3335:55be:e0...</td><td>30462-427</td><td>104361784</td><td>2487770</td></tr>\n",
       "<tr><td>013457</td><td>06/28</td><td>4589839699652790803</td><td>Maestro</td><td>280</td><td>GB22HUUD094642820...</td><td>2021-10-26</td><td>23:04:27</td><td>207.179.196.45</td><td>9b03:e5f0:c72f:c7...</td><td>10506549</td><td>021006591</td><td>4312106</td></tr>\n",
       "<tr><td>013478</td><td>07/24</td><td>3560452545224585</td><td>VISA 16 digit</td><td>126</td><td>GB63LUHF437452702...</td><td>2020-05-10</td><td>02:33:28</td><td>105.127.245.188</td><td>dd79:3fca:9d38:98...</td><td>10354-560</td><td>019488257</td><td>670483</td></tr>\n",
       "</table>\n",
       "only showing top 20 rows\n"
      ],
      "text/plain": [
       "+------+---------------------+-------------------+--------------------+----------+-------------------------+----------+--------+---------------+--------------------+-----------+---------+----------+\n",
       "|    id|cartao_data_expiracao|      cartao_numero|     cartao_bandeira|cartao_cvc|codigo_transacao_bancaria|      data|    hora|           ipv4|                ipv6|cep_entrega| cd_livro|cd_cliente|\n",
       "+------+---------------------+-------------------+--------------------+----------+-------------------------+----------+--------+---------------+--------------------+-----------+---------+----------+\n",
       "|012389|                11/25|   5500804500517692|            Discover|       959|     GB98MPIH622108593...|2021-07-24|03:21:28|  62.145.31.164|b23d:58a2:9eff:36...|  36629-219|030334762|   3339828|\n",
       "|012476|                01/31|      4609489235873|       VISA 16 digit|      6979|     GB79GAVL233010819...|2021-08-23|11:15:52| 185.150.224.52|1e2c:f641:49d1:5a...|  17012-747|013721981|   7624624|\n",
       "|012478|                07/23|     30072722359174|    American Express|       689|     GB51SZOU538484531...|2020-01-27|17:08:10|  40.179.153.24|9bcd:ee0c:af68:33...|   25921298|019458805|   8703114|\n",
       "|012534|                09/29|      4561935154572|       VISA 16 digit|       353|     GB05UNEX021466511...|2021-07-15|07:39:25|   86.20.51.194|be57:8f94:132:1cb...|   73799370|014347542|   7799936|\n",
       "|012549|                01/31|   3541220668415122|        JCB 15 digit|       967|     GB97RCCC581942620...|2020-07-22|23:56:14|  55.189.220.65|a1fd:9dd:115f:9d5...|  50727-454|020215846|   6703678|\n",
       "|012574|                06/24|   4155061214506542|        JCB 16 digit|       362|     GB93YATI197164292...|2020-05-19|10:47:09|  212.26.253.42|1815:dc0e:c557:96...|  67662-182|010325500|   6273720|\n",
       "|012579|                01/27|     30554213514227|             Maestro|      9847|     GB54PQLN799705859...|2021-04-15|10:36:56|168.197.230.167|7f3b:4ada:4c62:3f...|  61193-110|053479015|   6977964|\n",
       "|012648|                05/24|    347386847428278|       VISA 16 digit|       823|     GB90MYZL510193283...|2021-06-19|13:07:48| 146.108.131.11|c52d:53d8:371a:34...|  10059-723|012331534|   6616715|\n",
       "|012675|                04/29|      4534805013764|          Mastercard|       384|     GB11XMUH824876351...|2021-07-11|07:55:08| 148.155.72.234|b290:d2b7:6a58:86...|   79292884|035940339|    649001|\n",
       "|012698|                12/31|   4450657280386776|    American Express|       247|     GB79ECRO017868447...|2021-08-11|12:06:48|  190.135.5.172|7cbc:4554:7f5d:65...|   93609312|058320651|   4523531|\n",
       "|012845|                01/32|   6589457551152257|Diners Club / Car...|       081|     GB54ZAJA800810561...|2023-02-27|09:34:58|  117.107.7.243|d3f6:6a7f:32a8:eb...|   65177115|032169692|   8443760|\n",
       "|012948|                12/28|    373871288580551|Diners Club / Car...|       619|     GB43SXJF889505944...|2020-02-20|03:10:01| 210.130.27.213|9ae4:b03a:1a1f:c6...|  39334-766|032169692|   1235431|\n",
       "|012964|                12/30|      4852311914204|          Mastercard|       555|     GB64DLQF090053954...|2022-10-04|06:40:47|  129.93.60.161|5bfe:ad1b:a4f1:f2...|  41199-650|033338998|   7811168|\n",
       "|012984|                06/31|4513536757134128830|       VISA 19 digit|       834|     GB32QSLY821583204...|2020-08-05|09:45:12|141.203.245.233|7528:d2f8:fa09:82...|  84410-583|042900595|   2093927|\n",
       "|012986|                10/26|   3585620838660639|          Mastercard|       440|     GB79ZFSL741355562...|2020-05-06|23:22:03|221.251.216.243|5da7:4583:5800:96...|  16961-730|019458805|   3945329|\n",
       "|013257|                05/23|   6579633995016199|       VISA 13 digit|      9804|     GB93NZLK218118563...|2022-11-28|02:09:43|189.189.141.229|7b91:3b21:d3f1:36...|   83312054|027740385|   6689138|\n",
       "|013265|                12/31|   3535506018736607|        JCB 15 digit|       702|     GB97UUHZ239804882...|2020-10-27|18:17:07| 24.152.218.181|77da:6ce5:522a:ac...|  06479-166|049141690|   1942388|\n",
       "|013274|                01/24|   3568580151701777|        JCB 16 digit|       257|     GB80ISML116442671...|2021-12-20|14:44:09|   42.253.7.153|cf6a:3335:55be:e0...|  30462-427|104361784|   2487770|\n",
       "|013457|                06/28|4589839699652790803|             Maestro|       280|     GB22HUUD094642820...|2021-10-26|23:04:27| 207.179.196.45|9b03:e5f0:c72f:c7...|   10506549|021006591|   4312106|\n",
       "|013478|                07/24|   3560452545224585|       VISA 16 digit|       126|     GB63LUHF437452702...|2020-05-10|02:33:28|105.127.245.188|dd79:3fca:9d38:98...|  10354-560|019488257|    670483|\n",
       "+------+---------------------+-------------------+--------------------+----------+-------------------------+----------+--------+---------------+--------------------+-----------+---------+----------+\n",
       "only showing top 20 rows"
      ]
     },
     "execution_count": 14,
     "metadata": {},
     "output_type": "execute_result"
    }
   ],
   "source": [
    "df"
   ]
  },
  {
   "cell_type": "code",
   "execution_count": 22,
   "id": "f9900302-36ea-40b5-98f0-be481cb05e1a",
   "metadata": {},
   "outputs": [
    {
     "data": {
      "text/html": [
       "<table border='1'>\n",
       "<tr><th>id</th><th>cartao_data_expiracao</th><th>cartao_numero</th><th>cartao_bandeira</th><th>cartao_cvc</th><th>codigo_transacao_bancaria</th><th>data</th><th>hora</th><th>ipv4</th><th>ipv6</th><th>cep_entrega</th><th>cd_livro</th><th>cd_cliente</th><th>mes</th></tr>\n",
       "<tr><td>012389</td><td>11/25</td><td>5500804500517692</td><td>Discover</td><td>959</td><td>GB98MPIH622108593...</td><td>2021-07-24</td><td>03:21:28</td><td>62.145.31.164</td><td>b23d:58a2:9eff:36...</td><td>36629-219</td><td>030334762</td><td>3339828</td><td>July</td></tr>\n",
       "<tr><td>012476</td><td>01/31</td><td>4609489235873</td><td>VISA 16 digit</td><td>6979</td><td>GB79GAVL233010819...</td><td>2021-08-23</td><td>11:15:52</td><td>185.150.224.52</td><td>1e2c:f641:49d1:5a...</td><td>17012-747</td><td>013721981</td><td>7624624</td><td>August</td></tr>\n",
       "<tr><td>012478</td><td>07/23</td><td>30072722359174</td><td>American Express</td><td>689</td><td>GB51SZOU538484531...</td><td>2020-01-27</td><td>17:08:10</td><td>40.179.153.24</td><td>9bcd:ee0c:af68:33...</td><td>25921298</td><td>019458805</td><td>8703114</td><td>January</td></tr>\n",
       "<tr><td>012534</td><td>09/29</td><td>4561935154572</td><td>VISA 16 digit</td><td>353</td><td>GB05UNEX021466511...</td><td>2021-07-15</td><td>07:39:25</td><td>86.20.51.194</td><td>be57:8f94:132:1cb...</td><td>73799370</td><td>014347542</td><td>7799936</td><td>July</td></tr>\n",
       "<tr><td>012549</td><td>01/31</td><td>3541220668415122</td><td>JCB 15 digit</td><td>967</td><td>GB97RCCC581942620...</td><td>2020-07-22</td><td>23:56:14</td><td>55.189.220.65</td><td>a1fd:9dd:115f:9d5...</td><td>50727-454</td><td>020215846</td><td>6703678</td><td>July</td></tr>\n",
       "<tr><td>012574</td><td>06/24</td><td>4155061214506542</td><td>JCB 16 digit</td><td>362</td><td>GB93YATI197164292...</td><td>2020-05-19</td><td>10:47:09</td><td>212.26.253.42</td><td>1815:dc0e:c557:96...</td><td>67662-182</td><td>010325500</td><td>6273720</td><td>May</td></tr>\n",
       "<tr><td>012579</td><td>01/27</td><td>30554213514227</td><td>Maestro</td><td>9847</td><td>GB54PQLN799705859...</td><td>2021-04-15</td><td>10:36:56</td><td>168.197.230.167</td><td>7f3b:4ada:4c62:3f...</td><td>61193-110</td><td>053479015</td><td>6977964</td><td>April</td></tr>\n",
       "<tr><td>012648</td><td>05/24</td><td>347386847428278</td><td>VISA 16 digit</td><td>823</td><td>GB90MYZL510193283...</td><td>2021-06-19</td><td>13:07:48</td><td>146.108.131.11</td><td>c52d:53d8:371a:34...</td><td>10059-723</td><td>012331534</td><td>6616715</td><td>June</td></tr>\n",
       "<tr><td>012675</td><td>04/29</td><td>4534805013764</td><td>Mastercard</td><td>384</td><td>GB11XMUH824876351...</td><td>2021-07-11</td><td>07:55:08</td><td>148.155.72.234</td><td>b290:d2b7:6a58:86...</td><td>79292884</td><td>035940339</td><td>649001</td><td>July</td></tr>\n",
       "<tr><td>012698</td><td>12/31</td><td>4450657280386776</td><td>American Express</td><td>247</td><td>GB79ECRO017868447...</td><td>2021-08-11</td><td>12:06:48</td><td>190.135.5.172</td><td>7cbc:4554:7f5d:65...</td><td>93609312</td><td>058320651</td><td>4523531</td><td>August</td></tr>\n",
       "<tr><td>012845</td><td>01/32</td><td>6589457551152257</td><td>Diners Club / Car...</td><td>081</td><td>GB54ZAJA800810561...</td><td>2023-02-27</td><td>09:34:58</td><td>117.107.7.243</td><td>d3f6:6a7f:32a8:eb...</td><td>65177115</td><td>032169692</td><td>8443760</td><td>February</td></tr>\n",
       "<tr><td>012948</td><td>12/28</td><td>373871288580551</td><td>Diners Club / Car...</td><td>619</td><td>GB43SXJF889505944...</td><td>2020-02-20</td><td>03:10:01</td><td>210.130.27.213</td><td>9ae4:b03a:1a1f:c6...</td><td>39334-766</td><td>032169692</td><td>1235431</td><td>February</td></tr>\n",
       "<tr><td>012964</td><td>12/30</td><td>4852311914204</td><td>Mastercard</td><td>555</td><td>GB64DLQF090053954...</td><td>2022-10-04</td><td>06:40:47</td><td>129.93.60.161</td><td>5bfe:ad1b:a4f1:f2...</td><td>41199-650</td><td>033338998</td><td>7811168</td><td>October</td></tr>\n",
       "<tr><td>012984</td><td>06/31</td><td>4513536757134128830</td><td>VISA 19 digit</td><td>834</td><td>GB32QSLY821583204...</td><td>2020-08-05</td><td>09:45:12</td><td>141.203.245.233</td><td>7528:d2f8:fa09:82...</td><td>84410-583</td><td>042900595</td><td>2093927</td><td>August</td></tr>\n",
       "<tr><td>012986</td><td>10/26</td><td>3585620838660639</td><td>Mastercard</td><td>440</td><td>GB79ZFSL741355562...</td><td>2020-05-06</td><td>23:22:03</td><td>221.251.216.243</td><td>5da7:4583:5800:96...</td><td>16961-730</td><td>019458805</td><td>3945329</td><td>May</td></tr>\n",
       "<tr><td>013257</td><td>05/23</td><td>6579633995016199</td><td>VISA 13 digit</td><td>9804</td><td>GB93NZLK218118563...</td><td>2022-11-28</td><td>02:09:43</td><td>189.189.141.229</td><td>7b91:3b21:d3f1:36...</td><td>83312054</td><td>027740385</td><td>6689138</td><td>November</td></tr>\n",
       "<tr><td>013265</td><td>12/31</td><td>3535506018736607</td><td>JCB 15 digit</td><td>702</td><td>GB97UUHZ239804882...</td><td>2020-10-27</td><td>18:17:07</td><td>24.152.218.181</td><td>77da:6ce5:522a:ac...</td><td>06479-166</td><td>049141690</td><td>1942388</td><td>October</td></tr>\n",
       "<tr><td>013274</td><td>01/24</td><td>3568580151701777</td><td>JCB 16 digit</td><td>257</td><td>GB80ISML116442671...</td><td>2021-12-20</td><td>14:44:09</td><td>42.253.7.153</td><td>cf6a:3335:55be:e0...</td><td>30462-427</td><td>104361784</td><td>2487770</td><td>December</td></tr>\n",
       "<tr><td>013457</td><td>06/28</td><td>4589839699652790803</td><td>Maestro</td><td>280</td><td>GB22HUUD094642820...</td><td>2021-10-26</td><td>23:04:27</td><td>207.179.196.45</td><td>9b03:e5f0:c72f:c7...</td><td>10506549</td><td>021006591</td><td>4312106</td><td>October</td></tr>\n",
       "<tr><td>013478</td><td>07/24</td><td>3560452545224585</td><td>VISA 16 digit</td><td>126</td><td>GB63LUHF437452702...</td><td>2020-05-10</td><td>02:33:28</td><td>105.127.245.188</td><td>dd79:3fca:9d38:98...</td><td>10354-560</td><td>019488257</td><td>670483</td><td>May</td></tr>\n",
       "</table>\n",
       "only showing top 20 rows\n"
      ],
      "text/plain": [
       "+------+---------------------+-------------------+--------------------+----------+-------------------------+----------+--------+---------------+--------------------+-----------+---------+----------+--------+\n",
       "|    id|cartao_data_expiracao|      cartao_numero|     cartao_bandeira|cartao_cvc|codigo_transacao_bancaria|      data|    hora|           ipv4|                ipv6|cep_entrega| cd_livro|cd_cliente|     mes|\n",
       "+------+---------------------+-------------------+--------------------+----------+-------------------------+----------+--------+---------------+--------------------+-----------+---------+----------+--------+\n",
       "|012389|                11/25|   5500804500517692|            Discover|       959|     GB98MPIH622108593...|2021-07-24|03:21:28|  62.145.31.164|b23d:58a2:9eff:36...|  36629-219|030334762|   3339828|    July|\n",
       "|012476|                01/31|      4609489235873|       VISA 16 digit|      6979|     GB79GAVL233010819...|2021-08-23|11:15:52| 185.150.224.52|1e2c:f641:49d1:5a...|  17012-747|013721981|   7624624|  August|\n",
       "|012478|                07/23|     30072722359174|    American Express|       689|     GB51SZOU538484531...|2020-01-27|17:08:10|  40.179.153.24|9bcd:ee0c:af68:33...|   25921298|019458805|   8703114| January|\n",
       "|012534|                09/29|      4561935154572|       VISA 16 digit|       353|     GB05UNEX021466511...|2021-07-15|07:39:25|   86.20.51.194|be57:8f94:132:1cb...|   73799370|014347542|   7799936|    July|\n",
       "|012549|                01/31|   3541220668415122|        JCB 15 digit|       967|     GB97RCCC581942620...|2020-07-22|23:56:14|  55.189.220.65|a1fd:9dd:115f:9d5...|  50727-454|020215846|   6703678|    July|\n",
       "|012574|                06/24|   4155061214506542|        JCB 16 digit|       362|     GB93YATI197164292...|2020-05-19|10:47:09|  212.26.253.42|1815:dc0e:c557:96...|  67662-182|010325500|   6273720|     May|\n",
       "|012579|                01/27|     30554213514227|             Maestro|      9847|     GB54PQLN799705859...|2021-04-15|10:36:56|168.197.230.167|7f3b:4ada:4c62:3f...|  61193-110|053479015|   6977964|   April|\n",
       "|012648|                05/24|    347386847428278|       VISA 16 digit|       823|     GB90MYZL510193283...|2021-06-19|13:07:48| 146.108.131.11|c52d:53d8:371a:34...|  10059-723|012331534|   6616715|    June|\n",
       "|012675|                04/29|      4534805013764|          Mastercard|       384|     GB11XMUH824876351...|2021-07-11|07:55:08| 148.155.72.234|b290:d2b7:6a58:86...|   79292884|035940339|    649001|    July|\n",
       "|012698|                12/31|   4450657280386776|    American Express|       247|     GB79ECRO017868447...|2021-08-11|12:06:48|  190.135.5.172|7cbc:4554:7f5d:65...|   93609312|058320651|   4523531|  August|\n",
       "|012845|                01/32|   6589457551152257|Diners Club / Car...|       081|     GB54ZAJA800810561...|2023-02-27|09:34:58|  117.107.7.243|d3f6:6a7f:32a8:eb...|   65177115|032169692|   8443760|February|\n",
       "|012948|                12/28|    373871288580551|Diners Club / Car...|       619|     GB43SXJF889505944...|2020-02-20|03:10:01| 210.130.27.213|9ae4:b03a:1a1f:c6...|  39334-766|032169692|   1235431|February|\n",
       "|012964|                12/30|      4852311914204|          Mastercard|       555|     GB64DLQF090053954...|2022-10-04|06:40:47|  129.93.60.161|5bfe:ad1b:a4f1:f2...|  41199-650|033338998|   7811168| October|\n",
       "|012984|                06/31|4513536757134128830|       VISA 19 digit|       834|     GB32QSLY821583204...|2020-08-05|09:45:12|141.203.245.233|7528:d2f8:fa09:82...|  84410-583|042900595|   2093927|  August|\n",
       "|012986|                10/26|   3585620838660639|          Mastercard|       440|     GB79ZFSL741355562...|2020-05-06|23:22:03|221.251.216.243|5da7:4583:5800:96...|  16961-730|019458805|   3945329|     May|\n",
       "|013257|                05/23|   6579633995016199|       VISA 13 digit|      9804|     GB93NZLK218118563...|2022-11-28|02:09:43|189.189.141.229|7b91:3b21:d3f1:36...|   83312054|027740385|   6689138|November|\n",
       "|013265|                12/31|   3535506018736607|        JCB 15 digit|       702|     GB97UUHZ239804882...|2020-10-27|18:17:07| 24.152.218.181|77da:6ce5:522a:ac...|  06479-166|049141690|   1942388| October|\n",
       "|013274|                01/24|   3568580151701777|        JCB 16 digit|       257|     GB80ISML116442671...|2021-12-20|14:44:09|   42.253.7.153|cf6a:3335:55be:e0...|  30462-427|104361784|   2487770|December|\n",
       "|013457|                06/28|4589839699652790803|             Maestro|       280|     GB22HUUD094642820...|2021-10-26|23:04:27| 207.179.196.45|9b03:e5f0:c72f:c7...|   10506549|021006591|   4312106| October|\n",
       "|013478|                07/24|   3560452545224585|       VISA 16 digit|       126|     GB63LUHF437452702...|2020-05-10|02:33:28|105.127.245.188|dd79:3fca:9d38:98...|  10354-560|019488257|    670483|     May|\n",
       "+------+---------------------+-------------------+--------------------+----------+-------------------------+----------+--------+---------------+--------------------+-----------+---------+----------+--------+\n",
       "only showing top 20 rows"
      ]
     },
     "execution_count": 22,
     "metadata": {},
     "output_type": "execute_result"
    }
   ],
   "source": [
    "df.withColumn(\"mes\", F.date_format(\"data\", \"MMMM\"))"
   ]
  },
  {
   "cell_type": "code",
   "execution_count": 66,
   "id": "9493c385-9d83-444d-aa21-6ecc89090f1a",
   "metadata": {},
   "outputs": [],
   "source": [
    "df2 = (\n",
    "    df\n",
    "    .withColumn(\"mes\", F.date_format(\"data\", \"MMMM\"))\n",
    "    .groupBy(\"cartao_bandeira\")\n",
    "    .pivot(\"mes\",  [\"January\", \"February\"])\n",
    "    .agg(F.count(\"*\"))\n",
    ")"
   ]
  },
  {
   "cell_type": "code",
   "execution_count": 68,
   "id": "1e3a815b-304a-4ccc-904b-ce74f6a89bb0",
   "metadata": {},
   "outputs": [
    {
     "data": {
      "text/html": [
       "<table border='1'>\n",
       "<tr><th>cartao_bandeira</th><th>January</th><th>February</th></tr>\n",
       "<tr><td>VISA 16 digit</td><td>878</td><td>772</td></tr>\n",
       "<tr><td>VISA 13 digit</td><td>420</td><td>350</td></tr>\n",
       "<tr><td>Discover</td><td>454</td><td>406</td></tr>\n",
       "<tr><td>Diners Club / Car...</td><td>397</td><td>395</td></tr>\n",
       "<tr><td>American Express</td><td>385</td><td>353</td></tr>\n",
       "<tr><td>Maestro</td><td>424</td><td>374</td></tr>\n",
       "<tr><td>Mastercard</td><td>415</td><td>359</td></tr>\n",
       "<tr><td>JCB 16 digit</td><td>835</td><td>756</td></tr>\n",
       "<tr><td>VISA 19 digit</td><td>437</td><td>388</td></tr>\n",
       "<tr><td>JCB 15 digit</td><td>386</td><td>374</td></tr>\n",
       "</table>\n"
      ],
      "text/plain": [
       "+--------------------+-------+--------+\n",
       "|     cartao_bandeira|January|February|\n",
       "+--------------------+-------+--------+\n",
       "|       VISA 16 digit|    878|     772|\n",
       "|       VISA 13 digit|    420|     350|\n",
       "|            Discover|    454|     406|\n",
       "|Diners Club / Car...|    397|     395|\n",
       "|    American Express|    385|     353|\n",
       "|             Maestro|    424|     374|\n",
       "|          Mastercard|    415|     359|\n",
       "|        JCB 16 digit|    835|     756|\n",
       "|       VISA 19 digit|    437|     388|\n",
       "|        JCB 15 digit|    386|     374|\n",
       "+--------------------+-------+--------+"
      ]
     },
     "execution_count": 68,
     "metadata": {},
     "output_type": "execute_result"
    }
   ],
   "source": [
    "df2"
   ]
  },
  {
   "cell_type": "code",
   "execution_count": 82,
   "id": "4d4dc830-4ad4-4018-95eb-64cd27772963",
   "metadata": {},
   "outputs": [
    {
     "data": {
      "text/html": [
       "<table border='1'>\n",
       "<tr><th>cartao_bandeira</th><th>mes</th><th>valor</th></tr>\n",
       "<tr><td>VISA 16 digit</td><td>Jan</td><td>878</td></tr>\n",
       "<tr><td>VISA 16 digit</td><td>Fev</td><td>772</td></tr>\n",
       "<tr><td>VISA 13 digit</td><td>Jan</td><td>420</td></tr>\n",
       "<tr><td>VISA 13 digit</td><td>Fev</td><td>350</td></tr>\n",
       "<tr><td>Discover</td><td>Jan</td><td>454</td></tr>\n",
       "<tr><td>Discover</td><td>Fev</td><td>406</td></tr>\n",
       "<tr><td>Diners Club / Car...</td><td>Jan</td><td>397</td></tr>\n",
       "<tr><td>Diners Club / Car...</td><td>Fev</td><td>395</td></tr>\n",
       "<tr><td>American Express</td><td>Jan</td><td>385</td></tr>\n",
       "<tr><td>American Express</td><td>Fev</td><td>353</td></tr>\n",
       "<tr><td>Maestro</td><td>Jan</td><td>424</td></tr>\n",
       "<tr><td>Maestro</td><td>Fev</td><td>374</td></tr>\n",
       "<tr><td>Mastercard</td><td>Jan</td><td>415</td></tr>\n",
       "<tr><td>Mastercard</td><td>Fev</td><td>359</td></tr>\n",
       "<tr><td>JCB 16 digit</td><td>Jan</td><td>835</td></tr>\n",
       "<tr><td>JCB 16 digit</td><td>Fev</td><td>756</td></tr>\n",
       "<tr><td>VISA 19 digit</td><td>Jan</td><td>437</td></tr>\n",
       "<tr><td>VISA 19 digit</td><td>Fev</td><td>388</td></tr>\n",
       "<tr><td>JCB 15 digit</td><td>Jan</td><td>386</td></tr>\n",
       "<tr><td>JCB 15 digit</td><td>Fev</td><td>374</td></tr>\n",
       "</table>\n"
      ],
      "text/plain": [
       "+--------------------+---+-----+\n",
       "|     cartao_bandeira|mes|valor|\n",
       "+--------------------+---+-----+\n",
       "|       VISA 16 digit|Jan|  878|\n",
       "|       VISA 16 digit|Fev|  772|\n",
       "|       VISA 13 digit|Jan|  420|\n",
       "|       VISA 13 digit|Fev|  350|\n",
       "|            Discover|Jan|  454|\n",
       "|            Discover|Fev|  406|\n",
       "|Diners Club / Car...|Jan|  397|\n",
       "|Diners Club / Car...|Fev|  395|\n",
       "|    American Express|Jan|  385|\n",
       "|    American Express|Fev|  353|\n",
       "|             Maestro|Jan|  424|\n",
       "|             Maestro|Fev|  374|\n",
       "|          Mastercard|Jan|  415|\n",
       "|          Mastercard|Fev|  359|\n",
       "|        JCB 16 digit|Jan|  835|\n",
       "|        JCB 16 digit|Fev|  756|\n",
       "|       VISA 19 digit|Jan|  437|\n",
       "|       VISA 19 digit|Fev|  388|\n",
       "|        JCB 15 digit|Jan|  386|\n",
       "|        JCB 15 digit|Fev|  374|\n",
       "+--------------------+---+-----+"
      ]
     },
     "execution_count": 82,
     "metadata": {},
     "output_type": "execute_result"
    }
   ],
   "source": [
    "df2.select('cartao_bandeira', F.expr('stack(2, \"Jan\", January, \"Fev\",February ) as (mes,valor)'))"
   ]
  },
  {
   "cell_type": "code",
   "execution_count": null,
   "id": "3a0831ca-c65e-43b6-9a70-d52083b9efde",
   "metadata": {},
   "outputs": [],
   "source": []
  }
 ],
 "metadata": {
  "kernelspec": {
   "display_name": "Python 3 (ipykernel)",
   "language": "python",
   "name": "python3"
  },
  "language_info": {
   "codemirror_mode": {
    "name": "ipython",
    "version": 3
   },
   "file_extension": ".py",
   "mimetype": "text/x-python",
   "name": "python",
   "nbconvert_exporter": "python",
   "pygments_lexer": "ipython3",
   "version": "3.12.4"
  }
 },
 "nbformat": 4,
 "nbformat_minor": 5
}
