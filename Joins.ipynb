{
 "cells": [
  {
   "cell_type": "code",
   "execution_count": null,
   "id": "093fbab4-634c-458f-9eb0-da2e0d1ddffc",
   "metadata": {},
   "outputs": [],
   "source": [
    "from pyspark.sql import SparkSession\n",
    "import pyspark.sql.functions as F"
   ]
  },
  {
   "cell_type": "code",
   "execution_count": null,
   "id": "df1ba445-9ce7-42bb-b8e5-b3c42617a692",
   "metadata": {},
   "outputs": [],
   "source": [
    "spark = ( SparkSession.builder.appName('teste')\n",
    ".config('spark.sql.repl.eagerEval.enabled', True)\n",
    ".getOrCreate()\n",
    "        )"
   ]
  },
  {
   "cell_type": "code",
   "execution_count": null,
   "id": "a78f202f-6829-42da-8f50-e1e65a5d05b5",
   "metadata": {},
   "outputs": [],
   "source": [
    "autores = spark.read.parquet('./Downloads/DATASETS/DATASETS/AUTORES.parquet' , sep =\";\",inferSchema=True, header= True)\n",
    "livros = spark.read.parquet('./Downloads/DATASETS/DATASETS/LIVROS.parquet' , sep =\";\",inferSchema=True, header= True)\n",
    "clientes = spark.read.parquet('./Downloads/DATASETS/DATASETS/CLIENTES.parquet' , sep =\";\",inferSchema=True, header= True)\n",
    "compras = spark.read.parquet('./Downloads/DATASETS/DATASETS/COMPRAS.parquet' , sep =\";\",inferSchema=True, header= True)"
   ]
  },
  {
   "cell_type": "code",
   "execution_count": null,
   "id": "e2aef31d-a55b-4290-9947-d7bcf320b834",
   "metadata": {},
   "outputs": [],
   "source": [
    "livros"
   ]
  },
  {
   "cell_type": "code",
   "execution_count": null,
   "id": "25c2d6a4-f62b-4b64-aefe-b84a91271e6a",
   "metadata": {},
   "outputs": [],
   "source": [
    "autores.join(other=livros , on='id' , how='right' )"
   ]
  },
  {
   "cell_type": "code",
   "execution_count": null,
   "id": "12e08964-8ec9-450f-a787-d6a5835ea2e2",
   "metadata": {},
   "outputs": [],
   "source": [
    "autores.join(livros, \"id\", \"inner\")"
   ]
  },
  {
   "cell_type": "code",
   "execution_count": null,
   "id": "0358738e-4240-4601-a29b-e94f8b3ee391",
   "metadata": {},
   "outputs": [],
   "source": [
    "compras.join(livros, compras.cd_livro == livros.id, \"inner\")\n"
   ]
  },
  {
   "cell_type": "code",
   "execution_count": null,
   "id": "f446243a-8a88-486b-858e-ba349f34b948",
   "metadata": {},
   "outputs": [],
   "source": [
    "df2.filter(df2.cartao_numero.isin(\"4584838924750\"))"
   ]
  },
  {
   "cell_type": "code",
   "execution_count": null,
   "id": "cbffdf61-3efd-4235-84fc-0c7d0100ec5f",
   "metadata": {},
   "outputs": [],
   "source": [
    "cond = [compras.cd_livro == livros.id, livros.preco < 20, compras.cartao_bandeira == \"Discover\"]"
   ]
  },
  {
   "cell_type": "code",
   "execution_count": null,
   "id": "10190c79-e2c5-42ec-8cba-35356fbf4300",
   "metadata": {},
   "outputs": [],
   "source": [
    "compras.join(livros, cond, 'inner')"
   ]
  },
  {
   "cell_type": "code",
   "execution_count": null,
   "id": "c5565fc1-77c0-49c8-92cf-d20a9869091d",
   "metadata": {},
   "outputs": [],
   "source": [
    "df1 = autores.where(autores.id.isin('106042959','017551704','054099410'))\n",
    "df1"
   ]
  },
  {
   "cell_type": "code",
   "execution_count": null,
   "id": "de955323-63fb-4191-a2ea-ef911b50baee",
   "metadata": {},
   "outputs": [],
   "source": [
    "df2 = livros.where(livros.id.isin('017551704'))\n",
    "df2"
   ]
  },
  {
   "cell_type": "code",
   "execution_count": null,
   "id": "a96133fb-dbca-41a9-a016-f1503586d641",
   "metadata": {},
   "outputs": [],
   "source": [
    "#inner\n",
    "df1.join(df2, 'id','inner')"
   ]
  },
  {
   "cell_type": "code",
   "execution_count": null,
   "id": "83d89890-1f49-4aa1-931b-7a849a64d998",
   "metadata": {},
   "outputs": [],
   "source": [
    "#left\n",
    "df1.join(df2, 'id','left')"
   ]
  },
  {
   "cell_type": "code",
   "execution_count": null,
   "id": "b463b47f-f00d-4659-b83c-08f610ea7617",
   "metadata": {},
   "outputs": [],
   "source": [
    "#right\n",
    "df1.join(df2, 'id','right')"
   ]
  },
  {
   "cell_type": "code",
   "execution_count": null,
   "id": "391e475a-9900-43cc-92d5-b73fbc1b9b09",
   "metadata": {},
   "outputs": [],
   "source": [
    "df3 = livros.where(livros.id.isin('017551704','028125446','049806867'))\n",
    "df3"
   ]
  },
  {
   "cell_type": "code",
   "execution_count": null,
   "id": "d9a2849e-8478-448e-be0f-e52bf4f076cc",
   "metadata": {},
   "outputs": [],
   "source": [
    "#full\n",
    "df1.join(df3, 'id','full')"
   ]
  },
  {
   "cell_type": "code",
   "execution_count": null,
   "id": "ce724046-dc8e-4ef7-9172-dd7b36a6e89e",
   "metadata": {},
   "outputs": [],
   "source": [
    "#cross duplicar registro de outra tabela\n",
    "df1.join(df3, how='cross').orderBy('titulo')"
   ]
  },
  {
   "cell_type": "code",
   "execution_count": null,
   "id": "54e10395-a92b-4ba4-ad5d-058fdfd7eef6",
   "metadata": {},
   "outputs": [],
   "source": [
    "df1"
   ]
  },
  {
   "cell_type": "code",
   "execution_count": null,
   "id": "7d8c656a-eff0-483e-b68e-2c5f38580d6e",
   "metadata": {},
   "outputs": [],
   "source": [
    "df1.join(df3, 'id', 'inner')"
   ]
  },
  {
   "cell_type": "code",
   "execution_count": null,
   "id": "8da0e572-7872-41c3-bf41-788fc78a860a",
   "metadata": {},
   "outputs": [],
   "source": [
    "df3"
   ]
  },
  {
   "cell_type": "code",
   "execution_count": null,
   "id": "752124d1-e702-4fe4-ae2f-3bbf711b0e0f",
   "metadata": {},
   "outputs": [],
   "source": [
    "#anti join\n",
    "df1.join(df3, 'id','anti')"
   ]
  },
  {
   "cell_type": "code",
   "execution_count": null,
   "id": "19b178db-5191-4005-8161-17e8b4a45c4a",
   "metadata": {},
   "outputs": [],
   "source": [
    "df4 = df3.union(df3)\n",
    "df4"
   ]
  },
  {
   "cell_type": "code",
   "execution_count": null,
   "id": "23fb79ae-a990-4da9-b5a2-aeb2e55913e4",
   "metadata": {},
   "outputs": [],
   "source": [
    "#semi join\n",
    "df1.join(df4, 'id' , 'semi')"
   ]
  },
  {
   "cell_type": "code",
   "execution_count": null,
   "id": "d67a341e-d4b5-444b-91dd-e2384517d002",
   "metadata": {},
   "outputs": [],
   "source": [
    "df1.join(df4, 'id' , 'inner')"
   ]
  },
  {
   "cell_type": "code",
   "execution_count": null,
   "id": "60fa79fe-7847-4505-88d0-3b60bbb529fd",
   "metadata": {},
   "outputs": [],
   "source": [
    "compras"
   ]
  },
  {
   "cell_type": "code",
   "execution_count": null,
   "id": "c2da9405-4265-4d35-8bbb-6974b7d79de1",
   "metadata": {},
   "outputs": [],
   "source": [
    "livros"
   ]
  },
  {
   "cell_type": "code",
   "execution_count": null,
   "id": "9077a478-556c-4d67-bd4c-a70820a4cdf0",
   "metadata": {},
   "outputs": [],
   "source": [
    "compras.alias(\"cp\").join(livros, compras.cd_livro == livros.id, 'inner').select(\"cnpj_editora\",\"cartao_data_expiracao\", \"cp.id\").where(\"cartao_data_expiracao\", F.date_format() )\n",
    "#compras.join(livros, compras.cd_livro == livros.id, 'inner').select(\"cnpj_editora\",\"cartao_data_expiracao\", compras.id)\n",
    "# .select(livros.cnpj_editora\t, compras.cartao_data_expiracao)"
   ]
  },
  {
   "cell_type": "code",
   "execution_count": null,
   "id": "51118798-4579-4806-ba2e-4dec599e0732",
   "metadata": {},
   "outputs": [],
   "source": [
    "compras.createOrReplaceTempView(\"compras\")"
   ]
  },
  {
   "cell_type": "code",
   "execution_count": null,
   "id": "732117bc-3f5f-4502-971c-c825b7f69501",
   "metadata": {},
   "outputs": [],
   "source": []
  }
 ],
 "metadata": {
  "kernelspec": {
   "display_name": "Python 3 (ipykernel)",
   "language": "python",
   "name": "python3"
  },
  "language_info": {
   "codemirror_mode": {
    "name": "ipython",
    "version": 3
   },
   "file_extension": ".py",
   "mimetype": "text/x-python",
   "name": "python",
   "nbconvert_exporter": "python",
   "pygments_lexer": "ipython3",
   "version": "3.12.4"
  }
 },
 "nbformat": 4,
 "nbformat_minor": 5
}
